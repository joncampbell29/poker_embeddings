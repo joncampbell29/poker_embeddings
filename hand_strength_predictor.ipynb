{
 "cells": [
  {
   "cell_type": "code",
   "execution_count": 58,
   "id": "05b6629a",
   "metadata": {},
   "outputs": [],
   "source": [
    "import pandas as pd\n",
    "import numpy as np\n",
    "import torch\n",
    "import torch.nn as nn\n",
    "from torch.utils.data import Dataset, DataLoader\n",
    "from poker_utils.constants import SUITS_DICT, HANDS_DICT, DECK_DICT, HANDS\n",
    "from poker_utils.hands import normalize_hand\n",
    "from sklearn.model_selection import train_test_split\n",
    "from treys import Card, Evaluator\n",
    "import random\n",
    "from poker_utils.model import plot_train_loss\n",
    "import torch.nn.functional as F"
   ]
  },
  {
   "cell_type": "code",
   "execution_count": 2,
   "id": "f031ec31",
   "metadata": {},
   "outputs": [],
   "source": [
    "all_hands_df = pd.DataFrame(HANDS, columns=['card1','card2'])\n",
    "all_hands_df['card1_treys'] = all_hands_df['card1'].apply(lambda x: Card.new(x))\n",
    "all_hands_df['card2_treys'] = all_hands_df['card2'].apply(lambda x: Card.new(x))\n",
    "all_hands_df['hands_norm'] = all_hands_df.apply(lambda x: normalize_hand((x['card1'],x['card2'])), axis=1)\n",
    "all_hands_df['card1_id'] = all_hands_df['card1'].apply(lambda x: {j:i for i,j in DECK_DICT.items()}[x])\n",
    "all_hands_df['card2_id'] = all_hands_df['card2'].apply(lambda x: {j:i for i,j in DECK_DICT.items()}[x])\n",
    "all_hands_df['hands_norm_id'] = all_hands_df['hands_norm'].apply(lambda x: {j:i for i,j in HANDS_DICT.items()}[x])\n",
    "all_hands_df['suit1_id']  = all_hands_df['card1_id'] % 4\n",
    "all_hands_df['suit2_id']  = all_hands_df['card2_id'] % 4\n"
   ]
  },
  {
   "cell_type": "code",
   "execution_count": 3,
   "id": "6a7dcc93",
   "metadata": {},
   "outputs": [
    {
     "data": {
      "text/plain": [
       "270853"
      ]
     },
     "execution_count": 3,
     "metadata": {},
     "output_type": "execute_result"
    }
   ],
   "source": [
    "all_hands_df.iloc[500]['card1_treys'].item()"
   ]
  },
  {
   "cell_type": "code",
   "execution_count": 4,
   "id": "c6eb8dd2",
   "metadata": {},
   "outputs": [],
   "source": [
    "# [Card.new(x) for x in DECK_DICT.values()]"
   ]
  },
  {
   "cell_type": "code",
   "execution_count": 54,
   "id": "4e48b498",
   "metadata": {},
   "outputs": [],
   "source": [
    "class HandStrengthDataset(Dataset):\n",
    "    def __init__(self, all_hands_df, deck_dict, train=None):\n",
    "        super().__init__()\n",
    "        self.treys_mapper = {card_idx: Card.new(card_str) for card_idx, card_str in deck_dict.items()}\n",
    "        self.evaluator = Evaluator()\n",
    "        self.all_hands_df = all_hands_df.reset_index(drop=True)\n",
    "        indexes = list(self.all_hands_df.index)\n",
    "        self.deck = set(range(52))\n",
    "        remain_cards = []\n",
    "        for _, row in all_hands_df.iterrows():\n",
    "            remaining = list(self.deck - {row['card1_id'], row['card2_id']})\n",
    "            remain_cards.append(sorted(remaining))   \n",
    "        self.remaining_cards = np.array(remain_cards, dtype=np.int64)\n",
    "        \n",
    "        if train is not None:\n",
    "            train_indexes, val_indexes = train_test_split(indexes, test_size=0.2, random_state=29)\n",
    "            if train:\n",
    "                self.data = train_indexes\n",
    "            else:\n",
    "                self.data = val_indexes\n",
    "        else:\n",
    "            self.data = indexes\n",
    "        \n",
    "    def __len__(self):\n",
    "        return len(self.data)\n",
    "    \n",
    "    def __getitem__(self, item):\n",
    "        \n",
    "        idx = self.data[item]\n",
    "        row = self.all_hands_df.iloc[idx]\n",
    "        hand_id = row['hands_norm_id']\n",
    "        suit1_id = row['suit1_id']\n",
    "        suit2_id = row['suit2_id']\n",
    "        board_size = random.randint(3, 5)\n",
    "        board = random.sample(list(self.remaining_cards[idx]), board_size)\n",
    "        board_treys = [self.treys_mapper[x] for x in board]\n",
    "        hand_treys = [row['card1_treys'].item(), row['card2_treys'].item()]\n",
    "        try:\n",
    "            strength = self.evaluator.evaluate(hand_treys, board_treys)\n",
    "        except Exception as e:\n",
    "            print(f\"idx:{idx}\")\n",
    "            print(f\"hand: {hand_treys}\")\n",
    "            print(f\"board: {board_treys}\")\n",
    "            print(e)\n",
    "        strength_norm = (7462 - strength) / 7461.0\n",
    "        board += [-1] * (5 - board_size) # pad board\n",
    "        return (\n",
    "            torch.tensor(hand_id, dtype=torch.long),\n",
    "            torch.tensor(suit1_id, dtype=torch.long),\n",
    "            torch.tensor(suit2_id, dtype=torch.long),\n",
    "            torch.tensor(board),\n",
    "            torch.tensor(strength_norm, dtype=torch.float32)\n",
    "        )\n",
    "        \n"
   ]
  },
  {
   "cell_type": "code",
   "execution_count": 55,
   "id": "cdade221",
   "metadata": {},
   "outputs": [],
   "source": [
    "train_dataset = HandStrengthDataset(all_hands_df, deck_dict=DECK_DICT, train=True)\n",
    "val_dataset = HandStrengthDataset(all_hands_df, deck_dict=DECK_DICT, train=False)\n",
    "full_dataset = HandStrengthDataset(all_hands_df, deck_dict=DECK_DICT)\n",
    "trainloader = DataLoader(train_dataset, batch_size=128, shuffle=True)\n",
    "valloader = DataLoader(val_dataset, batch_size=128, shuffle=False)\n",
    "fullloader = DataLoader(full_dataset, batch_size=128, shuffle=False)"
   ]
  },
  {
   "cell_type": "code",
   "execution_count": 71,
   "id": "050dabb8",
   "metadata": {},
   "outputs": [],
   "source": [
    "class HandSuitEncoder(nn.Module):\n",
    "    def __init__(self, preflop_embeddings, suit_dim=4, output_dim=16, freeze_hand_emb=True):\n",
    "        super().__init__()\n",
    "        self.suit_embedder = nn.Embedding(4, suit_dim)\n",
    "        self.hand_embedder = nn.Embedding.from_pretrained(preflop_embeddings, freeze=freeze_hand_emb)\n",
    "        self.model = nn.Sequential(\n",
    "            nn.Linear(16 + suit_dim*2, 32),\n",
    "            nn.LeakyReLU(),\n",
    "            nn.Linear(32, output_dim)\n",
    "        )\n",
    "        \n",
    "    def forward(self, hand_id, suit1_id, suit2_id):\n",
    "        preflop_emb = self.hand_embedder(hand_id)\n",
    "        suit1_emb = self.suit_embedder(suit1_id)\n",
    "        suit2_emb = self.suit_embedder(suit2_id)\n",
    "        suit_vec = torch.cat([suit1_emb, suit2_emb], dim=1)\n",
    "        x = torch.cat([preflop_emb, suit_vec], dim=1)\n",
    "        return self.model(x)\n",
    "    \n",
    "        "
   ]
  },
  {
   "cell_type": "code",
   "execution_count": 72,
   "id": "b8843d71",
   "metadata": {},
   "outputs": [],
   "source": [
    "class TransformerBoardEncoder(nn.Module):\n",
    "    def __init__(self, card_dim=16, board_dim=32, num_heads=4, num_layers=2):\n",
    "        super().__init__()\n",
    "\n",
    "        self.card_embedder = nn.Embedding(52, card_dim)\n",
    "        self.position_embedder = nn.Embedding(6, card_dim)\n",
    "\n",
    "        self.cls_token = nn.Parameter(torch.randn(1, 1, card_dim))\n",
    "\n",
    "        encoder_layer = nn.TransformerEncoderLayer(\n",
    "            d_model=card_dim,\n",
    "            nhead=num_heads,\n",
    "            dim_feedforward=64,\n",
    "            batch_first=True\n",
    "        )\n",
    "        self.transformer = nn.TransformerEncoder(encoder_layer, num_layers=num_layers)\n",
    "\n",
    "        self.output_proj = nn.Linear(card_dim, board_dim)\n",
    "\n",
    "    def forward(self, board_ids):\n",
    "        \"\"\"\n",
    "        card_ids: [B, L] where L <= 5, -1 for padding\n",
    "        \"\"\"\n",
    "        B, L = board_ids.shape\n",
    "\n",
    "        mask = (board_ids != -1)\n",
    "        safe_ids = board_ids.clone()\n",
    "        safe_ids[~mask] = 0\n",
    "\n",
    "        card_embs = self.card_embedder(safe_ids)\n",
    "\n",
    "        cls_token = self.cls_token.expand(B, 1, -1)\n",
    "        x = torch.cat([cls_token, card_embs], dim=1)\n",
    "\n",
    "        pos_ids = torch.arange(L + 1).unsqueeze(0).expand(B, L + 1)\n",
    "        pos_embs = self.position_embedder(pos_ids)\n",
    "        x = x + pos_embs\n",
    "\n",
    "        pad_mask = torch.cat([torch.zeros(B, 1, dtype=torch.bool), ~mask], dim=1)\n",
    "\n",
    "        out = self.transformer(x, src_key_padding_mask=pad_mask)\n",
    "\n",
    "        cls_out = out[:, 0, :]\n",
    "        return self.output_proj(cls_out) "
   ]
  },
  {
   "cell_type": "code",
   "execution_count": 73,
   "id": "cb050db0",
   "metadata": {},
   "outputs": [],
   "source": [
    "class HandStrengthPredictor(nn.Module):\n",
    "    def __init__(self, suit_dim=4, hand_encoder_output_dim=16,\n",
    "                 card_dim=16, board_dim=32, num_heads=4, num_layers=2, freeze_hand_emb=True):\n",
    "        super().__init__()\n",
    "        self.hand_encoder = HandSuitEncoder(\n",
    "            torch.load(\"model_weights/preflop_embeddings.pt\", weights_only=True).float(),\n",
    "            suit_dim=suit_dim,\n",
    "            output_dim=hand_encoder_output_dim,\n",
    "            freeze_hand_emb=freeze_hand_emb\n",
    "            )\n",
    "        self.board_encoder = TransformerBoardEncoder(\n",
    "            card_dim=card_dim, board_dim=board_dim, num_heads=num_heads, num_layers=num_layers\n",
    "            )\n",
    "        self.model = nn.Sequential(\n",
    "            nn.Linear(hand_encoder_output_dim+board_dim, 64),\n",
    "            nn.LeakyReLU(),\n",
    "            nn.Linear(64, 32),\n",
    "            nn.LeakyReLU(),\n",
    "            nn.Linear(32, 16),\n",
    "            nn.LeakyReLU(),\n",
    "            nn.Linear(16,1)\n",
    "        )\n",
    "    \n",
    "    def forward(self, hand_id, suit1_id, suit2_id, board_ids):\n",
    "        hand_encoded = self.hand_encoder(hand_id, suit1_id, suit2_id)\n",
    "        board_encoded = self.board_encoder(board_ids)\n",
    "        x = torch.cat([hand_encoded, board_encoded], dim=1)\n",
    "        return self.model(x)\n",
    "    "
   ]
  },
  {
   "cell_type": "code",
   "execution_count": 83,
   "id": "0c8c9b0b",
   "metadata": {},
   "outputs": [],
   "source": [
    "def train_model(model, trainloader, valloader, optimizer, epochs=50):\n",
    "    train_losses = []\n",
    "    val_losses = []\n",
    "    for epoch in range(epochs):\n",
    "        tot_train_loss = 0\n",
    "        model.train()\n",
    "        for batch in trainloader:\n",
    "            optimizer.zero_grad()\n",
    "            hand_id, suit1_id, suit2_id, board, strength = batch\n",
    "            strength_pred = model(hand_id,suit1_id, suit2_id, board)\n",
    "            batch_loss = F.mse_loss(strength_pred, strength.unsqueeze(1))\n",
    "            batch_loss.backward()\n",
    "            optimizer.step()\n",
    "            tot_train_loss += batch_loss.item()\n",
    "        avg_train_loss = tot_train_loss / len(trainloader)\n",
    "        train_losses.append(avg_train_loss)\n",
    "    \n",
    "        model.eval()\n",
    "        with torch.no_grad():\n",
    "            tot_val_loss = 0\n",
    "            for batch in valloader:\n",
    "                hand_id, suit1_id, suit2_id, board, strength = batch\n",
    "                strength_pred = model(hand_id,suit1_id, suit2_id, board)\n",
    "                batch_loss = F.mse_loss(strength_pred, strength.unsqueeze(1))\n",
    "                tot_train_loss += batch_loss.item()\n",
    "            avg_val_loss = tot_train_loss / len(valloader)\n",
    "            val_losses.append(avg_val_loss)\n",
    "        \n",
    "            if epoch % (epochs//5) == 0:\n",
    "                print(f\"Epoch {epoch+1}/{epochs}, Train Loss: {avg_train_loss:.4f}, Val Loss: {avg_val_loss:.4f}\")\n",
    "                \n",
    "    return train_losses, val_losses"
   ]
  },
  {
   "cell_type": "code",
   "execution_count": 86,
   "id": "98e13f3c",
   "metadata": {},
   "outputs": [],
   "source": [
    "from itertools import product"
   ]
  },
  {
   "cell_type": "code",
   "execution_count": null,
   "id": "ee9876df",
   "metadata": {},
   "outputs": [],
   "source": [
    "#{'suit_dim': 8, \n",
    "# 'hand_encoder_output_dim': 16, \n",
    "# 'card_dim': 64, \n",
    "# 'board_dim': 64, \n",
    "# 'num_heads': 4, \n",
    "# 'num_layers': 4}"
   ]
  },
  {
   "cell_type": "code",
   "execution_count": 91,
   "id": "f2f3f7e5",
   "metadata": {},
   "outputs": [
    {
     "name": "stdout",
     "output_type": "stream",
     "text": [
      "Epoch 1/30, Train Loss: 0.1328, Val Loss: 0.4763\n",
      "Epoch 7/30, Train Loss: 0.0508, Val Loss: 0.2022\n",
      "Epoch 13/30, Train Loss: 0.0469, Val Loss: 0.1846\n",
      "Epoch 19/30, Train Loss: 0.0461, Val Loss: 0.1846\n",
      "Epoch 25/30, Train Loss: 0.0458, Val Loss: 0.2048\n"
     ]
    }
   ],
   "source": [
    "model = HandStrengthPredictor(\n",
    "        suit_dim=8,\n",
    "        hand_encoder_output_dim=16,\n",
    "        card_dim=64,\n",
    "        board_dim=64,\n",
    "        num_heads=4, \n",
    "        num_layers=4, \n",
    "        freeze_hand_emb=False\n",
    "        )\n",
    "optimizer = torch.optim.Adam(model.parameters(), lr=0.001)\n",
    "    \n",
    "train_losses, val_losses = train_model(\n",
    "        model=model,\n",
    "        trainloader=trainloader,\n",
    "        valloader=valloader,\n",
    "        optimizer=optimizer,\n",
    "        epochs=30\n",
    "        )"
   ]
  },
  {
   "cell_type": "code",
   "execution_count": 92,
   "id": "6da749e7",
   "metadata": {},
   "outputs": [
    {
     "data": {
      "image/png": "[encoded data removed]",
      "text/plain": [
       "<Figure size 500x500 with 1 Axes>"
      ]
     },
     "metadata": {},
     "output_type": "display_data"
    }
   ],
   "source": [
    "plot_train_loss(train_losses, val_losses)"
   ]
  },
  {
   "cell_type": "code",
   "execution_count": 87,
   "id": "cbfb3d0c",
   "metadata": {},
   "outputs": [],
   "source": [
    "param_grid = {\n",
    "    \"suit_dim\": [4, 8, 16],\n",
    "    \"hand_encoder_output_dim\": [16, 32],\n",
    "    \"card_dim\": [16, 32, 64],\n",
    "    \"board_dim\": [32, 64],\n",
    "    \"num_heads\": [4, 8],\n",
    "    \"num_layers\": [2, 4]\n",
    "}\n",
    "keys = list(param_grid.keys())\n",
    "combinations = list(product(*[param_grid[k] for k in keys]))"
   ]
  },
  {
   "cell_type": "code",
   "execution_count": null,
   "id": "41eaf63b",
   "metadata": {},
   "outputs": [],
   "source": [
    "results = []\n",
    "for combo in combinations:\n",
    "    params = dict(zip(keys, combo))\n",
    "    print(f\"Testing: {params}\")\n",
    "    \n",
    "    model = HandStrengthPredictor(\n",
    "        suit_dim=params[\"suit_dim\"],\n",
    "        hand_encoder_output_dim=params[\"hand_encoder_output_dim\"],\n",
    "        card_dim=params[\"card_dim\"],\n",
    "        board_dim=params[\"board_dim\"],\n",
    "        num_heads=params[\"num_heads\"], \n",
    "        num_layers=params[\"num_layers\"], \n",
    "        freeze_hand_emb=False\n",
    "        )\n",
    "    optimizer = torch.optim.Adam(model.parameters(), lr=0.001)\n",
    "    \n",
    "    train_losses, val_losses = train_model(\n",
    "        model=model,\n",
    "        trainloader=trainloader,\n",
    "        valloader=valloader,\n",
    "        optimizer=optimizer,\n",
    "        epochs=30\n",
    "        )\n",
    "    results.append((params, train_losses[-1], val_losses[-1]))\n"
   ]
  },
  {
   "cell_type": "code",
   "execution_count": null,
   "id": "aa85e9d1",
   "metadata": {},
   "outputs": [],
   "source": []
  },
  {
   "cell_type": "code",
   "execution_count": null,
   "id": "54b82399",
   "metadata": {},
   "outputs": [],
   "source": []
  }
 ],
 "metadata": {
  "kernelspec": {
   "display_name": "poker_env",
   "language": "python",
   "name": "python3"
  },
  "language_info": {
   "codemirror_mode": {
    "name": "ipython",
    "version": 3
   },
   "file_extension": ".py",
   "mimetype": "text/x-python",
   "name": "python",
   "nbconvert_exporter": "python",
   "pygments_lexer": "ipython3",
   "version": "3.10.16"
  }
 },
 "nbformat": 4,
 "nbformat_minor": 5
}
