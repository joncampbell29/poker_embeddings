{
 "cells": [
  {
   "cell_type": "code",
   "execution_count": 162,
   "metadata": {},
   "outputs": [],
   "source": [
    "from constants import DECK\n",
    "import pandas as pd\n",
    "import numpy as np\n",
    "from simulation import simulate_hand\n",
    "from itertools import combinations\n",
    "from utils import card_distance, Card, Hand\n",
    "import torch\n",
    "from torch.utils.data import DataLoader, Dataset\n",
    "import matplotlib.pyplot as plt\n",
    "import seaborn as sns"
   ]
  },
  {
   "cell_type": "code",
   "execution_count": null,
   "metadata": {},
   "outputs": [],
   "source": [
    "# num_sims = 1_000\n",
    "# num_villans = 1\n",
    "# res = []\n",
    "# for hero_hole_cards in combinations(DECK, 2):\n",
    "#     win_rates = simulate_hand(hero_hole_cards, num_villans=num_villans, num_sims=num_sims)\n",
    "#     flop_win_rate, turn_win_rate, river_win_rate = win_rates\n",
    "#     res.append({\n",
    "#         'hole_card1': sorted(hero_hole_cards)[0],\n",
    "#         'hole_card2': sorted(hero_hole_cards)[1],\n",
    "#         'flop_win_rate': flop_win_rate,\n",
    "#         'turn_win_rate': turn_win_rate,\n",
    "#         'river_win_rate': river_win_rate\n",
    "#     })\n",
    "# data = pd.DataFrame(res)\n",
    "# data.to_csv(\"data/simulation_data.csv,index=False\")"
   ]
  },
  {
   "cell_type": "code",
   "execution_count": 20,
   "metadata": {},
   "outputs": [],
   "source": [
    "data = pd.read_csv('data/simulation_data.csv')\n",
    "data.drop('Unnamed: 0',axis=1, inplace=True)"
   ]
  },
  {
   "cell_type": "code",
   "execution_count": 22,
   "metadata": {},
   "outputs": [],
   "source": [
    "data['connectedness'] = data.apply(\n",
    "    lambda x: card_distance([Card(x.hole_card1), Card(x.hole_card2)]), \n",
    "    axis=1)\n",
    "\n",
    "data['pair'] = (data['connectedness'] == 0).astype(int)\n",
    "data['suited'] = data.apply(\n",
    "    lambda x: int(Card(x.hole_card1).suit_idx == Card(x.hole_card2).suit_idx),\n",
    "    axis=1)"
   ]
  },
  {
   "cell_type": "code",
   "execution_count": 23,
   "metadata": {},
   "outputs": [
    {
     "data": {
      "text/html": [
       "<div>\n",
       "<style scoped>\n",
       "    .dataframe tbody tr th:only-of-type {\n",
       "        vertical-align: middle;\n",
       "    }\n",
       "\n",
       "    .dataframe tbody tr th {\n",
       "        vertical-align: top;\n",
       "    }\n",
       "\n",
       "    .dataframe thead th {\n",
       "        text-align: right;\n",
       "    }\n",
       "</style>\n",
       "<table border=\"1\" class=\"dataframe\">\n",
       "  <thead>\n",
       "    <tr style=\"text-align: right;\">\n",
       "      <th></th>\n",
       "      <th>hole_card1</th>\n",
       "      <th>hole_card2</th>\n",
       "      <th>flop_win_rate</th>\n",
       "      <th>turn_win_rate</th>\n",
       "      <th>river_win_rate</th>\n",
       "      <th>connectedness</th>\n",
       "      <th>pair</th>\n",
       "      <th>suited</th>\n",
       "    </tr>\n",
       "  </thead>\n",
       "  <tbody>\n",
       "    <tr>\n",
       "      <th>0</th>\n",
       "      <td>2c</td>\n",
       "      <td>2d</td>\n",
       "      <td>0.677</td>\n",
       "      <td>0.594</td>\n",
       "      <td>0.499</td>\n",
       "      <td>0</td>\n",
       "      <td>1</td>\n",
       "      <td>0</td>\n",
       "    </tr>\n",
       "    <tr>\n",
       "      <th>1</th>\n",
       "      <td>2c</td>\n",
       "      <td>2h</td>\n",
       "      <td>0.671</td>\n",
       "      <td>0.587</td>\n",
       "      <td>0.487</td>\n",
       "      <td>0</td>\n",
       "      <td>1</td>\n",
       "      <td>0</td>\n",
       "    </tr>\n",
       "    <tr>\n",
       "      <th>2</th>\n",
       "      <td>2c</td>\n",
       "      <td>2s</td>\n",
       "      <td>0.671</td>\n",
       "      <td>0.585</td>\n",
       "      <td>0.499</td>\n",
       "      <td>0</td>\n",
       "      <td>1</td>\n",
       "      <td>0</td>\n",
       "    </tr>\n",
       "    <tr>\n",
       "      <th>3</th>\n",
       "      <td>2c</td>\n",
       "      <td>3c</td>\n",
       "      <td>0.235</td>\n",
       "      <td>0.290</td>\n",
       "      <td>0.326</td>\n",
       "      <td>1</td>\n",
       "      <td>0</td>\n",
       "      <td>1</td>\n",
       "    </tr>\n",
       "    <tr>\n",
       "      <th>4</th>\n",
       "      <td>2c</td>\n",
       "      <td>3d</td>\n",
       "      <td>0.233</td>\n",
       "      <td>0.276</td>\n",
       "      <td>0.303</td>\n",
       "      <td>1</td>\n",
       "      <td>0</td>\n",
       "      <td>0</td>\n",
       "    </tr>\n",
       "  </tbody>\n",
       "</table>\n",
       "</div>"
      ],
      "text/plain": [
       "  hole_card1 hole_card2  flop_win_rate  turn_win_rate  river_win_rate  \\\n",
       "0         2c         2d          0.677          0.594           0.499   \n",
       "1         2c         2h          0.671          0.587           0.487   \n",
       "2         2c         2s          0.671          0.585           0.499   \n",
       "3         2c         3c          0.235          0.290           0.326   \n",
       "4         2c         3d          0.233          0.276           0.303   \n",
       "\n",
       "   connectedness  pair  suited  \n",
       "0              0     1       0  \n",
       "1              0     1       0  \n",
       "2              0     1       0  \n",
       "3              1     0       1  \n",
       "4              1     0       0  "
      ]
     },
     "execution_count": 23,
     "metadata": {},
     "output_type": "execute_result"
    }
   ],
   "source": [
    "data.head()"
   ]
  },
  {
   "cell_type": "code",
   "execution_count": 143,
   "metadata": {},
   "outputs": [],
   "source": [
    "class PokerDataset(Dataset):\n",
    "    def __init__(self, data):\n",
    "        hole_card_list = sorted([tuple(sorted(Hand([c1,c2]).vector.tolist())) for c1, c2 in combinations(DECK,2)])\n",
    "        self.hole_card_idx_dict = {hole_cards: i for i, hole_cards in enumerate(hole_card_list)}\n",
    "        self.data = data\n",
    "        \n",
    "    def __len__(self):\n",
    "        return self.data.shape[0]\n",
    "    \n",
    "    def __getitem__(self, index):\n",
    "        row = self.data.iloc[index]\n",
    "        attributes = [row['suited'], row['connectedness'], row['pair']]\n",
    "        hole_cards = Hand([row['hole_card1'], row['hole_card2']]).vector.tolist()\n",
    "        hand = tuple(sorted(hole_cards))\n",
    "        hand_idx = self.hole_card_idx_dict[hand]\n",
    "        win_percentage = row['river_win_rate']\n",
    "        return (\n",
    "            torch.tensor(hand_idx),\n",
    "            torch.tensor(hand),\n",
    "            torch.tensor(attributes, dtype=torch.float32), \n",
    "            torch.tensor(win_percentage, dtype=torch.float32)\n",
    "            )"
   ]
  },
  {
   "cell_type": "code",
   "execution_count": 144,
   "metadata": {},
   "outputs": [],
   "source": [
    "dataset = PokerDataset(data)\n",
    "dataloader = DataLoader(dataset, batch_size=32, shuffle=True)"
   ]
  },
  {
   "cell_type": "code",
   "execution_count": 59,
   "metadata": {},
   "outputs": [],
   "source": [
    "import torch.nn as nn"
   ]
  },
  {
   "cell_type": "code",
   "execution_count": 145,
   "metadata": {},
   "outputs": [],
   "source": [
    "ex_batch = next(iter(dataloader))"
   ]
  },
  {
   "cell_type": "code",
   "execution_count": 146,
   "metadata": {},
   "outputs": [],
   "source": [
    "class CardEmbeddingModel(nn.Module):\n",
    "    def __init__(self, embedding_dim=2):\n",
    "        super().__init__()\n",
    "        self.embedder = nn.Embedding(1326, embedding_dim)\n",
    "    def forward(self, x):\n",
    "        x_embed = self.embedder(x)\n",
    "        return x_embed"
   ]
  },
  {
   "cell_type": "code",
   "execution_count": 147,
   "metadata": {},
   "outputs": [
    {
     "data": {
      "text/plain": [
       "tensor([0.4860, 0.5410, 0.3730, 0.5080, 0.4530, 0.2790, 0.5760, 0.4390, 0.3900,\n",
       "        0.4790, 0.4740, 0.5550, 0.5960, 0.3090, 0.5840, 0.5630, 0.5000, 0.5690,\n",
       "        0.6090, 0.6710, 0.5070, 0.4350, 0.3860, 0.4730, 0.5890, 0.5210, 0.4810,\n",
       "        0.3760, 0.6160, 0.7120, 0.4080, 0.6010])"
      ]
     },
     "execution_count": 147,
     "metadata": {},
     "output_type": "execute_result"
    }
   ],
   "source": [
    "ex_batch[3]"
   ]
  },
  {
   "cell_type": "code",
   "execution_count": 148,
   "metadata": {},
   "outputs": [],
   "source": [
    "class HandWinPredictor(nn.Module):\n",
    "    def __init__(self, card_embedding_dim=2, hidden_dims=[128, 64, 32]):\n",
    "        super(HandWinPredictor, self).__init__()\n",
    "        \n",
    "        self.encoder = CardEmbeddingModel(card_embedding_dim)\n",
    "        \n",
    "        layers = []\n",
    "        prev_dim = card_embedding_dim + 3\n",
    "        for dim in hidden_dims:\n",
    "            layers.append(nn.Linear(prev_dim, dim))\n",
    "            layers.append(nn.ReLU())\n",
    "            layers.append(nn.BatchNorm1d(dim))\n",
    "            prev_dim = dim\n",
    "        \n",
    "        self.hidden_layers = nn.Sequential(*layers)\n",
    "        self.output_layer = nn.Linear(hidden_dims[-1], 1)\n",
    "        self.sigmoid = nn.Sigmoid()\n",
    "    \n",
    "    def forward(self, hole_card_idx, hole_card_attributes):\n",
    "        hole_card_embedding = self.encoder(hole_card_idx)\n",
    "        x = torch.concat([hole_card_embedding, hole_card_attributes], dim=1)\n",
    "        x = self.hidden_layers(x)\n",
    "        x = self.output_layer(x)\n",
    "        return self.sigmoid(x)\n",
    "        "
   ]
  },
  {
   "cell_type": "code",
   "execution_count": 163,
   "metadata": {},
   "outputs": [],
   "source": [
    "model = HandWinPredictor(card_embedding_dim=2, hidden_dims=[128,64,32])\n",
    "optimizer = torch.optim.SGD(params=model.parameters(), lr=.001)\n",
    "loss_fn = nn.MSELoss()\n",
    "epochs=100"
   ]
  },
  {
   "cell_type": "code",
   "execution_count": 164,
   "metadata": {},
   "outputs": [
    {
     "name": "stdout",
     "output_type": "stream",
     "text": [
      "Epoch 5/100, Loss: 0.02684\n",
      "Epoch 10/100, Loss: 0.02046\n",
      "Epoch 15/100, Loss: 0.01688\n",
      "Epoch 20/100, Loss: 0.01497\n",
      "Epoch 25/100, Loss: 0.01361\n",
      "Epoch 30/100, Loss: 0.01287\n",
      "Epoch 35/100, Loss: 0.01178\n",
      "Epoch 40/100, Loss: 0.012\n",
      "Epoch 45/100, Loss: 0.01122\n",
      "Epoch 50/100, Loss: 0.01133\n",
      "Epoch 55/100, Loss: 0.01106\n",
      "Epoch 60/100, Loss: 0.0115\n",
      "Epoch 65/100, Loss: 0.01053\n",
      "Epoch 70/100, Loss: 0.01075\n",
      "Epoch 75/100, Loss: 0.01075\n",
      "Epoch 80/100, Loss: 0.0105\n",
      "Epoch 85/100, Loss: 0.01047\n",
      "Epoch 90/100, Loss: 0.01025\n",
      "Epoch 95/100, Loss: 0.01049\n",
      "Epoch 100/100, Loss: 0.01034\n"
     ]
    }
   ],
   "source": [
    "train_losses = []\n",
    "for epoch in range(epochs):\n",
    "    model.train()\n",
    "    total_loss = 0\n",
    "    for batch in dataloader:\n",
    "        hole_card_idx, hole_card, hole_card_attributes, targets = batch\n",
    "        optimizer.zero_grad()\n",
    "        outputs = model(hole_card_idx, hole_card_attributes)\n",
    "        loss = loss_fn(outputs, targets.unsqueeze(1))\n",
    "        loss.backward()\n",
    "        optimizer.step()\n",
    "            \n",
    "        total_loss += loss.item()\n",
    "    avg_loss = total_loss/len(dataloader)\n",
    "    train_losses.append(avg_loss)\n",
    "    if (epoch + 1) % 5 == 0:\n",
    "        print(f\"Epoch {epoch+1}/{epochs}, Loss: {round(avg_loss, 5)}\")\n",
    "    "
   ]
  },
  {
   "cell_type": "code",
   "execution_count": 165,
   "metadata": {},
   "outputs": [
    {
     "data": {
      "image/png": "[encoded data removed]",
      "text/plain": [
       "<Figure size 700x500 with 1 Axes>"
      ]
     },
     "metadata": {},
     "output_type": "display_data"
    }
   ],
   "source": [
    "plt.figure(figsize=(7, 5))\n",
    "sns.lineplot(x=list(range(epochs)), y=train_losses, label=\"Train Loss\", linestyle='-', linewidth=2)\n",
    "plt.title(\"Predictor Loss\", fontsize=14)\n",
    "plt.xlabel(\"Epochs\", fontsize=12)\n",
    "plt.ylabel(\"Loss\", fontsize=12)\n",
    "plt.legend(fontsize=10) \n",
    "plt.tight_layout()\n",
    "plt.show()"
   ]
  }
 ],
 "metadata": {
  "kernelspec": {
   "display_name": "ai_env",
   "language": "python",
   "name": "python3"
  },
  "language_info": {
   "codemirror_mode": {
    "name": "ipython",
    "version": 3
   },
   "file_extension": ".py",
   "mimetype": "text/x-python",
   "name": "python",
   "nbconvert_exporter": "python",
   "pygments_lexer": "ipython3",
   "version": "3.10.16"
  }
 },
 "nbformat": 4,
 "nbformat_minor": 2
}
