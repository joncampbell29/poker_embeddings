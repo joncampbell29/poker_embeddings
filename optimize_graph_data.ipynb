{
 "cells": [
  {
   "cell_type": "code",
   "execution_count": 1,
   "id": "0af578ad",
   "metadata": {},
   "outputs": [],
   "source": [
    "import torch\n",
    "from torch_geometric.data import Data\n",
    "from poker_embeddings.poker_utils.datasets import UCIrvineDataset\n",
    "import pandas as pd\n",
    "from sklearn.model_selection import train_test_split\n",
    "import timeit"
   ]
  },
  {
   "cell_type": "code",
   "execution_count": 2,
   "id": "8e744987",
   "metadata": {},
   "outputs": [],
   "source": [
    "def option1(cards_id, x, y):\n",
    "    edges = []\n",
    "    for i in range(len(cards_id)):\n",
    "        for j in range(i + 1, len(cards_id)):\n",
    "            id_i, id_j = cards_id[i].item(), cards_id[j].item()\n",
    "            rank_i, rank_j = id_i // 4, id_j // 4\n",
    "            suit_i, suit_j = id_i % 4, id_j % 4\n",
    "\n",
    "            if suit_i == suit_j or abs(rank_i - rank_j) <= 1 or abs(rank_i - rank_j) == 12:\n",
    "                edges += [(i, j), (j, i)]\n",
    "\n",
    "    if not edges:\n",
    "        edge_index = torch.empty((2, 0), dtype=torch.long)\n",
    "    else:\n",
    "        edge_index = torch.tensor(edges, dtype=torch.long).t().contiguous()\n",
    "\n",
    "    data = Data(x=x, edge_index=edge_index, y=y)\n",
    "    return data"
   ]
  },
  {
   "cell_type": "code",
   "execution_count": 3,
   "id": "405ee755",
   "metadata": {},
   "outputs": [],
   "source": [
    "def option2(cards_id, x, y):\n",
    "    card_pairs = torch.combinations(torch.arange(len(cards_id)), r=2, with_replacement=False)\n",
    "    id_i, id_j = cards_id[card_pairs[:, 0]], cards_id[card_pairs[:, 1]]\n",
    "    rank_i, rank_j = id_i // 4, id_j // 4\n",
    "    suit_i, suit_j = id_i % 4, id_j % 4\n",
    "\n",
    "    # Vectorized edge condition\n",
    "    same_suit = suit_i == suit_j\n",
    "    consecutive_rank = (abs(rank_i - rank_j) <= 1) | (abs(rank_i - rank_j) == 12)\n",
    "    valid_edges = same_suit | consecutive_rank\n",
    "\n",
    "    edges = card_pairs[valid_edges].T\n",
    "    if edges.numel() == 0:\n",
    "        edge_index = torch.empty((2, 0), dtype=torch.long)\n",
    "    else:\n",
    "        edge_index = edges.contiguous()\n",
    "\n",
    "    data = Data(x=x, edge_index=edge_index, y=y)\n",
    "    return data"
   ]
  },
  {
   "cell_type": "code",
   "execution_count": 4,
   "id": "2069a118",
   "metadata": {},
   "outputs": [],
   "source": [
    "def option3(cards_id, x, y):\n",
    "    ranks = cards_id // 4\n",
    "    suits = cards_id % 4\n",
    "    num_cards = cards_id.size(0)\n",
    "    idx_i = cards_id.unsqueeze(1).expand(num_cards, num_cards)\n",
    "    idx_j = cards_id.unsqueeze(0).expand(num_cards, num_cards)\n",
    "\n",
    "    ranks_i = ranks.unsqueeze(1).expand(num_cards, num_cards)\n",
    "    ranks_j = ranks.unsqueeze(0).expand(num_cards, num_cards)\n",
    "\n",
    "    suits_i = suits.unsqueeze(1).expand(num_cards, num_cards)\n",
    "    suits_j = suits.unsqueeze(0).expand(num_cards, num_cards)\n",
    "\n",
    "    suit_match = suits_i == suits_j\n",
    "    rank_close = (torch.abs(ranks_i - ranks_j) <= 1) | (torch.abs(ranks_i - ranks_j) == 12)\n",
    "\n",
    "    not_self = idx_i != idx_j\n",
    "\n",
    "    edge_mask = (suit_match | rank_close) & not_self\n",
    "\n",
    "    edge_index = edge_mask.nonzero(as_tuple=False).t().contiguous()\n",
    "\n",
    "    data = Data(x=x, edge_index=edge_index, y=y)\n",
    "    return data"
   ]
  },
  {
   "cell_type": "code",
   "execution_count": 5,
   "id": "ae5d19de",
   "metadata": {},
   "outputs": [],
   "source": [
    "X = pd.read_csv(\"data/uc_irvine/X.csv\")\n",
    "y = pd.read_csv(\"data/uc_irvine/y.csv\")\n",
    "X_train, X_val, y_train, y_val = train_test_split(\n",
    "    X, y, test_size=0.6, random_state=29, stratify=y['CLASS']\n",
    "    )\n",
    "X_train = X_train.reset_index(drop=True)\n",
    "y_train = y_train.reset_index(drop=True)\n",
    "X_val = X_val.reset_index(drop=True)\n",
    "y_val = y_val.reset_index(drop=True)"
   ]
  },
  {
   "cell_type": "code",
   "execution_count": 6,
   "id": "aed027b9",
   "metadata": {},
   "outputs": [],
   "source": [
    "train_dataset = UCIrvineDataset(X_train, y_train, add_random_cards=True, use_card_ids=True,\n",
    "                           graph=True, normalize_x=True)"
   ]
  },
  {
   "cell_type": "code",
   "execution_count": 7,
   "id": "d017ec0b",
   "metadata": {},
   "outputs": [
    {
     "data": {
      "text/plain": [
       "tensor(0)"
      ]
     },
     "execution_count": 7,
     "metadata": {},
     "output_type": "execute_result"
    }
   ],
   "source": [
    "train_dataset[0].y"
   ]
  },
  {
   "cell_type": "code",
   "execution_count": 42,
   "id": "cc0353ed",
   "metadata": {},
   "outputs": [],
   "source": [
    "card_id = torch.tensor([1, 2, 3, 4, 5, 6, 7])\n",
    "x = torch.tensor(\n",
    "    [[1],[2],[3],[4],[5],[6],[7]]\n",
    ")"
   ]
  },
  {
   "cell_type": "code",
   "execution_count": 59,
   "id": "b7179699",
   "metadata": {},
   "outputs": [
    {
     "data": {
      "text/plain": [
       "Data(x=[7, 1], edge_index=[2, 21], y=0)"
      ]
     },
     "execution_count": 59,
     "metadata": {},
     "output_type": "execute_result"
    }
   ],
   "source": [
    "option2(card_id, x,torch.tensor(0))"
   ]
  },
  {
   "cell_type": "code",
   "execution_count": 60,
   "id": "9252529b",
   "metadata": {},
   "outputs": [
    {
     "name": "stdout",
     "output_type": "stream",
     "text": [
      "Option 2 average time: 0.000094 seconds\n"
     ]
    }
   ],
   "source": [
    "total_time = timeit.timeit(lambda: option2(card_id, x, torch.tensor(0)))\n",
    "print(f\"Option 2 average time: {total_time / 1000000:.6f} seconds\")"
   ]
  },
  {
   "cell_type": "code",
   "execution_count": 61,
   "id": "e359df72",
   "metadata": {},
   "outputs": [
    {
     "data": {
      "text/plain": [
       "Data(x=[7, 1], edge_index=[2, 42], y=0)"
      ]
     },
     "execution_count": 61,
     "metadata": {},
     "output_type": "execute_result"
    }
   ],
   "source": [
    "option3(card_id, x,torch.tensor(0))"
   ]
  },
  {
   "cell_type": "code",
   "execution_count": 62,
   "id": "17ceb2ff",
   "metadata": {},
   "outputs": [
    {
     "name": "stdout",
     "output_type": "stream",
     "text": [
      "Option 3 average time: 0.000046 seconds\n"
     ]
    }
   ],
   "source": [
    "total_time = timeit.timeit(lambda: option3(card_id, x, torch.tensor(0)))\n",
    "print(f\"Option 3 average time: {total_time / 1000000:.6f} seconds\")"
   ]
  },
  {
   "cell_type": "code",
   "execution_count": 63,
   "id": "2ce96cc1",
   "metadata": {},
   "outputs": [
    {
     "data": {
      "text/plain": [
       "Data(x=[7, 1], edge_index=[2, 42], y=0)"
      ]
     },
     "execution_count": 63,
     "metadata": {},
     "output_type": "execute_result"
    }
   ],
   "source": [
    "option1(card_id, x,torch.tensor(0))"
   ]
  },
  {
   "cell_type": "code",
   "execution_count": 64,
   "id": "db8ab27b",
   "metadata": {},
   "outputs": [
    {
     "name": "stdout",
     "output_type": "stream",
     "text": [
      "Option 1 average time: 0.000065 seconds\n"
     ]
    }
   ],
   "source": [
    "total_time = timeit.timeit(lambda: option1(card_id, x, torch.tensor(0)))\n",
    "print(f\"Option 1 average time: {total_time / 1000000:.6f} seconds\")"
   ]
  }
 ],
 "metadata": {
  "kernelspec": {
   "display_name": ".venv",
   "language": "python",
   "name": "python3"
  },
  "language_info": {
   "codemirror_mode": {
    "name": "ipython",
    "version": 3
   },
   "file_extension": ".py",
   "mimetype": "text/x-python",
   "name": "python",
   "nbconvert_exporter": "python",
   "pygments_lexer": "ipython3",
   "version": "3.12.3"
  }
 },
 "nbformat": 4,
 "nbformat_minor": 5
}
