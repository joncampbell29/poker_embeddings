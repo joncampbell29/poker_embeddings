{
 "cells": [
  {
   "cell_type": "code",
   "execution_count": 1,
   "id": "a6655258",
   "metadata": {},
   "outputs": [],
   "source": [
    "import pandas as pd\n",
    "import numpy as np\n",
    "import torch\n",
    "from sklearn.linear_model import LogisticRegression\n",
    "from sklearn.metrics import accuracy_score\n",
    "import torch.nn as nn\n",
    "from poker_utils.hands import card_distance, normalize_hand\n",
    "from poker_utils.constants import HANDS, DECK_DICT\n",
    "from torch.utils.data import Dataset, DataLoader,WeightedRandomSampler\n",
    "import matplotlib.pyplot as plt \n",
    "import seaborn as sns\n",
    "from poker_utils.model import plot_train_loss\n",
    "import torch.nn.functional as F\n",
    "from sklearn.manifold import TSNE\n"
   ]
  },
  {
   "cell_type": "code",
   "execution_count": 2,
   "id": "b6da4879",
   "metadata": {},
   "outputs": [],
   "source": [
    "class CardDataset(Dataset):\n",
    "    def __init__(self, normalize_dist_matrix=True):\n",
    "        card_to_id = {j:i for i,j in DECK_DICT.items()}\n",
    "        self.data = pd.DataFrame.from_dict(DECK_DICT, orient='index', columns=['card']).reset_index()\n",
    "        self.data.rename({\"index\":'card_id'},axis=1, inplace=True)\n",
    "        self.data['card_rank'] = self.data['card_id'] // 4\n",
    "        self.data['card_suit'] = self.data['card_id'] % 4\n",
    "\n",
    "        self.dist_matrix = np.zeros((52,52), dtype=int)\n",
    "        for i in range(52):\n",
    "            for j in range(52):\n",
    "                card1 = self.data.iloc[i]['card']\n",
    "                card2 = self.data.iloc[j]['card']\n",
    "                self.dist_matrix[i,j] = card_distance(normalize_hand((card1,card2)))\n",
    "        if normalize_dist_matrix:\n",
    "            self.dist_matrix = self.dist_matrix / self.dist_matrix.max()\n",
    "    def __len__(self):\n",
    "        return len(self.data)\n",
    "    \n",
    "    def __getitem__(self, idx):\n",
    "        row = self.data.iloc[idx]\n",
    "        card_id = row['card_id']\n",
    "        suit_id = row['card_suit']\n",
    "        rank_id = row['card_rank']\n",
    "        dist_vec = self.dist_matrix[idx]\n",
    "        return {\n",
    "            'card': torch.tensor(card_id, dtype=torch.long),\n",
    "            'rank': torch.tensor(rank_id, dtype=torch.long),\n",
    "            'suit': torch.tensor(suit_id, dtype=torch.long),\n",
    "            'dist_vec': torch.tensor(dist_vec, dtype=torch.float32)\n",
    "        }\n",
    "        \n",
    "        "
   ]
  },
  {
   "cell_type": "code",
   "execution_count": 3,
   "id": "ed987fed",
   "metadata": {},
   "outputs": [],
   "source": [
    "dataset = CardDataset()\n",
    "dataloader = DataLoader(dataset, batch_size=52, shuffle=True)"
   ]
  },
  {
   "cell_type": "code",
   "execution_count": 4,
   "id": "9824b13c",
   "metadata": {},
   "outputs": [],
   "source": [
    "class CardEncoder(nn.Module):\n",
    "    def __init__(self, rank_dim=2, suit_dim=2, dist_dim=4):\n",
    "        super().__init__()\n",
    "        self.rank_embedder = nn.Embedding(53, rank_dim, padding_idx=52)\n",
    "        self.suit_embedder = nn.Embedding(53, suit_dim, padding_idx=52)\n",
    "        self.dist_embedder = nn.Embedding(53, dist_dim, padding_idx=52)\n",
    "        card_dim = rank_dim + suit_dim + dist_dim\n",
    "        self.rank_head = nn.Linear(card_dim, 13)\n",
    "        self.suit_head = nn.Linear(card_dim, 4)\n",
    "        self.dist_head = nn.Linear(card_dim, 52)\n",
    "        \n",
    "    def get_embeddings(self, card_id):\n",
    "        rank_emb = self.rank_embedder(card_id)\n",
    "        suit_emb = self.suit_embedder(card_id)\n",
    "        dist_emb = self.dist_embedder(card_id)\n",
    "        card_emb = torch.cat([rank_emb, suit_emb, dist_emb], dim=1)\n",
    "        return card_emb\n",
    "    \n",
    "    def forward(self, card_id):\n",
    "        rank_emb = self.rank_embedder(card_id)\n",
    "        suit_emb = self.suit_embedder(card_id)\n",
    "        dist_emb = self.dist_embedder(card_id)\n",
    "        \n",
    "        card_emb = torch.cat([rank_emb, suit_emb, dist_emb], dim=1)\n",
    "        rank_pred = self.rank_head(card_emb)\n",
    "        suit_pred = self.suit_head(card_emb)\n",
    "        dist_pred = self.dist_head(card_emb)\n",
    "        return rank_pred, suit_pred, dist_pred\n"
   ]
  },
  {
   "cell_type": "code",
   "execution_count": 6,
   "id": "1e0a249d",
   "metadata": {},
   "outputs": [],
   "source": [
    "model = CardEncoder()\n",
    "optimizer = torch.optim.Adam(model.parameters(), lr=1e-3)"
   ]
  },
  {
   "cell_type": "code",
   "execution_count": 7,
   "id": "fd4f0401",
   "metadata": {},
   "outputs": [],
   "source": [
    "epochs = 2500\n",
    "dist_alpha = 10\n",
    "losses = []\n",
    "dist_losses = []\n",
    "accuracies = {\n",
    "            'pred_rank': [],\n",
    "            'pred_suit': []\n",
    "        }\n",
    "for epoch in range(epochs):\n",
    "    model.train()\n",
    "    tot_loss = 0\n",
    "    tot_dist_loss = 0\n",
    "    correct = {\n",
    "        'pred_rank': 0,\n",
    "        'pred_suit': 0\n",
    "        }\n",
    "    for i, batch in enumerate(dataloader):\n",
    "        optimizer.zero_grad()\n",
    "        rank_logits, suit_logits, dist_logits = model(batch['card'])\n",
    "        \n",
    "        rank_loss = F.cross_entropy(rank_logits, batch['rank'])\n",
    "        suit_loss = F.cross_entropy(suit_logits, batch['suit'])\n",
    "        dist_loss = F.mse_loss(dist_logits, batch['dist_vec'])\n",
    "        tot_dist_loss += dist_loss.item()\n",
    "        loss = rank_loss + suit_loss + dist_alpha*dist_loss\n",
    "        \n",
    "        loss.backward()\n",
    "        optimizer.step()\n",
    "        tot_loss += loss.item()\n",
    "        \n",
    "        rank_pred = rank_logits.argmax(dim=1)\n",
    "        correct['pred_rank'] += (rank_pred == batch['rank']).sum().item()\n",
    "        suit_pred = suit_logits.argmax(dim=1)\n",
    "        correct['pred_suit'] += (suit_pred == batch['suit']).sum().item()\n",
    "    \n",
    "    losses.append(tot_loss / len(dataloader))\n",
    "    dist_losses.append(tot_dist_loss / len(dataloader))\n",
    "    for key, num in correct.items():\n",
    "        accuracies[key].append(num / 52)\n",
    "    \n",
    "        "
   ]
  },
  {
   "cell_type": "code",
   "execution_count": 8,
   "id": "0ad4696f",
   "metadata": {},
   "outputs": [
    {
     "name": "stdout",
     "output_type": "stream",
     "text": [
      "0.0030933914240449667\n"
     ]
    }
   ],
   "source": [
    "print(dist_losses[-1])"
   ]
  },
  {
   "cell_type": "code",
   "execution_count": 9,
   "id": "f24c6d7f",
   "metadata": {},
   "outputs": [
    {
     "data": {
      "image/png": "[encoded data removed]",
      "text/plain": [
       "<Figure size 500x500 with 1 Axes>"
      ]
     },
     "metadata": {},
     "output_type": "display_data"
    }
   ],
   "source": [
    "plot_train_loss(dist_losses)"
   ]
  },
  {
   "cell_type": "code",
   "execution_count": 10,
   "id": "dd7c3d84",
   "metadata": {},
   "outputs": [],
   "source": [
    "model.eval()\n",
    "with torch.no_grad():\n",
    "    embeddings = model.get_embeddings(torch.arange(52))\n",
    "    _, _, dist_pred  = model(torch.arange(52))\n",
    "    embeddings_np = embeddings.numpy()"
   ]
  },
  {
   "cell_type": "code",
   "execution_count": 11,
   "id": "127a3cf2",
   "metadata": {},
   "outputs": [
    {
     "name": "stdout",
     "output_type": "stream",
     "text": [
      "rank accuracy: 1.0\n",
      "suit accuracy: 1.0\n"
     ]
    }
   ],
   "source": [
    "classifier = LogisticRegression()\n",
    "for attr in ['rank','suit']:\n",
    "    y = dataset.data[f'card_{attr}'].to_numpy()\n",
    "    classifier.fit(embeddings_np, y=y)\n",
    "    pred = classifier.predict(embeddings_np)\n",
    "    acc = accuracy_score(y, pred)\n",
    "    print(f\"{attr} accuracy: {acc}\")\n"
   ]
  },
  {
   "cell_type": "code",
   "execution_count": null,
   "id": "4651f06b",
   "metadata": {},
   "outputs": [],
   "source": [
    "# torch.save(embeddings, \"embeddings/card_embeddings.pt\")"
   ]
  }
 ],
 "metadata": {
  "kernelspec": {
   "display_name": "poker_env",
   "language": "python",
   "name": "python3"
  },
  "language_info": {
   "codemirror_mode": {
    "name": "ipython",
    "version": 3
   },
   "file_extension": ".py",
   "mimetype": "text/x-python",
   "name": "python",
   "nbconvert_exporter": "python",
   "pygments_lexer": "ipython3",
   "version": "3.10.16"
  }
 },
 "nbformat": 4,
 "nbformat_minor": 5
}
