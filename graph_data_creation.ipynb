{
 "cells": [
  {
   "cell_type": "code",
   "execution_count": 1,
   "metadata": {},
   "outputs": [],
   "source": [
    "from poker_utils.hands import get_possible_hands, find_blocked_hands, find_dominated_hands\n",
    "from poker_utils.constants import HANDS_DICT, HANDS\n",
    "from poker_utils.simulation import simulate_hand_randrange\n",
    "import pandas as pd\n",
    "import numpy as np\n",
    "import torch\n",
    "from treys import Evaluator\n",
    "import networkx as nx\n",
    "from itertools import product\n",
    "from torch_geometric.data import Data, Dataset"
   ]
  },
  {
   "cell_type": "code",
   "execution_count": 3,
   "metadata": {},
   "outputs": [],
   "source": [
    "evaluator = Evaluator()"
   ]
  },
  {
   "cell_type": "code",
   "execution_count": 4,
   "metadata": {},
   "outputs": [],
   "source": [
    "hand_data = pd.read_csv(\"data/hand_data.csv\")"
   ]
  },
  {
   "cell_type": "code",
   "execution_count": 5,
   "metadata": {},
   "outputs": [],
   "source": [
    "hand_data = hand_data.astype({'avg_score.flop': int, 'avg_score.turn': int,'avg_score.river': int})"
   ]
  },
  {
   "cell_type": "code",
   "execution_count": 6,
   "metadata": {},
   "outputs": [],
   "source": [
    "hand_data['score_flop'] = hand_data['avg_score.flop'].apply(\n",
    "    lambda x: evaluator.class_to_string(evaluator.get_rank_class(x)))\n",
    "\n",
    "hand_data['score_turn'] = hand_data['avg_score.turn'].apply(\n",
    "    lambda x: evaluator.class_to_string(evaluator.get_rank_class(x)))\n",
    "\n",
    "hand_data['score_river'] = hand_data['avg_score.river'].apply(\n",
    "    lambda x: evaluator.class_to_string(evaluator.get_rank_class(x)))"
   ]
  },
  {
   "cell_type": "code",
   "execution_count": 7,
   "metadata": {},
   "outputs": [],
   "source": [
    "hand_data['delta_win_perc'] = hand_data['win_perc.river'] - hand_data['win_perc.flop']"
   ]
  },
  {
   "cell_type": "code",
   "execution_count": 8,
   "metadata": {},
   "outputs": [],
   "source": [
    "equity_data = pd.read_csv(\"data/equity_data.csv\")"
   ]
  },
  {
   "cell_type": "code",
   "execution_count": 9,
   "metadata": {},
   "outputs": [],
   "source": [
    "equity_data['hand1.hand'] = equity_data['hand1.hand'].apply(\n",
    "        lambda x: x if x.endswith(('o', 's')) else x + 'o'\n",
    "    )\n",
    "\n",
    "equity_data['hand2.hand'] = equity_data['hand2.hand'].apply(\n",
    "        lambda x: x if x.endswith(('o', 's')) else x + 'o'\n",
    "    )"
   ]
  },
  {
   "cell_type": "code",
   "execution_count": 11,
   "metadata": {},
   "outputs": [],
   "source": [
    "node_features = torch.rand((169, 3))  # Example with 3 features per node"
   ]
  },
  {
   "cell_type": "code",
   "execution_count": 12,
   "metadata": {},
   "outputs": [],
   "source": [
    "# Define edges (example: connections based on domination)\n",
    "edge_index = torch.tensor([\n",
    "    [0, 1, 2],  # From nodes (hand indices)\n",
    "    [1, 2, 3]   # To nodes (hand indices)\n",
    "], dtype=torch.long)"
   ]
  },
  {
   "cell_type": "code",
   "execution_count": null,
   "metadata": {},
   "outputs": [],
   "source": []
  },
  {
   "cell_type": "code",
   "execution_count": null,
   "metadata": {},
   "outputs": [],
   "source": []
  },
  {
   "cell_type": "code",
   "execution_count": null,
   "metadata": {},
   "outputs": [],
   "source": []
  },
  {
   "cell_type": "code",
   "execution_count": 13,
   "metadata": {},
   "outputs": [],
   "source": [
    "edge_index = torch.tensor(list(product(range(169), range(169))), dtype=torch.long).T.contiguous()"
   ]
  },
  {
   "cell_type": "code",
   "execution_count": 14,
   "metadata": {},
   "outputs": [],
   "source": [
    "dom_block_data = pd.read_csv(\"data/dom_block_data.csv\")\n",
    "ev_data = pd.read_excel(\"data/hand_ev9.xlsx\")"
   ]
  },
  {
   "cell_type": "code",
   "execution_count": 15,
   "metadata": {},
   "outputs": [],
   "source": [
    "dom_block_data = dom_block_data.set_index(\"hand\")\n",
    "ev_data = ev_data.set_index(\"hand\")\n",
    "hand_data = hand_data.set_index(\"hand\")"
   ]
  },
  {
   "cell_type": "code",
   "execution_count": 16,
   "metadata": {},
   "outputs": [],
   "source": [
    "hand_chart = pd.read_excel('data/hand_chart.xlsx')"
   ]
  },
  {
   "cell_type": "code",
   "execution_count": 17,
   "metadata": {},
   "outputs": [],
   "source": [
    "G = nx.DiGraph()\n",
    "for row in range(13):\n",
    "    for col in range(13):\n",
    "        hand = hand_chart.iloc[row, col]\n",
    "        G.add_node(hand)\n",
    "        "
   ]
  },
  {
   "cell_type": "code",
   "execution_count": 18,
   "metadata": {},
   "outputs": [],
   "source": [
    "for source in G.nodes():\n",
    "    blocked_hands_dict = find_blocked_hands(source)\n",
    "    dominated_hands_dict = find_dominated_hands(source)\n",
    "    for dest in G.nodes():\n",
    "        blocks = 1.0 if dest in blocked_hands_dict else 0.0\n",
    "        if blocks == 1.0:\n",
    "            combinations_blocked = blocked_hands_dict[dest]\n",
    "        else:\n",
    "            combinations_blocked = 0.0\n",
    "            \n",
    "        dominates = 1.0 if dest in dominated_hands_dict else 0.0\n",
    "        if dominates == 1.0:\n",
    "            combinations_dominated = dominated_hands_dict[dest]\n",
    "        else:\n",
    "            combinations_dominated = 0.0\n",
    "\n",
    "        G.add_edge(source, dest, \n",
    "                   blocks=blocks, \n",
    "                   dominates=dominates, \n",
    "                   combinations_blocked=combinations_blocked,\n",
    "                   combinations_dominated=combinations_dominated)"
   ]
  },
  {
   "cell_type": "code",
   "execution_count": null,
   "metadata": {},
   "outputs": [],
   "source": []
  },
  {
   "cell_type": "code",
   "execution_count": 19,
   "metadata": {},
   "outputs": [],
   "source": [
    "# Edge features\n",
    "# equity_data[['hand1.hand','hand2.hand','hand1.equity','hand2.equity']]\n",
    "# Block DOm: combinations_blocked, combinations_dominated"
   ]
  },
  {
   "cell_type": "code",
   "execution_count": 20,
   "metadata": {},
   "outputs": [],
   "source": [
    "edge_attributes = []\n",
    "for i,j in edge_index.T:\n",
    "    source_index = i.item()\n",
    "    dest_index = j.item()\n",
    "    source_hand = HANDS_DICT[source_index]\n",
    "    dest_hand = HANDS_DICT[dest_index]\n",
    "    edge_block_dom_dict = G.get_edge_data(source_hand, dest_hand)\n",
    "    block_dom_data = [\n",
    "        edge_block_dom_dict['combinations_blocked'], edge_block_dom_dict['combinations_dominated']\n",
    "        ]\n",
    "    edge_equity_data = equity_data[\n",
    "        (equity_data['hand1.hand'] == source_hand) & \n",
    "        (equity_data['hand2.hand'] == dest_hand)\n",
    "        ]\n",
    "    if edge_equity_data.shape[0] == 0:\n",
    "        edge_equity_data = equity_data[\n",
    "            (equity_data['hand1.hand'] == dest_hand) & \n",
    "            (equity_data['hand2.hand'] == source_hand)\n",
    "            ]\n",
    "        equity_dat = edge_equity_data['hand2.equity'].tolist()\n",
    "    else:\n",
    "        equity_dat = edge_equity_data['hand1.equity'].tolist()\n",
    "    \n",
    "    #### REMOVE AFTER GETTING THIS DATA\n",
    "    if len(equity_dat) == 0:\n",
    "        equity_dat = [0]\n",
    "\n",
    "    edge_data = block_dom_data + equity_dat\n",
    "    edge_attributes.append(edge_data)\n",
    "    "
   ]
  },
  {
   "cell_type": "code",
   "execution_count": 21,
   "metadata": {},
   "outputs": [],
   "source": [
    "edge_attr = torch.tensor(np.array(edge_attributes), dtype=torch.float32)"
   ]
  },
  {
   "cell_type": "code",
   "execution_count": 22,
   "metadata": {},
   "outputs": [],
   "source": [
    "# Node attribute Data:\n",
    "\n",
    "# hand_data[['connectedness','suited','pair','win_perc.river','delta_win_perc']]\n",
    "# dom_block_data[['dom_ratio','block_ratio_cat','dom_block_ratio','cluster']]\n",
    "# ev_data (all) SB, BB, pos3, pos4, pos5, pos6, pos7, pos8, D"
   ]
  },
  {
   "cell_type": "code",
   "execution_count": 23,
   "metadata": {},
   "outputs": [],
   "source": [
    "node_attributes = []\n",
    "for hand_idx, hand in HANDS_DICT.items():\n",
    "    basic_dat = hand_data[\n",
    "        ['connectedness','suited','pair','win_perc.river','delta_win_perc']].loc[hand].tolist()\n",
    "    \n",
    "    dom_block_dat = dom_block_data[\n",
    "        ['dom_ratio','block_ratio_cat','dom_block_ratio','cluster']].loc[hand].tolist()\n",
    "    \n",
    "    ev_dat = ev_data.loc[hand].tolist()\n",
    "    node_attributes.append(basic_dat+dom_block_dat+ev_dat)\n",
    "    "
   ]
  },
  {
   "cell_type": "code",
   "execution_count": 24,
   "metadata": {},
   "outputs": [],
   "source": [
    "node_attr = torch.tensor(np.array(node_attributes), dtype=torch.float32)"
   ]
  },
  {
   "cell_type": "code",
   "execution_count": 25,
   "metadata": {},
   "outputs": [],
   "source": [
    "# "
   ]
  },
  {
   "cell_type": "code",
   "execution_count": null,
   "metadata": {},
   "outputs": [],
   "source": []
  },
  {
   "cell_type": "code",
   "execution_count": 26,
   "metadata": {},
   "outputs": [],
   "source": [
    "graph_data = Data(x=node_attr, edge_index=edge_index, edge_attr=edge_attr)"
   ]
  },
  {
   "cell_type": "code",
   "execution_count": 29,
   "metadata": {},
   "outputs": [],
   "source": [
    "class PokerHandsGraphDataset(Dataset):\n",
    "    def __init__(self, pyg_data, transform=None):\n",
    "        super().__init__(transform=transform)\n",
    "        self.data = pyg_data\n",
    "        \n",
    "    def len(self):\n",
    "        return 1\n",
    "        \n",
    "    def get(self, idx):\n",
    "        return self.data"
   ]
  },
  {
   "cell_type": "code",
   "execution_count": 30,
   "metadata": {},
   "outputs": [],
   "source": [
    "d = PokerHandsGraphDataset(graph_data)"
   ]
  },
  {
   "cell_type": "code",
   "execution_count": null,
   "metadata": {},
   "outputs": [
    {
     "data": {
      "text/plain": [
       "<bound method BaseData.node_attrs of Data(x=[169, 18], edge_index=[2, 28561], edge_attr=[28561, 3])>"
      ]
     },
     "execution_count": 37,
     "metadata": {},
     "output_type": "execute_result"
    }
   ],
   "source": []
  }
 ],
 "metadata": {
  "kernelspec": {
   "display_name": "poker_env",
   "language": "python",
   "name": "python3"
  },
  "language_info": {
   "codemirror_mode": {
    "name": "ipython",
    "version": 3
   },
   "file_extension": ".py",
   "mimetype": "text/x-python",
   "name": "python",
   "nbconvert_exporter": "python",
   "pygments_lexer": "ipython3",
   "version": "3.10.16"
  }
 },
 "nbformat": 4,
 "nbformat_minor": 2
}
