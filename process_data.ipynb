{
 "cells": [
  {
   "cell_type": "code",
   "execution_count": null,
   "metadata": {},
   "outputs": [],
   "source": [
    "import pandas as pd\n",
    "import numpy as np\n",
    "from poker_utils.constants import HANDS_DICT"
   ]
  },
  {
   "cell_type": "code",
   "execution_count": null,
   "metadata": {},
   "outputs": [],
   "source": [
    "def process_base_hand_data(path_to_data: str) -> pd.DataFrame:\n",
    "    raw_hand_data = pd.read_csv(path_to_data)\n",
    "    raw_hand_data = raw_hand_data.rename(columns={\n",
    "        'win_perc.flop': 'flop_wp',\n",
    "        'win_perc.turn': 'turn_wp',\n",
    "        'win_perc.river': 'river_wp'})\n",
    "    raw_hand_data = raw_hand_data.assign(\n",
    "        delta_wp=raw_hand_data['river_wp']-raw_hand_data['flop_wp']\n",
    "        )\n",
    "    raw_hand_data.set_index(\"hand_idx\", inplace=True)\n",
    "    raw_hand_data.index.name = \"hand\"\n",
    "    return raw_hand_data[\n",
    "        ['connectedness','suited','pair','flop_wp','turn_wp','river_wp','delta_wp']\n",
    "        ]\n",
    "\n",
    "    "
   ]
  },
  {
   "cell_type": "code",
   "execution_count": 16,
   "metadata": {},
   "outputs": [],
   "source": [
    "def process_dom_block_data(path_to_data: str) -> pd.DataFrame:\n",
    "    raw_data = pd.read_csv(path_to_data)\n",
    "    raw_data['hand'] = raw_data['hand'].apply(lambda x: {j:i for i,j in HANDS_DICT.items()}[x])\n",
    "    raw_data.set_index('hand', inplace=True)\n",
    "    \n",
    "    return raw_data[\n",
    "    ['combos_dominated', 'dom_ratio', 'block_ratio_cat', 'dom_block_ratio', 'cluster']\n",
    "    ]\n",
    "    \n",
    "    "
   ]
  },
  {
   "cell_type": "code",
   "execution_count": null,
   "metadata": {},
   "outputs": [],
   "source": [
    "# def process_hand_ev_data(path_to_data: str) -> pd.DataFrame:\n",
    "#     raw_data = pd.read_excel(path_to_data)\n",
    "#     raw_data['hand'] = raw_data['hand'].apply(lambda x: {j:i for i,j in HANDS_DICT.items()}[x])\n",
    "    "
   ]
  }
 ],
 "metadata": {
  "kernelspec": {
   "display_name": "poker_env",
   "language": "python",
   "name": "python3"
  },
  "language_info": {
   "codemirror_mode": {
    "name": "ipython",
    "version": 3
   },
   "file_extension": ".py",
   "mimetype": "text/x-python",
   "name": "python",
   "nbconvert_exporter": "python",
   "pygments_lexer": "ipython3",
   "version": "3.10.16"
  }
 },
 "nbformat": 4,
 "nbformat_minor": 2
}
