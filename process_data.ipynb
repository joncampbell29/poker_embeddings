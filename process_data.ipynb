{
 "cells": [
  {
   "cell_type": "code",
   "execution_count": 20,
   "metadata": {},
   "outputs": [],
   "source": [
    "import pandas as pd\n",
    "import numpy as np\n"
   ]
  },
  {
   "cell_type": "code",
   "execution_count": 21,
   "metadata": {},
   "outputs": [],
   "source": [
    "def process_base_hand_data(path_to_data: str) -> pd.DataFrame:\n",
    "    raw_hand_data = pd.read_csv(path_to_data)\n",
    "    raw_hand_data = raw_hand_data.rename(columns={\n",
    "        'equity.flop': 'flop_equity',\n",
    "        'equity.turn': 'turn_equity',\n",
    "        'equity.river': 'river_equity'})\n",
    "    raw_hand_data = raw_hand_data.assign(\n",
    "        equity_delta=raw_hand_data['river_equity']-raw_hand_data['flop_equity']\n",
    "        )\n",
    "    return raw_hand_data[\n",
    "        ['hand','connectedness','suited','pair','flop_equity','turn_equity','river_equity','equity_delta']\n",
    "        ]\n",
    "\n",
    "    "
   ]
  },
  {
   "cell_type": "code",
   "execution_count": 22,
   "metadata": {},
   "outputs": [],
   "source": [
    "ev_data = pd.read_csv(\"data/raw/ev_pca_data.csv\").set_index('hand')\n",
    "dom_block_data = pd.read_csv(\"data/raw/dom_block_data.csv\").set_index('hand')\n",
    "hand_data = process_base_hand_data(\"data/raw/hand_data.csv\")\n",
    "hand_data['high_card'] = hand_data['hand'].apply(lambda x: '23456789TJQKA'.index(x[0]))\n",
    "hand_data['low_card'] = hand_data['hand'].apply(lambda x: '23456789TJQKA'.index(x[1]))\n",
    "hand_data['hand_type'] = np.select(\n",
    "    condlist=[\n",
    "        (hand_data['pair'] == True),\n",
    "        (hand_data['suited'] == False),\n",
    "        (hand_data['suited'] == True),\n",
    "    ],\n",
    "    choicelist=['pair', 'offsuit', 'suited'],\n",
    "    default='other'\n",
    ")\n",
    "hand_data.set_index(\"hand\", inplace=True)"
   ]
  },
  {
   "cell_type": "code",
   "execution_count": 23,
   "metadata": {},
   "outputs": [],
   "source": [
    "full_data = pd.concat([hand_data, dom_block_data, ev_data], axis=1)"
   ]
  },
  {
   "cell_type": "code",
   "execution_count": 25,
   "metadata": {},
   "outputs": [],
   "source": [
    "full_data.reset_index().to_csv('data/processed/full_data.csv', index=False)"
   ]
  }
 ],
 "metadata": {
  "kernelspec": {
   "display_name": "poker_env",
   "language": "python",
   "name": "python3"
  },
  "language_info": {
   "codemirror_mode": {
    "name": "ipython",
    "version": 3
   },
   "file_extension": ".py",
   "mimetype": "text/x-python",
   "name": "python",
   "nbconvert_exporter": "python",
   "pygments_lexer": "ipython3",
   "version": "3.10.16"
  }
 },
 "nbformat": 4,
 "nbformat_minor": 2
}
