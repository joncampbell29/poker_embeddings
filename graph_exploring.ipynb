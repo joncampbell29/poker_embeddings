{
 "cells": [
  {
   "cell_type": "code",
   "execution_count": 2,
   "id": "71af7e7e",
   "metadata": {},
   "outputs": [],
   "source": [
    "import pandas as pd\n",
    "import numpy as np\n",
    "import torch\n",
    "from torch.utils.data import Dataset\n",
    "from poker_utils.constants import HANDS_DICT, DECK_DICT\n",
    "import random\n",
    "from torch_geometric.data import Data\n",
    "import networkx as nx"
   ]
  },
  {
   "cell_type": "code",
   "execution_count": 42,
   "id": "86bbde8c",
   "metadata": {},
   "outputs": [],
   "source": [
    "G = nx.Graph()\n",
    "for i in range(52):\n",
    "    rank = i // 4\n",
    "    suit = i % 4\n",
    "    G.add_node(i, rank=rank, suit=suit)\n",
    "for i in range(52):\n",
    "    for j in range(i + 1, 52):\n",
    "        rank_i, rank_j = i // 4, j // 4\n",
    "        suit_i, suit_j = i % 4, j % 4\n",
    "        if suit_i == suit_j:\n",
    "            if abs(rank_i - rank_j) == 1 or abs(rank_i - rank_j) == 12:\n",
    "                G.add_edge(i, j, suited=1, connected=1, pair=0)\n",
    "            else:\n",
    "                G.add_edge(i,j, suited=1, connected=0, pair=0)\n",
    "        else:\n",
    "            if abs(rank_i - rank_j) == 1 or abs(rank_i - rank_j) == 12:\n",
    "                G.add_edge(i, j, suited=0, connected=1, pair=0)\n",
    "            elif abs(rank_i - rank_j) == 0:\n",
    "                G.add_edge(i, j, suited=0, connected=0, pair=1)\n",
    "                \n",
    "        \n",
    "            "
   ]
  },
  {
   "cell_type": "code",
   "execution_count": 41,
   "id": "64d9a700",
   "metadata": {},
   "outputs": [
    {
     "data": {
      "text/plain": [
       "'5c'"
      ]
     },
     "execution_count": 41,
     "metadata": {},
     "output_type": "execute_result"
    }
   ],
   "source": [
    "DECK_DICT[12]"
   ]
  },
  {
   "cell_type": "code",
   "execution_count": 51,
   "id": "3471ac35",
   "metadata": {},
   "outputs": [
    {
     "data": {
      "text/plain": [
       "{'rank': 11, 'suit': 1}"
      ]
     },
     "execution_count": 51,
     "metadata": {},
     "output_type": "execute_result"
    }
   ],
   "source": [
    "G.nodes(data=True)[45]"
   ]
  },
  {
   "cell_type": "code",
   "execution_count": 52,
   "id": "bce3a2b5",
   "metadata": {},
   "outputs": [
    {
     "data": {
      "text/plain": [
       "['2c', '2h', '3s', '7c', 'Ah']"
      ]
     },
     "execution_count": 52,
     "metadata": {},
     "output_type": "execute_result"
    }
   ],
   "source": [
    "ex_hand = [0,2,7,20,50]\n",
    "[DECK_DICT[i] for i in ex_hand]"
   ]
  },
  {
   "cell_type": "code",
   "execution_count": 55,
   "id": "87a6b67b",
   "metadata": {},
   "outputs": [
    {
     "data": {
      "text/plain": [
       "tensor([[ 0],\n",
       "        [ 2],\n",
       "        [ 7],\n",
       "        [20],\n",
       "        [50]])"
      ]
     },
     "execution_count": 55,
     "metadata": {},
     "output_type": "execute_result"
    }
   ],
   "source": [
    "torch.tensor(ex_hand).unsqueeze(1)"
   ]
  },
  {
   "cell_type": "code",
   "execution_count": 61,
   "id": "4d73092c",
   "metadata": {},
   "outputs": [],
   "source": [
    "def create_board_graph(board: list, use_card_ids=False, normalize_x=False):\n",
    "    if not isinstance(board, torch.Tensor):\n",
    "        board = torch.Tensor(board)\n",
    "    if use_card_ids:\n",
    "        x = board.unsqueeze(1)\n",
    "    else:\n",
    "        rank = board // 4\n",
    "        suit = board % 4\n",
    "        if normalize_x:\n",
    "            rank = rank / 12.0\n",
    "            suit = suit / 3.0\n",
    "        x = torch.stack([rank, suit], dim=1)\n",
    "    return x\n",
    "    # edges = []\n",
    "    # for i in range(len(board)):\n",
    "    #     for j in range(i + 1, len(board)):\n",
    "            "
   ]
  },
  {
   "cell_type": "code",
   "execution_count": 65,
   "id": "fbefee4e",
   "metadata": {},
   "outputs": [
    {
     "data": {
      "text/plain": [
       "tensor([[ 0.,  0.],\n",
       "        [ 0.,  2.],\n",
       "        [ 1.,  3.],\n",
       "        [ 5.,  0.],\n",
       "        [12.,  2.]])"
      ]
     },
     "execution_count": 65,
     "metadata": {},
     "output_type": "execute_result"
    }
   ],
   "source": [
    "create_board_graph(ex_hand, use_card_ids=False, normalize_x=False)"
   ]
  },
  {
   "cell_type": "code",
   "execution_count": null,
   "id": "883e72b3",
   "metadata": {},
   "outputs": [],
   "source": []
  }
 ],
 "metadata": {
  "kernelspec": {
   "display_name": "poker_env",
   "language": "python",
   "name": "python3"
  },
  "language_info": {
   "codemirror_mode": {
    "name": "ipython",
    "version": 3
   },
   "file_extension": ".py",
   "mimetype": "text/x-python",
   "name": "python",
   "nbconvert_exporter": "python",
   "pygments_lexer": "ipython3",
   "version": "3.10.16"
  }
 },
 "nbformat": 4,
 "nbformat_minor": 5
}
