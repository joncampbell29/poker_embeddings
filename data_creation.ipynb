{
 "cells": [
  {
   "cell_type": "code",
   "execution_count": 38,
   "metadata": {},
   "outputs": [],
   "source": [
    "from utils import get_possible_hands\n",
    "import pandas as pd\n",
    "import numpy as np\n",
    "from constants import HOLE_CARD_DICT\n",
    "from constants import HOLE_CARDS"
   ]
  },
  {
   "cell_type": "code",
   "execution_count": 39,
   "metadata": {},
   "outputs": [],
   "source": [
    "equity_data = pd.read_csv(\"data/equity_data.csv\")"
   ]
  },
  {
   "cell_type": "code",
   "execution_count": 66,
   "metadata": {},
   "outputs": [],
   "source": [
    "equity_data['hand1.hand'] = equity_data['hand1.hand'].apply(\n",
    "        lambda x: x if x.endswith(('o', 's')) else x + 'o'\n",
    "    )\n",
    "\n",
    "equity_data['hand2.hand'] = equity_data['hand2.hand'].apply(\n",
    "        lambda x: x if x.endswith(('o', 's')) else x + 'o'\n",
    "    )"
   ]
  }
 ],
 "metadata": {
  "kernelspec": {
   "display_name": "ai_env",
   "language": "python",
   "name": "python3"
  },
  "language_info": {
   "codemirror_mode": {
    "name": "ipython",
    "version": 3
   },
   "file_extension": ".py",
   "mimetype": "text/x-python",
   "name": "python",
   "nbconvert_exporter": "python",
   "pygments_lexer": "ipython3",
   "version": "3.9.21"
  }
 },
 "nbformat": 4,
 "nbformat_minor": 2
}
