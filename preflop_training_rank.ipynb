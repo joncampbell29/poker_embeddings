{
 "cells": [
  {
   "cell_type": "code",
   "execution_count": 174,
   "id": "22c90eb9",
   "metadata": {},
   "outputs": [],
   "source": [
    "import pandas as pd\n",
    "import numpy as np"
   ]
  },
  {
   "cell_type": "code",
   "execution_count": 175,
   "id": "aab23ce5",
   "metadata": {},
   "outputs": [],
   "source": [
    "equity_data = pd.read_csv(\"data/raw/equity_data.csv\")\n",
    "equity_data.drop_duplicates(inplace=True)"
   ]
  },
  {
   "cell_type": "code",
   "execution_count": 176,
   "id": "d125d8c0",
   "metadata": {},
   "outputs": [],
   "source": [
    "equity_data.drop(['not_found_hand1', 'not_found_hand2'], axis=1, inplace=True)\n",
    "equity_data.dropna(inplace=True)"
   ]
  },
  {
   "cell_type": "code",
   "execution_count": 177,
   "id": "1f32e711",
   "metadata": {},
   "outputs": [],
   "source": [
    "equity_data['hand1.hand'] = equity_data['hand1.hand'].apply(\n",
    "    lambda x: x if x.endswith(('o','s')) else x + 'o')\n",
    "\n",
    "equity_data['hand2.hand'] = equity_data['hand2.hand'].apply(\n",
    "    lambda x: x if x.endswith(('o','s')) else x + 'o')"
   ]
  },
  {
   "cell_type": "code",
   "execution_count": 178,
   "id": "c37d5d08",
   "metadata": {},
   "outputs": [],
   "source": [
    "made_hands = [\n",
    "    'high_card',\n",
    "    'one_pair',\n",
    "    'two_pair',\n",
    "    'three_of_a_kind',\n",
    "    'straight', \n",
    "    'flush',\n",
    "    'full_house',\n",
    "    'four_of_a_kind',\n",
    "    'straight_flush', \n",
    "    ]"
   ]
  },
  {
   "cell_type": "code",
   "execution_count": 179,
   "id": "854d93d7",
   "metadata": {},
   "outputs": [],
   "source": [
    "hand_totals_dict = {}\n",
    "for i, row in equity_data.iterrows():\n",
    "    for h in ['hand1','hand2']:\n",
    "        hand = row[f'{h}.hand']\n",
    "        if hand not in hand_totals_dict:\n",
    "            hand_totals_dict[hand] = {made_hand+\"_wins\": 0 for made_hand in made_hands}\n",
    "            hand_totals_dict[hand]['tot_wins'] = 0\n",
    "            hand_totals_dict[hand]['tot_sims'] = 0\n",
    "        for made_hand in made_hands:\n",
    "            hand_totals_dict[hand][made_hand+\"_wins\"] += row[f\"{h}.breakdown.{made_hand}\"]\n",
    "        hand_totals_dict[hand]['tot_wins'] += row[f'{h}.breakdown.total'] \n",
    "        hand_totals_dict[hand]['tot_sims'] += row['hand1.breakdown.total'] + row['hand2.breakdown.total'] \n",
    "        \n",
    "        "
   ]
  },
  {
   "cell_type": "code",
   "execution_count": 180,
   "id": "eadd0f32",
   "metadata": {},
   "outputs": [],
   "source": [
    "hand_win_totals = pd.DataFrame.from_dict(hand_totals_dict, orient='index')"
   ]
  },
  {
   "cell_type": "code",
   "execution_count": 181,
   "id": "79018315",
   "metadata": {},
   "outputs": [],
   "source": [
    "hand_win_totals['tot_win_perc'] = hand_win_totals['tot_wins'] / hand_win_totals['tot_sims']"
   ]
  },
  {
   "cell_type": "code",
   "execution_count": 182,
   "id": "45ed16d5",
   "metadata": {},
   "outputs": [],
   "source": [
    "for made_hand in made_hands:\n",
    "    col = f\"{made_hand}_wins\"\n",
    "    hand_win_totals[f\"{made_hand}_win_perc\"] = hand_win_totals[col] / hand_win_totals[\"tot_wins\"]"
   ]
  },
  {
   "cell_type": "code",
   "execution_count": 183,
   "id": "57b458fd",
   "metadata": {},
   "outputs": [],
   "source": [
    "hand_win_totals['straight_win_potential'] = hand_win_totals[\n",
    "    ['straight_win_perc','straight_flush_win_perc']].sum(axis=1)\n",
    "\n",
    "hand_win_totals['flush_win_potential'] = hand_win_totals[\n",
    "    ['flush_win_perc','straight_flush_win_perc']].sum(axis=1)\n",
    "\n",
    "hand_win_totals['value_win_potential'] = hand_win_totals[\n",
    "    ['three_of_a_kind_win_perc','straight_win_perc','flush_win_perc','straight_flush_win_perc',\n",
    "     'full_house_win_perc','four_of_a_kind_win_perc','straight_flush_win_perc']].sum(axis=1)\n",
    "\n",
    "\n",
    "hand_win_totals['highcard_win_potential'] = hand_win_totals['high_card_win_perc']"
   ]
  },
  {
   "cell_type": "code",
   "execution_count": null,
   "id": "63e573e6",
   "metadata": {},
   "outputs": [],
   "source": []
  }
 ],
 "metadata": {
  "kernelspec": {
   "display_name": "poker_env",
   "language": "python",
   "name": "python3"
  },
  "language_info": {
   "codemirror_mode": {
    "name": "ipython",
    "version": 3
   },
   "file_extension": ".py",
   "mimetype": "text/x-python",
   "name": "python",
   "nbconvert_exporter": "python",
   "pygments_lexer": "ipython3",
   "version": "3.10.16"
  }
 },
 "nbformat": 4,
 "nbformat_minor": 5
}
