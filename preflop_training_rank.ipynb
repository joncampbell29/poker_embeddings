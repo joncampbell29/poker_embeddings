{
 "cells": [
  {
   "cell_type": "code",
   "execution_count": 1,
   "id": "22c90eb9",
   "metadata": {},
   "outputs": [],
   "source": [
    "import pandas as pd\n",
    "import numpy as np\n",
    "import torch\n",
    "import torch.nn as nn\n",
    "import torch.nn.functional as F\n",
    "from torch.utils.data import DataLoader, Dataset\n",
    "import matplotlib.pyplot as plt\n",
    "import seaborn as sns\n",
    "from scipy.stats import spearmanr\n",
    "from sklearn.model_selection import train_test_split\n",
    "from poker_utils.constants import HANDS_DICT\n",
    "from poker_utils.model import analyze_embeddings, save_model_and_embeddings, plot_train_loss, prob_embeddings"
   ]
  },
  {
   "cell_type": "code",
   "execution_count": 2,
   "id": "810cc694",
   "metadata": {},
   "outputs": [],
   "source": [
    "base_data = pd.read_csv(\"data/raw/base_hand_data.csv\").set_index(\"hand\")\n",
    "blocker_data = pd.read_csv(\"data/raw/preflop_block_data.csv\").set_index('hand')\n",
    "ev_data = pd.read_csv('data/raw/ev_pca_data.csv').set_index('hand').filter(regex=\"play\")\n",
    "equity_data = pd.read_csv(\"data/processed/equity_totals.csv\").set_index(\"hand\")"
   ]
  },
  {
   "cell_type": "code",
   "execution_count": 3,
   "id": "c63fbd1c",
   "metadata": {},
   "outputs": [],
   "source": [
    "equity_cols = [\n",
    "    'tot_win_perc', 'high_card_win_perc', 'one_pair_win_perc', \n",
    "    'two_pair_win_perc', 'three_of_a_kind_win_perc',\n",
    "    'straight_win_perc', 'flush_win_perc', 'full_house_win_perc',\n",
    "    'four_of_a_kind_win_perc', 'straight_flush_win_perc',\n",
    "    'straight_win_potential', 'flush_win_potential', 'value_win_potential',\n",
    "    'highcard_win_potential'\n",
    "    ]\n",
    "\n",
    "blocker_cols = [\n",
    "    'prem_blocker_score_norm', 'block_aa_score', 'block_kk_score',\n",
    "]\n",
    "\n",
    "base_cols = [#\"suited\"\n",
    "    # 'suited', 'pair', 'ace', 'broadway_score', \n",
    "    # 'low_pair', 'medium_pair', 'high_pair', \n",
    "    # 'suited_broadway_score', \n",
    "    # 'connector', 'one_gap', 'two_gap', \n",
    "    # 'suited_connector', 'suited_one_gap', 'suited_two_gap',\n",
    "    # 'connectedness_score', 'rank_diff_score', 'high_card_score',\n",
    "    # 'low_card_score', 'suited_connected_score'\n",
    "    ]"
   ]
  },
  {
   "cell_type": "code",
   "execution_count": 4,
   "id": "3bbf626a",
   "metadata": {},
   "outputs": [],
   "source": [
    "full_data = pd.concat(\n",
    "    [base_data[base_cols], \n",
    "     blocker_data[blocker_cols], \n",
    "     equity_data[equity_cols], \n",
    "     ev_data], axis=1)"
   ]
  },
  {
   "cell_type": "code",
   "execution_count": 5,
   "id": "aab23ce5",
   "metadata": {},
   "outputs": [],
   "source": [
    "handhand_data = pd.read_csv(\"data/processed/handhand_equity.csv\")\n",
    "handhand_data['equity_diff'] = handhand_data.hand1_equity - handhand_data.hand2_equity\n",
    "handhand_data['rank'] = np.where(handhand_data['equity_diff'] > 0,1,-1)\n",
    "\n"
   ]
  },
  {
   "cell_type": "code",
   "execution_count": 6,
   "id": "c7d85a9f",
   "metadata": {},
   "outputs": [],
   "source": [
    "class EquityDiffDataset:\n",
    "    def __init__(self, feature_data, handhand_equity, train=None):\n",
    "        self.train = train\n",
    "        self.hands = feature_data.index\n",
    "        self.feature_data = feature_data\n",
    "        if train is not None:\n",
    "            train_data, val_data = train_test_split(\n",
    "                handhand_equity,\n",
    "                test_size=0.3, \n",
    "                stratify=handhand_equity['rank'],\n",
    "                random_state=29\n",
    "                )\n",
    "\n",
    "            if train == True: \n",
    "                self.data = train_data\n",
    "            elif train == False:\n",
    "                self.data = val_data\n",
    "        else:\n",
    "            self.data = feature_data\n",
    "            \n",
    "    def __len__(self):\n",
    "        return self.data.shape[0]\n",
    "    \n",
    "    def __getitem__(self, idx):\n",
    "        if self.train is not None:\n",
    "            row = self.data.iloc[idx]\n",
    "            hand1 = row['hand1']\n",
    "            hand2 = row['hand2']\n",
    "            hand1_features = self.feature_data.loc[hand1].to_numpy()\n",
    "            hand2_features = self.feature_data.loc[hand2].to_numpy()\n",
    "            equity_diff = row['equity_diff']\n",
    "            rank = row['rank']\n",
    "            \n",
    "            return (\n",
    "                torch.tensor(hand1_features, dtype=torch.float32),\n",
    "                torch.tensor(hand2_features, dtype=torch.float32),\n",
    "                torch.tensor(equity_diff, dtype=torch.float32),\n",
    "                torch.tensor(rank, dtype=torch.float32),\n",
    "            )\n",
    "        else:\n",
    "            return torch.tensor(self.data.iloc[idx].to_numpy(), dtype=torch.float32)\n",
    "        "
   ]
  },
  {
   "cell_type": "code",
   "execution_count": 7,
   "id": "d4e99715",
   "metadata": {},
   "outputs": [],
   "source": [
    "train_dataset = EquityDiffDataset(full_data, handhand_data, train=True)\n",
    "val_dataset = EquityDiffDataset(full_data, handhand_data, train=False)\n",
    "full_dataset = EquityDiffDataset(full_data, handhand_data)"
   ]
  },
  {
   "cell_type": "code",
   "execution_count": 8,
   "id": "a6787f15",
   "metadata": {},
   "outputs": [],
   "source": [
    "trainloader = DataLoader(train_dataset, shuffle=True, batch_size=128)\n",
    "valloader = DataLoader(val_dataset, shuffle=False, batch_size=128)\n",
    "fullloader = DataLoader(full_dataset, shuffle=False, batch_size=len(full_dataset))"
   ]
  },
  {
   "cell_type": "code",
   "execution_count": 9,
   "id": "7d4cd0a6",
   "metadata": {},
   "outputs": [],
   "source": [
    "def train_rank_model(model, trainloader,  valloader,  rank_loss_func,  optimizer, scheduler, epochs=10):\n",
    "    train_losses = []\n",
    "    val_losses = []\n",
    "    for epoch in range(epochs):\n",
    "        model.train()\n",
    "        tot_train_loss = 0\n",
    "        for hand1_feat, hand2_feat, equity_diff, rank in trainloader:\n",
    "            optimizer.zero_grad()\n",
    "            rank = rank.unsqueeze(1)\n",
    "            hand1_rank_emb, hand1_score = model(hand1_feat)\n",
    "            hand2_rank_emb, hand2_score = model(hand2_feat)\n",
    "            rank_loss = rank_loss_func(hand1_score, hand2_score, rank)\n",
    "            \n",
    "            rank_loss.backward()\n",
    "            optimizer.step()\n",
    "            \n",
    "            tot_train_loss += rank_loss.item()\n",
    "        avg_train_loss = tot_train_loss / len(trainloader)\n",
    "        train_losses.append(avg_train_loss)\n",
    "        model.eval()\n",
    "        tot_val_loss = 0\n",
    "        with torch.no_grad():\n",
    "            for hand1_feat, hand2_feat, equity_diff, rank in valloader:\n",
    "                rank = rank.unsqueeze(1)\n",
    "                hand1_rank_emb, hand1_score = model(hand1_feat)\n",
    "                hand2_rank_emb, hand2_score = model(hand2_feat)\n",
    "                rank_loss = rank_loss_func(hand1_score, hand2_score, rank)\n",
    "                tot_val_loss += rank_loss.item()\n",
    "        avg_val_loss = tot_val_loss / len(trainloader)\n",
    "        val_losses.append(avg_val_loss)\n",
    "        scheduler.step(avg_val_loss)\n",
    "            \n",
    "        if epoch % (epochs//5) == 0 or epoch == epochs-1:\n",
    "            print(f\"Epoch {epoch+1}/{epochs}, Train Loss: {avg_train_loss:.4f}, Val Loss: {avg_val_loss:.4f}\")\n",
    "        \n",
    "    return train_losses, val_losses\n",
    "\n"
   ]
  },
  {
   "cell_type": "code",
   "execution_count": 10,
   "id": "9509e33a",
   "metadata": {},
   "outputs": [],
   "source": [
    "class RankModel(nn.Module):\n",
    "    def __init__(self, input_size=90, embedding_dim=8):\n",
    "        super().__init__()\n",
    "        \n",
    "        self.encoder = nn.Sequential(\n",
    "            nn.Linear(input_size, 256),\n",
    "            nn.LeakyReLU(),\n",
    "            nn.BatchNorm1d(256),\n",
    "            nn.Linear(256, 128),\n",
    "            nn.LeakyReLU(),\n",
    "            nn.BatchNorm1d(128), \n",
    "            nn.Linear(128, 64),\n",
    "            nn.LeakyReLU(),\n",
    "            nn.Linear(64, embedding_dim)\n",
    "            )\n",
    "\n",
    "        self.rank_head = nn.Linear(embedding_dim, 1)\n",
    "        \n",
    "    def forward(self, x):\n",
    "        rank_emb = self.encoder(x)\n",
    "        rank_emb = F.normalize(rank_emb, p=2, dim=1)\n",
    "        score = self.rank_head(rank_emb)\n",
    "        return rank_emb, score"
   ]
  },
  {
   "cell_type": "code",
   "execution_count": 11,
   "id": "d2d42669",
   "metadata": {},
   "outputs": [],
   "source": [
    "rank_model = RankModel(input_size=71, embedding_dim=16)\n",
    "optimizer = torch.optim.Adam(params=rank_model.parameters(), lr=0.001, weight_decay=1e-5)\n",
    "rank_loss_func = nn.MarginRankingLoss(margin=0.1)\n",
    "scheduler = torch.optim.lr_scheduler.ReduceLROnPlateau(\n",
    "    optimizer, mode='min', factor=0.5, patience=3\n",
    ")\n"
   ]
  },
  {
   "cell_type": "code",
   "execution_count": 12,
   "id": "669d01c3",
   "metadata": {},
   "outputs": [
    {
     "name": "stdout",
     "output_type": "stream",
     "text": [
      "Epoch 1/15, Train Loss: 0.0206, Val Loss: 0.0070\n",
      "Epoch 4/15, Train Loss: 0.0133, Val Loss: 0.0062\n",
      "Epoch 7/15, Train Loss: 0.0122, Val Loss: 0.0073\n",
      "Epoch 10/15, Train Loss: 0.0109, Val Loss: 0.0059\n",
      "Epoch 13/15, Train Loss: 0.0108, Val Loss: 0.0063\n",
      "Epoch 15/15, Train Loss: 0.0106, Val Loss: 0.0053\n"
     ]
    },
    {
     "data": {
      "image/png": "[encoded data removed]",
      "text/plain": [
       "<Figure size 500x500 with 1 Axes>"
      ]
     },
     "metadata": {},
     "output_type": "display_data"
    }
   ],
   "source": [
    "rank_train_losses, rank_val_losses = train_rank_model(\n",
    "    rank_model, \n",
    "    trainloader, \n",
    "    valloader, \n",
    "    rank_loss_func, \n",
    "    optimizer,\n",
    "    scheduler,\n",
    "    epochs=15\n",
    "    )\n",
    "\n",
    "plot_train_loss(rank_train_losses, rank_val_losses)\n"
   ]
  },
  {
   "cell_type": "code",
   "execution_count": 13,
   "id": "0f12b7c3",
   "metadata": {},
   "outputs": [],
   "source": [
    "rank_model.eval()\n",
    "all_hands = next(iter(fullloader))\n",
    "with torch.no_grad():\n",
    "    rank_emb, score = rank_model(all_hands)\n",
    "    rank_emb = F.normalize(rank_emb, p=2, dim=1)"
   ]
  },
  {
   "cell_type": "code",
   "execution_count": 14,
   "id": "15fbbb46",
   "metadata": {},
   "outputs": [
    {
     "data": {
      "image/png": "[encoded data removed]",
      "text/plain": [
       "<Figure size 1200x500 with 1 Axes>"
      ]
     },
     "metadata": {},
     "output_type": "display_data"
    },
    {
     "name": "stdout",
     "output_type": "stream",
     "text": [
      "   hand         top_1         top_2         top_3       bottom_1  \\\n",
      "0   AAo  KKo (0.9905)  QQo (0.9828)  JJo (0.9733)  42o (-0.9633)   \n",
      "1   KKo  QQo (0.9961)  AAo (0.9905)  JJo (0.9877)  42o (-0.9590)   \n",
      "2   72o  73o (0.9978)  74o (0.9948)  75o (0.9898)  AKs (-0.6524)   \n",
      "3   76s  86s (0.9690)  75s (0.9562)  87s (0.9364)  KKo (-0.4277)   \n",
      "4   76o  75o (0.9917)  74o (0.9903)  73o (0.9884)  AKs (-0.6269)   \n",
      "5   Q3s  Q4s (0.9835)  Q2s (0.9830)  Q9o (0.9817)  32o (-0.1293)   \n",
      "6   Q3o  Q4o (0.9991)  Q2o (0.9987)  Q5o (0.9963)  32o (-0.0390)   \n",
      "7   88o  99o (0.9925)  TTo (0.9830)  AQo (0.9807)  32o (-0.9306)   \n",
      "8   JTs  J9s (0.9716)  Q9s (0.9383)  QTs (0.9217)  42o (-0.3656)   \n",
      "9   33o  44o (0.9430)  22o (0.8148)  A7o (0.8047)  32o (-0.5626)   \n",
      "10  AKs  KKo (0.9830)  AKo (0.9802)  QQo (0.9800)  32o (-0.9371)   \n",
      "11  53s  64s (0.9880)  54o (0.9868)  53o (0.9868)  AKs (-0.8391)   \n",
      "\n",
      "         bottom_2       bottom_3  \n",
      "0   32s (-0.9702)  42s (-0.9707)  \n",
      "1   42s (-0.9681)  32s (-0.9715)  \n",
      "2   KKo (-0.6730)  AAo (-0.7213)  \n",
      "3   AAo (-0.4411)  AKs (-0.4815)  \n",
      "4   KKo (-0.6323)  AAo (-0.6825)  \n",
      "5   42s (-0.1538)  32s (-0.1796)  \n",
      "6   42s (-0.0653)  32s (-0.1030)  \n",
      "7   42s (-0.9357)  32s (-0.9506)  \n",
      "8   32o (-0.3781)  32s (-0.4022)  \n",
      "9   42s (-0.5945)  32s (-0.6061)  \n",
      "10  32s (-0.9483)  42s (-0.9490)  \n",
      "11  KKo (-0.8526)  AAo (-0.8820)  \n"
     ]
    }
   ],
   "source": [
    "similarity_df = analyze_embeddings(\n",
    "    rank_emb, \n",
    "    hands_of_interest=['AAo','KKo','72o','76s','76o','Q3s',\"Q3o\",'88o','JTs','33o',\"AKs\",\"53s\"],\n",
    "    hand_feature_to_color='hand_type',\n",
    "    figsize=(12,5)\n",
    "    )"
   ]
  },
  {
   "cell_type": "code",
   "execution_count": 15,
   "id": "be5e9aae",
   "metadata": {},
   "outputs": [
    {
     "data": {
      "image/png": "[encoded data removed]",
      "text/plain": [
       "<Figure size 800x500 with 1 Axes>"
      ]
     },
     "metadata": {},
     "output_type": "display_data"
    }
   ],
   "source": [
    "mask = np.triu(np.ones(similarity_df.shape), k=1).astype(bool)\n",
    "pairwise_sims = similarity_df.where(mask)\n",
    "all_similarities = pairwise_sims.stack().values\n",
    "\n",
    "plt.figure(figsize=(8, 5))\n",
    "sns.histplot(all_similarities, bins=50, kde=True)\n",
    "plt.title(\"Distribution of Pairwise Hand Similarities\")\n",
    "plt.xlabel(\"Cosine Similarity\")\n",
    "plt.ylabel(\"Count\")\n",
    "plt.grid(True)\n",
    "plt.tight_layout()\n",
    "plt.show()"
   ]
  },
  {
   "cell_type": "code",
   "execution_count": 16,
   "id": "6cab0b03",
   "metadata": {},
   "outputs": [],
   "source": [
    "equity_matrix = np.zeros((169,169))\n",
    "np.fill_diagonal(equity_matrix, np.ones((169))*0.5)"
   ]
  },
  {
   "cell_type": "code",
   "execution_count": 17,
   "id": "d751d64b",
   "metadata": {},
   "outputs": [],
   "source": [
    "handhand_data['hand1_idx'] = handhand_data['hand1'].apply(\n",
    "    lambda x:{j:i for i, j in HANDS_DICT.items()}[x])\n",
    "handhand_data['hand2_idx'] = handhand_data['hand2'].apply(\n",
    "    lambda x:{j:i for i, j in HANDS_DICT.items()}[x])"
   ]
  },
  {
   "cell_type": "code",
   "execution_count": 18,
   "id": "4222af7f",
   "metadata": {},
   "outputs": [],
   "source": [
    "for i, row in handhand_data.iterrows():\n",
    "    equity_matrix[row['hand1_idx'], row['hand2_idx']] = row['hand1_equity']\n",
    "    equity_matrix[row['hand2_idx'], row['hand1_idx']] = row['hand2_equity']"
   ]
  },
  {
   "cell_type": "code",
   "execution_count": 19,
   "id": "2c6e66c8",
   "metadata": {},
   "outputs": [
    {
     "name": "stdout",
     "output_type": "stream",
     "text": [
      "Rank Correlation: 0.9619 (p-value: 0.0000)\n"
     ]
    }
   ],
   "source": [
    "score_np = score.detach().cpu().numpy().flatten()\n",
    "avg_equity = np.zeros(169)\n",
    "for hand in range(169):\n",
    "    equities = [equity_matrix[hand][other_hand] for other_hand in range(169) if hand != other_hand]\n",
    "    avg_equity[hand] = sum(equities) / len(equities)\n",
    "    \n",
    "rank_df = pd.DataFrame({\n",
    "    'hands': full_dataset.hands,\n",
    "    'avg_equity': avg_equity,\n",
    "    'pred_rank': score_np\n",
    "})\n",
    "correlation, p_value = spearmanr(rank_df['pred_rank'], rank_df['avg_equity'])\n",
    "print(f\"Rank Correlation: {correlation:.4f} (p-value: {p_value:.4f})\")"
   ]
  },
  {
   "cell_type": "code",
   "execution_count": 20,
   "id": "d02394c8",
   "metadata": {},
   "outputs": [
    {
     "name": "stdout",
     "output_type": "stream",
     "text": [
      "Pairwise accuracy: 0.9637 (13681/14196 pairs correct)\n"
     ]
    }
   ],
   "source": [
    "correct = 0\n",
    "total = 0\n",
    "incorrect_pairs = set()\n",
    "for hand1 in range(169):\n",
    "    for hand2 in range(hand1+1, 169):\n",
    "        total += 1\n",
    "        true_hand1_beats_hand2 = equity_matrix[hand1][hand2] > 0.5\n",
    "        pred_hand1_beats_hand2 = score_np[hand1] > score_np[hand2]\n",
    "        if true_hand1_beats_hand2 == pred_hand1_beats_hand2:\n",
    "            correct += 1\n",
    "        else:\n",
    "            incorrect_pairs.add(tuple(sorted((hand1,hand2))))\n",
    "accuracy = correct / total\n",
    "print(f\"Pairwise accuracy: {accuracy:.4f} ({correct}/{total} pairs correct)\")"
   ]
  },
  {
   "cell_type": "code",
   "execution_count": 21,
   "id": "b6e28c5e",
   "metadata": {},
   "outputs": [],
   "source": [
    "prob_data = prob_embeddings(rank_emb, base_data)"
   ]
  },
  {
   "cell_type": "code",
   "execution_count": 22,
   "id": "dff684e7",
   "metadata": {},
   "outputs": [
    {
     "data": {
      "text/html": [
       "<div>\n",
       "<style scoped>\n",
       "    .dataframe tbody tr th:only-of-type {\n",
       "        vertical-align: middle;\n",
       "    }\n",
       "\n",
       "    .dataframe tbody tr th {\n",
       "        vertical-align: top;\n",
       "    }\n",
       "\n",
       "    .dataframe thead th {\n",
       "        text-align: right;\n",
       "    }\n",
       "</style>\n",
       "<table border=\"1\" class=\"dataframe\">\n",
       "  <thead>\n",
       "    <tr style=\"text-align: right;\">\n",
       "      <th></th>\n",
       "      <th>attribute</th>\n",
       "      <th>class</th>\n",
       "      <th>accuracy</th>\n",
       "      <th>precision</th>\n",
       "      <th>recall</th>\n",
       "      <th>f1_score</th>\n",
       "      <th>support_frac</th>\n",
       "    </tr>\n",
       "  </thead>\n",
       "  <tbody>\n",
       "    <tr>\n",
       "      <th>0</th>\n",
       "      <td>suited</td>\n",
       "      <td>0</td>\n",
       "      <td>0.881657</td>\n",
       "      <td>0.908046</td>\n",
       "      <td>0.868132</td>\n",
       "      <td>0.88764</td>\n",
       "      <td>0.538462</td>\n",
       "    </tr>\n",
       "    <tr>\n",
       "      <th>1</th>\n",
       "      <td>suited</td>\n",
       "      <td>1</td>\n",
       "      <td>0.881657</td>\n",
       "      <td>0.853659</td>\n",
       "      <td>0.897436</td>\n",
       "      <td>0.87500</td>\n",
       "      <td>0.461538</td>\n",
       "    </tr>\n",
       "  </tbody>\n",
       "</table>\n",
       "</div>"
      ],
      "text/plain": [
       "  attribute class  accuracy  precision    recall  f1_score  support_frac\n",
       "0    suited     0  0.881657   0.908046  0.868132   0.88764      0.538462\n",
       "1    suited     1  0.881657   0.853659  0.897436   0.87500      0.461538"
      ]
     },
     "execution_count": 22,
     "metadata": {},
     "output_type": "execute_result"
    }
   ],
   "source": [
    "prob_data[prob_data.attribute=='suited']"
   ]
  },
  {
   "cell_type": "code",
   "execution_count": 23,
   "id": "faf18f6d",
   "metadata": {},
   "outputs": [
    {
     "data": {
      "text/html": [
       "<div>\n",
       "<style scoped>\n",
       "    .dataframe tbody tr th:only-of-type {\n",
       "        vertical-align: middle;\n",
       "    }\n",
       "\n",
       "    .dataframe tbody tr th {\n",
       "        vertical-align: top;\n",
       "    }\n",
       "\n",
       "    .dataframe thead th {\n",
       "        text-align: right;\n",
       "    }\n",
       "</style>\n",
       "<table border=\"1\" class=\"dataframe\">\n",
       "  <thead>\n",
       "    <tr style=\"text-align: right;\">\n",
       "      <th></th>\n",
       "      <th>attribute</th>\n",
       "      <th>class</th>\n",
       "      <th>accuracy</th>\n",
       "      <th>precision</th>\n",
       "      <th>recall</th>\n",
       "      <th>f1_score</th>\n",
       "      <th>support_frac</th>\n",
       "    </tr>\n",
       "  </thead>\n",
       "  <tbody>\n",
       "    <tr>\n",
       "      <th>2</th>\n",
       "      <td>connectedness</td>\n",
       "      <td>0</td>\n",
       "      <td>0.378698</td>\n",
       "      <td>0.764706</td>\n",
       "      <td>1.000000</td>\n",
       "      <td>0.866667</td>\n",
       "      <td>0.076923</td>\n",
       "    </tr>\n",
       "    <tr>\n",
       "      <th>3</th>\n",
       "      <td>connectedness</td>\n",
       "      <td>1</td>\n",
       "      <td>0.378698</td>\n",
       "      <td>0.531250</td>\n",
       "      <td>0.653846</td>\n",
       "      <td>0.586207</td>\n",
       "      <td>0.153846</td>\n",
       "    </tr>\n",
       "    <tr>\n",
       "      <th>4</th>\n",
       "      <td>connectedness</td>\n",
       "      <td>2</td>\n",
       "      <td>0.378698</td>\n",
       "      <td>0.500000</td>\n",
       "      <td>0.250000</td>\n",
       "      <td>0.333333</td>\n",
       "      <td>0.142012</td>\n",
       "    </tr>\n",
       "    <tr>\n",
       "      <th>5</th>\n",
       "      <td>connectedness</td>\n",
       "      <td>3</td>\n",
       "      <td>0.378698</td>\n",
       "      <td>0.263158</td>\n",
       "      <td>0.227273</td>\n",
       "      <td>0.243902</td>\n",
       "      <td>0.130178</td>\n",
       "    </tr>\n",
       "    <tr>\n",
       "      <th>6</th>\n",
       "      <td>connectedness</td>\n",
       "      <td>4</td>\n",
       "      <td>0.378698</td>\n",
       "      <td>0.240000</td>\n",
       "      <td>0.300000</td>\n",
       "      <td>0.266667</td>\n",
       "      <td>0.118343</td>\n",
       "    </tr>\n",
       "    <tr>\n",
       "      <th>7</th>\n",
       "      <td>connectedness</td>\n",
       "      <td>5</td>\n",
       "      <td>0.378698</td>\n",
       "      <td>0.272727</td>\n",
       "      <td>0.333333</td>\n",
       "      <td>0.300000</td>\n",
       "      <td>0.106509</td>\n",
       "    </tr>\n",
       "    <tr>\n",
       "      <th>8</th>\n",
       "      <td>connectedness</td>\n",
       "      <td>6</td>\n",
       "      <td>0.378698</td>\n",
       "      <td>0.272727</td>\n",
       "      <td>0.187500</td>\n",
       "      <td>0.222222</td>\n",
       "      <td>0.094675</td>\n",
       "    </tr>\n",
       "    <tr>\n",
       "      <th>9</th>\n",
       "      <td>connectedness</td>\n",
       "      <td>7</td>\n",
       "      <td>0.378698</td>\n",
       "      <td>0.181818</td>\n",
       "      <td>0.200000</td>\n",
       "      <td>0.190476</td>\n",
       "      <td>0.059172</td>\n",
       "    </tr>\n",
       "    <tr>\n",
       "      <th>10</th>\n",
       "      <td>connectedness</td>\n",
       "      <td>8</td>\n",
       "      <td>0.378698</td>\n",
       "      <td>0.272727</td>\n",
       "      <td>0.375000</td>\n",
       "      <td>0.315789</td>\n",
       "      <td>0.047337</td>\n",
       "    </tr>\n",
       "    <tr>\n",
       "      <th>11</th>\n",
       "      <td>connectedness</td>\n",
       "      <td>9</td>\n",
       "      <td>0.378698</td>\n",
       "      <td>1.000000</td>\n",
       "      <td>0.166667</td>\n",
       "      <td>0.285714</td>\n",
       "      <td>0.035503</td>\n",
       "    </tr>\n",
       "    <tr>\n",
       "      <th>12</th>\n",
       "      <td>connectedness</td>\n",
       "      <td>10</td>\n",
       "      <td>0.378698</td>\n",
       "      <td>0.166667</td>\n",
       "      <td>0.250000</td>\n",
       "      <td>0.200000</td>\n",
       "      <td>0.023669</td>\n",
       "    </tr>\n",
       "    <tr>\n",
       "      <th>13</th>\n",
       "      <td>connectedness</td>\n",
       "      <td>11</td>\n",
       "      <td>0.378698</td>\n",
       "      <td>0.500000</td>\n",
       "      <td>0.500000</td>\n",
       "      <td>0.500000</td>\n",
       "      <td>0.011834</td>\n",
       "    </tr>\n",
       "  </tbody>\n",
       "</table>\n",
       "</div>"
      ],
      "text/plain": [
       "        attribute class  accuracy  precision    recall  f1_score  support_frac\n",
       "2   connectedness     0  0.378698   0.764706  1.000000  0.866667      0.076923\n",
       "3   connectedness     1  0.378698   0.531250  0.653846  0.586207      0.153846\n",
       "4   connectedness     2  0.378698   0.500000  0.250000  0.333333      0.142012\n",
       "5   connectedness     3  0.378698   0.263158  0.227273  0.243902      0.130178\n",
       "6   connectedness     4  0.378698   0.240000  0.300000  0.266667      0.118343\n",
       "7   connectedness     5  0.378698   0.272727  0.333333  0.300000      0.106509\n",
       "8   connectedness     6  0.378698   0.272727  0.187500  0.222222      0.094675\n",
       "9   connectedness     7  0.378698   0.181818  0.200000  0.190476      0.059172\n",
       "10  connectedness     8  0.378698   0.272727  0.375000  0.315789      0.047337\n",
       "11  connectedness     9  0.378698   1.000000  0.166667  0.285714      0.035503\n",
       "12  connectedness    10  0.378698   0.166667  0.250000  0.200000      0.023669\n",
       "13  connectedness    11  0.378698   0.500000  0.500000  0.500000      0.011834"
      ]
     },
     "execution_count": 23,
     "metadata": {},
     "output_type": "execute_result"
    }
   ],
   "source": [
    "prob_data[prob_data.attribute=='connectedness']"
   ]
  },
  {
   "cell_type": "code",
   "execution_count": 27,
   "id": "2da0c60e",
   "metadata": {},
   "outputs": [
    {
     "data": {
      "text/html": [
       "<div>\n",
       "<style scoped>\n",
       "    .dataframe tbody tr th:only-of-type {\n",
       "        vertical-align: middle;\n",
       "    }\n",
       "\n",
       "    .dataframe tbody tr th {\n",
       "        vertical-align: top;\n",
       "    }\n",
       "\n",
       "    .dataframe thead th {\n",
       "        text-align: right;\n",
       "    }\n",
       "</style>\n",
       "<table border=\"1\" class=\"dataframe\">\n",
       "  <thead>\n",
       "    <tr style=\"text-align: right;\">\n",
       "      <th></th>\n",
       "      <th>attribute</th>\n",
       "      <th>class</th>\n",
       "      <th>accuracy</th>\n",
       "      <th>precision</th>\n",
       "      <th>recall</th>\n",
       "      <th>f1_score</th>\n",
       "      <th>support_frac</th>\n",
       "    </tr>\n",
       "  </thead>\n",
       "  <tbody>\n",
       "    <tr>\n",
       "      <th>60</th>\n",
       "      <td>broadway</td>\n",
       "      <td>0</td>\n",
       "      <td>0.940828</td>\n",
       "      <td>1.000000</td>\n",
       "      <td>0.9375</td>\n",
       "      <td>0.967742</td>\n",
       "      <td>0.378698</td>\n",
       "    </tr>\n",
       "    <tr>\n",
       "      <th>61</th>\n",
       "      <td>broadway</td>\n",
       "      <td>1</td>\n",
       "      <td>0.940828</td>\n",
       "      <td>0.939759</td>\n",
       "      <td>0.9750</td>\n",
       "      <td>0.957055</td>\n",
       "      <td>0.473373</td>\n",
       "    </tr>\n",
       "    <tr>\n",
       "      <th>62</th>\n",
       "      <td>broadway</td>\n",
       "      <td>2</td>\n",
       "      <td>0.940828</td>\n",
       "      <td>0.807692</td>\n",
       "      <td>0.8400</td>\n",
       "      <td>0.823529</td>\n",
       "      <td>0.147929</td>\n",
       "    </tr>\n",
       "  </tbody>\n",
       "</table>\n",
       "</div>"
      ],
      "text/plain": [
       "   attribute class  accuracy  precision  recall  f1_score  support_frac\n",
       "60  broadway     0  0.940828   1.000000  0.9375  0.967742      0.378698\n",
       "61  broadway     1  0.940828   0.939759  0.9750  0.957055      0.473373\n",
       "62  broadway     2  0.940828   0.807692  0.8400  0.823529      0.147929"
      ]
     },
     "execution_count": 27,
     "metadata": {},
     "output_type": "execute_result"
    }
   ],
   "source": [
    "prob_data[prob_data.attribute=='broadway']"
   ]
  },
  {
   "cell_type": "code",
   "execution_count": 24,
   "id": "44676ea3",
   "metadata": {},
   "outputs": [
    {
     "data": {
      "text/html": [
       "<div>\n",
       "<style scoped>\n",
       "    .dataframe tbody tr th:only-of-type {\n",
       "        vertical-align: middle;\n",
       "    }\n",
       "\n",
       "    .dataframe tbody tr th {\n",
       "        vertical-align: top;\n",
       "    }\n",
       "\n",
       "    .dataframe thead th {\n",
       "        text-align: right;\n",
       "    }\n",
       "</style>\n",
       "<table border=\"1\" class=\"dataframe\">\n",
       "  <thead>\n",
       "    <tr style=\"text-align: right;\">\n",
       "      <th></th>\n",
       "      <th>attribute</th>\n",
       "      <th>class</th>\n",
       "      <th>accuracy</th>\n",
       "      <th>precision</th>\n",
       "      <th>recall</th>\n",
       "      <th>f1_score</th>\n",
       "      <th>support_frac</th>\n",
       "    </tr>\n",
       "  </thead>\n",
       "  <tbody>\n",
       "    <tr>\n",
       "      <th>14</th>\n",
       "      <td>pair</td>\n",
       "      <td>0</td>\n",
       "      <td>0.988166</td>\n",
       "      <td>0.987342</td>\n",
       "      <td>1.000000</td>\n",
       "      <td>0.993631</td>\n",
       "      <td>0.923077</td>\n",
       "    </tr>\n",
       "    <tr>\n",
       "      <th>15</th>\n",
       "      <td>pair</td>\n",
       "      <td>1</td>\n",
       "      <td>0.988166</td>\n",
       "      <td>1.000000</td>\n",
       "      <td>0.846154</td>\n",
       "      <td>0.916667</td>\n",
       "      <td>0.076923</td>\n",
       "    </tr>\n",
       "  </tbody>\n",
       "</table>\n",
       "</div>"
      ],
      "text/plain": [
       "   attribute class  accuracy  precision    recall  f1_score  support_frac\n",
       "14      pair     0  0.988166   0.987342  1.000000  0.993631      0.923077\n",
       "15      pair     1  0.988166   1.000000  0.846154  0.916667      0.076923"
      ]
     },
     "execution_count": 24,
     "metadata": {},
     "output_type": "execute_result"
    }
   ],
   "source": [
    "prob_data[prob_data.attribute=='pair']"
   ]
  },
  {
   "cell_type": "code",
   "execution_count": 25,
   "id": "a3565ee9",
   "metadata": {},
   "outputs": [
    {
     "data": {
      "text/html": [
       "<div>\n",
       "<style scoped>\n",
       "    .dataframe tbody tr th:only-of-type {\n",
       "        vertical-align: middle;\n",
       "    }\n",
       "\n",
       "    .dataframe tbody tr th {\n",
       "        vertical-align: top;\n",
       "    }\n",
       "\n",
       "    .dataframe thead th {\n",
       "        text-align: right;\n",
       "    }\n",
       "</style>\n",
       "<table border=\"1\" class=\"dataframe\">\n",
       "  <thead>\n",
       "    <tr style=\"text-align: right;\">\n",
       "      <th></th>\n",
       "      <th>attribute</th>\n",
       "      <th>class</th>\n",
       "      <th>accuracy</th>\n",
       "      <th>precision</th>\n",
       "      <th>recall</th>\n",
       "      <th>f1_score</th>\n",
       "      <th>support_frac</th>\n",
       "    </tr>\n",
       "  </thead>\n",
       "  <tbody>\n",
       "    <tr>\n",
       "      <th>72</th>\n",
       "      <td>connector</td>\n",
       "      <td>0</td>\n",
       "      <td>0.869822</td>\n",
       "      <td>0.871166</td>\n",
       "      <td>0.993007</td>\n",
       "      <td>0.928105</td>\n",
       "      <td>0.846154</td>\n",
       "    </tr>\n",
       "    <tr>\n",
       "      <th>73</th>\n",
       "      <td>connector</td>\n",
       "      <td>1</td>\n",
       "      <td>0.869822</td>\n",
       "      <td>0.833333</td>\n",
       "      <td>0.192308</td>\n",
       "      <td>0.312500</td>\n",
       "      <td>0.153846</td>\n",
       "    </tr>\n",
       "  </tbody>\n",
       "</table>\n",
       "</div>"
      ],
      "text/plain": [
       "    attribute class  accuracy  precision    recall  f1_score  support_frac\n",
       "72  connector     0  0.869822   0.871166  0.993007  0.928105      0.846154\n",
       "73  connector     1  0.869822   0.833333  0.192308  0.312500      0.153846"
      ]
     },
     "execution_count": 25,
     "metadata": {},
     "output_type": "execute_result"
    }
   ],
   "source": [
    "prob_data[prob_data.attribute=='connector']"
   ]
  },
  {
   "cell_type": "code",
   "execution_count": 26,
   "id": "3fceee75",
   "metadata": {},
   "outputs": [
    {
     "data": {
      "text/html": [
       "<div>\n",
       "<style scoped>\n",
       "    .dataframe tbody tr th:only-of-type {\n",
       "        vertical-align: middle;\n",
       "    }\n",
       "\n",
       "    .dataframe tbody tr th {\n",
       "        vertical-align: top;\n",
       "    }\n",
       "\n",
       "    .dataframe thead th {\n",
       "        text-align: right;\n",
       "    }\n",
       "</style>\n",
       "<table border=\"1\" class=\"dataframe\">\n",
       "  <thead>\n",
       "    <tr style=\"text-align: right;\">\n",
       "      <th></th>\n",
       "      <th>attribute</th>\n",
       "      <th>class</th>\n",
       "      <th>accuracy</th>\n",
       "      <th>precision</th>\n",
       "      <th>recall</th>\n",
       "      <th>f1_score</th>\n",
       "      <th>support_frac</th>\n",
       "    </tr>\n",
       "  </thead>\n",
       "  <tbody>\n",
       "    <tr>\n",
       "      <th>78</th>\n",
       "      <td>suited_connector</td>\n",
       "      <td>0</td>\n",
       "      <td>0.934911</td>\n",
       "      <td>0.934132</td>\n",
       "      <td>1.000000</td>\n",
       "      <td>0.965944</td>\n",
       "      <td>0.923077</td>\n",
       "    </tr>\n",
       "    <tr>\n",
       "      <th>79</th>\n",
       "      <td>suited_connector</td>\n",
       "      <td>1</td>\n",
       "      <td>0.934911</td>\n",
       "      <td>1.000000</td>\n",
       "      <td>0.153846</td>\n",
       "      <td>0.266667</td>\n",
       "      <td>0.076923</td>\n",
       "    </tr>\n",
       "  </tbody>\n",
       "</table>\n",
       "</div>"
      ],
      "text/plain": [
       "           attribute class  accuracy  precision    recall  f1_score  \\\n",
       "78  suited_connector     0  0.934911   0.934132  1.000000  0.965944   \n",
       "79  suited_connector     1  0.934911   1.000000  0.153846  0.266667   \n",
       "\n",
       "    support_frac  \n",
       "78      0.923077  \n",
       "79      0.076923  "
      ]
     },
     "execution_count": 26,
     "metadata": {},
     "output_type": "execute_result"
    }
   ],
   "source": [
    "prob_data[prob_data.attribute=='suited_connector']"
   ]
  },
  {
   "cell_type": "code",
   "execution_count": null,
   "id": "958b24fc",
   "metadata": {},
   "outputs": [],
   "source": [
    "# save_model_and_embeddings(\n",
    "#     rank_emb,\n",
    "#     'preflop_embeddings_rank',\n",
    "#     rank_model,\n",
    "#     \"preflop_rank_encoder_weights\"\n",
    "#     )"
   ]
  },
  {
   "cell_type": "code",
   "execution_count": null,
   "id": "4db445a9",
   "metadata": {},
   "outputs": [],
   "source": []
  }
 ],
 "metadata": {
  "kernelspec": {
   "display_name": "poker_env",
   "language": "python",
   "name": "python3"
  },
  "language_info": {
   "codemirror_mode": {
    "name": "ipython",
    "version": 3
   },
   "file_extension": ".py",
   "mimetype": "text/x-python",
   "name": "python",
   "nbconvert_exporter": "python",
   "pygments_lexer": "ipython3",
   "version": "3.10.16"
  }
 },
 "nbformat": 4,
 "nbformat_minor": 5
}
