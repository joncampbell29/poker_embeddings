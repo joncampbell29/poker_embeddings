{
 "cells": [
  {
   "cell_type": "code",
   "execution_count": 1,
   "id": "a6655258",
   "metadata": {},
   "outputs": [],
   "source": [
    "import pandas as pd\n",
    "import numpy as np\n",
    "import torch\n",
    "import torch.nn as nn\n",
    "from poker_utils.hands import card_distance, normalize_hand\n",
    "from poker_utils.constants import HANDS, DECK_DICT\n",
    "from torch.utils.data import Dataset, DataLoader,WeightedRandomSampler\n",
    "import matplotlib.pyplot as plt \n",
    "import seaborn as sns\n",
    "from poker_utils.model import plot_train_loss\n",
    "import torch.nn.functional as F\n",
    "from sklearn.manifold import TSNE\n"
   ]
  },
  {
   "cell_type": "code",
   "execution_count": 2,
   "id": "b6da4879",
   "metadata": {},
   "outputs": [],
   "source": [
    "class CardDataset(Dataset):\n",
    "    def __init__(self, weight_cols=['card1_suit', 'card2_suit', 'card_dist']):\n",
    "        card_to_id = {j:i for i,j in DECK_DICT.items()}\n",
    "        self.data = pd.DataFrame(HANDS, columns=['card1','card2'])\n",
    "        for i in range(1,3):\n",
    "            self.data[f'card{i}_id'] = self.data[f'card{i}'].apply(lambda x: card_to_id[x])\n",
    "            self.data[f'card{i}_rank'] = self.data[f'card{i}_id'] // 4\n",
    "            self.data[f'card{i}_suit'] = self.data[f'card{i}_id'] % 4\n",
    "        self.data['card_dist'] = self.data.apply(\n",
    "            lambda x: card_distance(normalize_hand((x['card1'],x['card2']))), axis=1)\n",
    "        \n",
    "        self.class_weights = {\n",
    "            'card1_rank': None, \n",
    "            'card1_suit': None,\n",
    "            'card2_rank': None, \n",
    "            'card2_suit': None, \n",
    "            'card_dist': None\n",
    "            }\n",
    "        for key in self.class_weights.keys():\n",
    "            counts = self.data[key].value_counts().to_numpy()\n",
    "            total = counts.sum()\n",
    "            class_weights = total / (len(counts) * counts)\n",
    "            self.class_weights[key] = torch.tensor(class_weights, dtype=torch.float32)\n",
    "            \n",
    "        for col in weight_cols:\n",
    "            weights = 1.0 / self.data[col].value_counts(normalize=True)\n",
    "            self.data[f\"{col}_weight\"] = self.data[col].map(weights)\n",
    "        self.data['sample_weight'] = self.data.filter(regex='weight').prod(axis=1)\n",
    "        self.data['sample_weight'] = self.data['sample_weight'] / self.data['sample_weight'].sum()\n",
    "        self.sample_weights = torch.tensor(self.data['sample_weight'].values, dtype=torch.float)\n",
    "    def __len__(self):\n",
    "        return len(self.data)\n",
    "    def __getitem__(self, idx):\n",
    "        row = self.data.iloc[idx]\n",
    "        card1 = row['card1_id']\n",
    "        card2 = row['card2_id']\n",
    "        card1_rank = row['card1_rank']\n",
    "        card2_rank = row['card2_rank']\n",
    "        card1_suit = row['card1_suit']\n",
    "        card2_suit = row['card2_suit']\n",
    "        card_dist = row['card_dist']\n",
    "        return {\n",
    "            'card1': torch.tensor(card1, dtype=torch.long),\n",
    "            'card2': torch.tensor(card2, dtype=torch.long),\n",
    "            'card1_rank': torch.tensor(card1_rank, dtype=torch.long),\n",
    "            'card2_rank': torch.tensor(card2_rank, dtype=torch.long),\n",
    "            'card1_suit': torch.tensor(card1_suit, dtype=torch.long),\n",
    "            'card2_suit': torch.tensor(card2_suit, dtype=torch.long),\n",
    "            'card_dist': torch.tensor(card_dist, dtype=torch.long),\n",
    "        }\n",
    "        "
   ]
  },
  {
   "cell_type": "code",
   "execution_count": 3,
   "id": "ed987fed",
   "metadata": {},
   "outputs": [],
   "source": [
    "dataset = CardDataset(weight_cols=['card_dist'])\n",
    "sampler = WeightedRandomSampler(dataset.sample_weights, \n",
    "                                num_samples=len(dataset.sample_weights), \n",
    "                                replacement=True)\n",
    "\n",
    "dataloader = DataLoader(dataset, batch_size=128, sampler=sampler)"
   ]
  },
  {
   "cell_type": "code",
   "execution_count": 58,
   "id": "20b09d6a",
   "metadata": {},
   "outputs": [],
   "source": [
    "class CardEncoder(nn.Module):\n",
    "    def __init__(self, card_dim=2):\n",
    "        super().__init__()\n",
    "        self.card_embedder = nn.Embedding(53, card_dim, padding_idx=52)\n",
    "        self.shared_encoder = nn.Sequential(\n",
    "            nn.BatchNorm1d(card_dim),\n",
    "            nn.Linear(card_dim, card_dim),\n",
    "            nn.ReLU(),\n",
    "            nn.Linear(card_dim, card_dim),\n",
    "            nn.Dropout(0.1),\n",
    "            nn.ReLU()\n",
    "            )\n",
    "        self.rank_head = nn.Linear(card_dim, 13)\n",
    "        self.suit_head = nn.Linear(card_dim, 4)\n",
    "        self.card_dist_head = nn.Linear(card_dim*2, 12)\n",
    "        \n",
    "    def get_card_embedding(self, card_ids):\n",
    "        raw_emb = self.card_embedder(card_ids)\n",
    "        return self.shared_encoder(raw_emb)\n",
    "    \n",
    "    def forward(self, card1, card2):\n",
    "        # get embeddings\n",
    "        card1_emb = self.card_embedder(card1)\n",
    "        card1_emb = self.shared_encoder(card1_emb)\n",
    "        card2_emb = self.card_embedder(card2)\n",
    "        card2_emb = self.shared_encoder(card2_emb)\n",
    "        \n",
    "        # rank prediction\n",
    "        rank1_pred = self.rank_head(card1_emb)\n",
    "        rank2_pred = self.rank_head(card2_emb)\n",
    "        \n",
    "        # suit prediction\n",
    "        suit1_pred = self.suit_head(card1_emb)\n",
    "        suit2_pred = self.suit_head(card2_emb)\n",
    "        \n",
    "        # distance prediction\n",
    "        diff = torch.abs(card1_emb - card2_emb)\n",
    "        prod = card1_emb * card2_emb\n",
    "        x = torch.cat([diff, prod], dim=1)\n",
    "        # x = torch.cat([card1_emb, card2_emb], dim=1)\n",
    "        card_dist = self.card_dist_head(x)\n",
    "        return {\n",
    "            'pred_card1_rank': rank1_pred,\n",
    "            'pred_card2_rank': rank2_pred,\n",
    "            'pred_card1_suit': suit1_pred,\n",
    "            'pred_card2_suit': suit2_pred,\n",
    "            'pred_card_dist': card_dist\n",
    "        }\n",
    "        "
   ]
  },
  {
   "cell_type": "code",
   "execution_count": 59,
   "id": "f5cd2e1a",
   "metadata": {},
   "outputs": [],
   "source": [
    "def contrastive_loss(emb1, emb2, label, margin=1.0):\n",
    "    dists = F.pairwise_distance(emb1, emb2)\n",
    "    loss = (label.float() * dists.pow(2)) + ((1 - label.float()) * F.relu(margin - dists).pow(2))\n",
    "    return loss.mean()\n"
   ]
  },
  {
   "cell_type": "code",
   "execution_count": 60,
   "id": "308a0503",
   "metadata": {},
   "outputs": [],
   "source": [
    "model = CardEncoder(card_dim=64)\n",
    "optimizer = torch.optim.Adam(params=model.parameters(), lr=1e-3)\n",
    "scheduler = torch.optim.lr_scheduler.StepLR(optimizer, step_size=50, gamma=0.5)"
   ]
  },
  {
   "cell_type": "code",
   "execution_count": 61,
   "id": "df3fd43e",
   "metadata": {},
   "outputs": [],
   "source": [
    "epochs = 400\n",
    "contr_alpha = 0.1\n",
    "dist_alpha = 4\n",
    "cls_losses = []\n",
    "contr_losses = []\n",
    "accuracies = {\n",
    "            'pred_card1_rank': [],\n",
    "            'pred_card2_rank': [],\n",
    "            'pred_card1_suit': [],\n",
    "            'pred_card2_suit': [],\n",
    "            'pred_card_dist': []\n",
    "        }\n",
    "for epoch in range(epochs):\n",
    "    model.train()\n",
    "    tot_loss = 0\n",
    "    tot_contrastive_loss = 0\n",
    "    correct = {\n",
    "            'pred_card1_rank': 0, 'pred_card2_rank': 0,\n",
    "            'pred_card1_suit': 0, 'pred_card2_suit': 0,'pred_card_dist': 0}\n",
    "    for i, batch in enumerate(dataloader):\n",
    "        optimizer.zero_grad()\n",
    "        output = model(batch['card1'], batch['card2'])\n",
    "        cls_loss = 0\n",
    "        contr_loss = 0\n",
    "        for key, logits in output.items():\n",
    "            if key != 'pred_card_dist':\n",
    "                cls_loss += F.cross_entropy(\n",
    "                    logits, \n",
    "                    batch[key.removeprefix(\"pred_\")], \n",
    "                    weight=dataset.class_weights[key.removeprefix(\"pred_\")])\n",
    "            else:\n",
    "                cls_loss += F.cross_entropy(\n",
    "                    logits, \n",
    "                    batch[key.removeprefix(\"pred_\")], \n",
    "                    weight=dataset.class_weights[key.removeprefix(\"pred_\")]) * dist_alpha\n",
    "                \n",
    "            preds = logits.argmax(dim=1)\n",
    "            correct[key] += (preds == batch[key.removeprefix(\"pred_\")]).sum().item()\n",
    "            \n",
    "        emb1 = model.get_card_embedding(batch['card1'])\n",
    "        emb2 = model.get_card_embedding(batch['card2'])\n",
    "        for attr in ['rank', 'suit']:\n",
    "            contrastive_labels = (batch[f'card1_{attr}'] == batch[f'card2_{attr}']).long()\n",
    "            contr_loss += contrastive_loss(emb1, emb2, contrastive_labels)\n",
    "        total = cls_loss + contr_alpha * contr_loss\n",
    "        total.backward()\n",
    "        optimizer.step()\n",
    "\n",
    "        tot_loss += cls_loss.item()\n",
    "        tot_contrastive_loss += contr_loss.item()\n",
    "    scheduler.step()\n",
    "        \n",
    "    for key, num in correct.items():\n",
    "        accuracies[key].append(num / 1326)\n",
    "    cls_losses.append(tot_loss / len(dataloader))\n",
    "    contr_losses.append(tot_contrastive_loss / len(dataloader))\n",
    "        "
   ]
  },
  {
   "cell_type": "code",
   "execution_count": 62,
   "id": "9782e99b",
   "metadata": {},
   "outputs": [
    {
     "data": {
      "image/png": "[encoded data removed]",
      "text/plain": [
       "<Figure size 500x500 with 1 Axes>"
      ]
     },
     "metadata": {},
     "output_type": "display_data"
    }
   ],
   "source": [
    "plot_train_loss(accuracies['pred_card_dist'])"
   ]
  },
  {
   "cell_type": "code",
   "execution_count": 63,
   "id": "10bd289e",
   "metadata": {},
   "outputs": [],
   "source": [
    "\n",
    "testloader = DataLoader(dataset=dataset, batch_size=128, shuffle=False)\n",
    "predictions = {}\n",
    "model.eval()\n",
    "with torch.no_grad():\n",
    "    for i, batch in enumerate(testloader):\n",
    "        output = model(batch['card1'],batch['card2'])\n",
    "        for key, batch in output.items():\n",
    "            if i==0:\n",
    "                predictions[key] = batch\n",
    "            else:\n",
    "                predictions[key] = torch.cat([predictions[key], batch], dim=0)\n",
    "    for key in predictions:\n",
    "        predictions[key] = predictions[key].argmax(dim=1).numpy()\n",
    "    embeddings = model.get_card_embedding(torch.arange(52))"
   ]
  },
  {
   "cell_type": "code",
   "execution_count": 64,
   "id": "5485425f",
   "metadata": {},
   "outputs": [],
   "source": [
    "prediction_df = pd.DataFrame.from_dict(predictions, orient='columns')\n",
    "data = pd.concat([dataset.data, prediction_df], axis=1)"
   ]
  },
  {
   "cell_type": "code",
   "execution_count": 66,
   "id": "a6905e4f",
   "metadata": {},
   "outputs": [
    {
     "name": "stdout",
     "output_type": "stream",
     "text": [
      "0\n",
      "0\n",
      "0\n",
      "0\n",
      "0\n"
     ]
    }
   ],
   "source": [
    "print(data[data['card1_rank'] != data['pred_card1_rank']].shape[0])\n",
    "print(data[data['card2_rank'] != data['pred_card2_rank']].shape[0])\n",
    "print(data[data['card1_suit'] != data['pred_card1_suit']].shape[0])\n",
    "print(data[data['card2_suit'] != data['pred_card2_suit']].shape[0])\n",
    "print(data[data['card_dist'] != data['pred_card_dist']].shape[0])"
   ]
  },
  {
   "cell_type": "code",
   "execution_count": 68,
   "id": "573bfa18",
   "metadata": {},
   "outputs": [],
   "source": [
    "embeddings_norm = F.normalize(embeddings)"
   ]
  },
  {
   "cell_type": "code",
   "execution_count": 69,
   "id": "bab2bc0f",
   "metadata": {},
   "outputs": [],
   "source": [
    "tsne = TSNE(n_components=2, perplexity=15, random_state=29)\n",
    "embeddings_2d = tsne.fit_transform(embeddings_norm)"
   ]
  },
  {
   "cell_type": "code",
   "execution_count": 70,
   "id": "e9304cfd",
   "metadata": {},
   "outputs": [],
   "source": [
    "emb_data = pd.DataFrame(embeddings_2d, columns=['C1','C2'])\n",
    "emb_data['card_id'] = np.arange(52)\n",
    "emb_data[f'card_rank'] = emb_data[f'card_id'] // 4\n",
    "emb_data[f'card_suit'] = emb_data[f'card_id'] % 4"
   ]
  },
  {
   "cell_type": "code",
   "execution_count": null,
   "id": "3a63418e",
   "metadata": {},
   "outputs": [
    {
     "data": {
      "text/plain": [
       "<Axes: xlabel='C1', ylabel='C2'>"
      ]
     },
     "execution_count": 71,
     "metadata": {},
     "output_type": "execute_result"
    },
    {
     "data": {
      "image/png": "[encoded data removed]",
      "text/plain": [
       "<Figure size 640x480 with 1 Axes>"
      ]
     },
     "metadata": {},
     "output_type": "display_data"
    }
   ],
   "source": [
    "sns.scatterplot(emb_data, x='C1',y='C2', hue='card_suit')"
   ]
  },
  {
   "cell_type": "code",
   "execution_count": null,
   "id": "4651f06b",
   "metadata": {},
   "outputs": [],
   "source": [
    "# torch.save(embeddings, \"embeddings/card_embeddings.pt\")"
   ]
  }
 ],
 "metadata": {
  "kernelspec": {
   "display_name": "poker_env",
   "language": "python",
   "name": "python3"
  },
  "language_info": {
   "codemirror_mode": {
    "name": "ipython",
    "version": 3
   },
   "file_extension": ".py",
   "mimetype": "text/x-python",
   "name": "python",
   "nbconvert_exporter": "python",
   "pygments_lexer": "ipython3",
   "version": "3.10.16"
  }
 },
 "nbformat": 4,
 "nbformat_minor": 5
}
