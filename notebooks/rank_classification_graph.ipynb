{
 "cells": [
  {
   "cell_type": "code",
   "execution_count": null,
   "id": "2afe2701",
   "metadata": {},
   "outputs": [],
   "source": [
    "import pandas as pd\n",
    "import numpy as np\n",
    "import matplotlib.pyplot as plt\n",
    "import seaborn as sns\n",
    "import torch\n",
    "from poker_embeddings.models.card import CardGNN"
   ]
  },
  {
   "cell_type": "code",
   "execution_count": 4,
   "id": "dc2a1886",
   "metadata": {},
   "outputs": [
    {
     "data": {
      "text/plain": [
       "<All keys matched successfully>"
      ]
     },
     "execution_count": 4,
     "metadata": {},
     "output_type": "execute_result"
    }
   ],
   "source": [
    "device = torch.device(\"cuda\" if torch.cuda.is_available() else \"cpu\")\n",
    "\n",
    "model = CardGNN().to(device)\n",
    "model.load_state_dict(torch.load(\"../model_weights/hand_strength_predictor200.pth\", weights_only=True))"
   ]
  },
  {
   "cell_type": "code",
   "execution_count": 7,
   "id": "11832afe",
   "metadata": {},
   "outputs": [],
   "source": [
    "train_losses = pd.read_csv(\"../results/hand_rank_predictor_train_loss0.csv\")\n",
    "report = pd.read_csv(\"../results/hand_rank_predictor_classification_report1.csv\")\n",
    "cm = pd.read_csv(\"../results/hand_rank_predictor_confusion_matrix1.csv\")"
   ]
  },
  {
   "cell_type": "code",
   "execution_count": 10,
   "id": "09cb05ea",
   "metadata": {},
   "outputs": [
    {
     "data": {
      "text/html": [
       "<div>\n",
       "<style scoped>\n",
       "    .dataframe tbody tr th:only-of-type {\n",
       "        vertical-align: middle;\n",
       "    }\n",
       "\n",
       "    .dataframe tbody tr th {\n",
       "        vertical-align: top;\n",
       "    }\n",
       "\n",
       "    .dataframe thead th {\n",
       "        text-align: right;\n",
       "    }\n",
       "</style>\n",
       "<table border=\"1\" class=\"dataframe\">\n",
       "  <thead>\n",
       "    <tr style=\"text-align: right;\">\n",
       "      <th></th>\n",
       "      <th>train_loss</th>\n",
       "      <th>train_accuracy</th>\n",
       "      <th>epochs</th>\n",
       "    </tr>\n",
       "  </thead>\n",
       "  <tbody>\n",
       "    <tr>\n",
       "      <th>0</th>\n",
       "      <td>1.889245</td>\n",
       "      <td>0.196742</td>\n",
       "      <td>1</td>\n",
       "    </tr>\n",
       "  </tbody>\n",
       "</table>\n",
       "</div>"
      ],
      "text/plain": [
       "   train_loss  train_accuracy  epochs\n",
       "0    1.889245        0.196742       1"
      ]
     },
     "execution_count": 10,
     "metadata": {},
     "output_type": "execute_result"
    }
   ],
   "source": [
    "train_losses"
   ]
  },
  {
   "cell_type": "code",
   "execution_count": null,
   "id": "938d5689",
   "metadata": {},
   "outputs": [],
   "source": [
    "# model.eval()\n",
    "# with torch.no_grad():\n",
    "#     card_embeddings = model.card_embedder.weight\n",
    "#     card_embeddings = model.card_emb_projector(card_embeddings).cpu()\n",
    "#     card_embeddings_norm = F.normalize(card_embeddings, p=2, dim=1).numpy()"
   ]
  },
  {
   "cell_type": "code",
   "execution_count": null,
   "id": "60827b42",
   "metadata": {},
   "outputs": [],
   "source": [
    "# from sklearn.manifold import TSNE\n",
    "# from sklearn.decomposition import PCA"
   ]
  },
  {
   "cell_type": "code",
   "execution_count": null,
   "id": "e2c3a74d",
   "metadata": {},
   "outputs": [],
   "source": [
    "# tsne = TSNE(n_components=2, perplexity=30, max_iter=300)\n",
    "# emb_2d = tsne.fit_transform(card_embeddings_norm)"
   ]
  },
  {
   "cell_type": "code",
   "execution_count": 12,
   "id": "554a8de7",
   "metadata": {},
   "outputs": [],
   "source": [
    "# suit_colors = {\n",
    "#     0: 'green',    # Clubs\n",
    "#     1: 'blue',      # Diamonds\n",
    "#     2: 'red',     # Hearts\n",
    "#     3: 'black'     # Spades\n",
    "# }\n",
    "\n",
    "# colors = [suit_colors[i % 4] for i in range(len(DECK_DICT))]\n",
    "\n",
    "# # Now plot\n",
    "# plt.figure(figsize=(6, 6))\n",
    "# for i, txt in DECK_DICT.items():\n",
    "#     if i == 52:\n",
    "#         continue  # skip padding card if you have one\n",
    "#     plt.scatter(emb_2d[i, 0], emb_2d[i, 1], color=suit_colors[i % 4])\n",
    "#     plt.annotate(txt, (emb_2d[i, 0], emb_2d[i, 1]), fontsize=8)\n",
    "\n",
    "# plt.title(\"Card Embedding Visualization Colored by Suit\")\n",
    "# plt.show()"
   ]
  },
  {
   "cell_type": "code",
   "execution_count": 11,
   "id": "2eca586f",
   "metadata": {},
   "outputs": [],
   "source": [
    "# rank_colors = plt.cm.get_cmap('tab20', 13)\n",
    "\n",
    "# colors = [rank_colors(i // 4) for i in range(len(DECK_DICT))]\n",
    "\n",
    "# plt.figure(figsize=(6, 6))\n",
    "# for i, txt in DECK_DICT.items():\n",
    "#     if i == 52:\n",
    "#         continue\n",
    "#     plt.scatter(emb_2d[i, 0], emb_2d[i, 1], color=rank_colors(i // 4))\n",
    "#     plt.annotate(txt, (emb_2d[i, 0], emb_2d[i, 1]), fontsize=8)\n",
    "\n",
    "# plt.title(\"Card Embedding Visualization Colored by Rank\")\n",
    "# plt.show()"
   ]
  }
 ],
 "metadata": {
  "kernelspec": {
   "display_name": ".venv",
   "language": "python",
   "name": "python3"
  },
  "language_info": {
   "codemirror_mode": {
    "name": "ipython",
    "version": 3
   },
   "file_extension": ".py",
   "mimetype": "text/x-python",
   "name": "python",
   "nbconvert_exporter": "python",
   "pygments_lexer": "ipython3",
   "version": "3.12.3"
  }
 },
 "nbformat": 4,
 "nbformat_minor": 5
}
