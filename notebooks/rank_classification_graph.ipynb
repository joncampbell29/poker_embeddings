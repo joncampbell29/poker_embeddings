{
 "cells": [
  {
   "cell_type": "code",
   "execution_count": 1,
   "id": "2afe2701",
   "metadata": {},
   "outputs": [],
   "source": [
    "import pandas as pd\n",
    "import numpy as np\n",
    "import matplotlib.pyplot as plt\n",
    "import seaborn as sns\n",
    "import torch\n",
    "from poker_embeddings.models.card import CardGNN"
   ]
  },
  {
   "cell_type": "code",
   "execution_count": 2,
   "id": "dc2a1886",
   "metadata": {},
   "outputs": [
    {
     "data": {
      "text/plain": [
       "<All keys matched successfully>"
      ]
     },
     "execution_count": 2,
     "metadata": {},
     "output_type": "execute_result"
    }
   ],
   "source": [
    "device = torch.device(\"cuda\" if torch.cuda.is_available() else \"cpu\")\n",
    "\n",
    "model = CardGNN().to(device)\n",
    "model.load_state_dict(torch.load(\"../model_weights/hand_strength_predictor500.pth\", weights_only=True))"
   ]
  },
  {
   "cell_type": "code",
   "execution_count": 3,
   "id": "11832afe",
   "metadata": {},
   "outputs": [],
   "source": [
    "train_losses = pd.read_csv(\"../results/hand_rank_predictor_train_loss500.csv\")\n",
    "report = pd.read_csv(\"../results/hand_rank_predictor_classification_report500.csv\")\n",
    "cm = pd.read_csv(\"../results/hand_rank_predictor_confusion_matrix500.csv\")"
   ]
  },
  {
   "cell_type": "code",
   "execution_count": 7,
   "id": "09cb05ea",
   "metadata": {},
   "outputs": [
    {
     "data": {
      "text/plain": [
       "<Axes: xlabel='epochs', ylabel='train_accuracy'>"
      ]
     },
     "execution_count": 7,
     "metadata": {},
     "output_type": "execute_result"
    },
    {
     "data": {
      "image/png": "[encoded data removed]",
      "text/plain": [
       "<Figure size 640x480 with 1 Axes>"
      ]
     },
     "metadata": {},
     "output_type": "display_data"
    }
   ],
   "source": [
    "\n",
    "sns.lineplot(data=train_losses, x='epochs',y='train_accuracy')"
   ]
  },
  {
   "cell_type": "code",
   "execution_count": 8,
   "id": "b14f0c4a",
   "metadata": {},
   "outputs": [
    {
     "name": "stdout",
     "output_type": "stream",
     "text": [
      "         Unnamed: 0  precision    recall  f1-score        support\n",
      "0           nothing   0.999915  0.991418  0.995649  308221.000000\n",
      "1          one_pair   0.999884  0.992015  0.995934  259858.000000\n",
      "2          two_pair   0.999761  0.998601  0.999180   29297.000000\n",
      "3   three_of_a_kind   0.999383  0.998998  0.999191   12980.000000\n",
      "4          straight   0.331919  0.982824  0.496245    2387.000000\n",
      "5             flush   0.986323  0.996748  0.991508    1230.000000\n",
      "6        full_house   0.995449  0.998858  0.997151     876.000000\n",
      "7    four_of_a_kind   0.993007  1.000000  0.996491     142.000000\n",
      "8    straight_flush   0.727273  0.800000  0.761905      10.000000\n",
      "9       royal_flush   0.444444  0.800000  0.571429       5.000000\n",
      "10         accuracy   0.992158  0.992158  0.992158       0.992158\n",
      "11        macro avg   0.847736  0.955946  0.880468  615006.000000\n",
      "12     weighted avg   0.997246  0.992158  0.994061  615006.000000\n"
     ]
    }
   ],
   "source": [
    "print(report)"
   ]
  },
  {
   "cell_type": "code",
   "execution_count": 3,
   "id": "ebeca31f",
   "metadata": {},
   "outputs": [],
   "source": [
    "import torch.optim as optim"
   ]
  },
  {
   "cell_type": "code",
   "execution_count": 13,
   "id": "29958d40",
   "metadata": {},
   "outputs": [
    {
     "data": {
      "text/html": [
       "<div>\n",
       "<style scoped>\n",
       "    .dataframe tbody tr th:only-of-type {\n",
       "        vertical-align: middle;\n",
       "    }\n",
       "\n",
       "    .dataframe tbody tr th {\n",
       "        vertical-align: top;\n",
       "    }\n",
       "\n",
       "    .dataframe thead th {\n",
       "        text-align: right;\n",
       "    }\n",
       "</style>\n",
       "<table border=\"1\" class=\"dataframe\">\n",
       "  <thead>\n",
       "    <tr style=\"text-align: right;\">\n",
       "      <th></th>\n",
       "      <th>High Card</th>\n",
       "      <th>Pair</th>\n",
       "      <th>Two Pair</th>\n",
       "      <th>Three of a Kind</th>\n",
       "      <th>Straight</th>\n",
       "      <th>Flush</th>\n",
       "      <th>Full House</th>\n",
       "      <th>Four of a Kind</th>\n",
       "      <th>Straight Flush</th>\n",
       "      <th>Royal Flush</th>\n",
       "    </tr>\n",
       "  </thead>\n",
       "  <tbody>\n",
       "    <tr>\n",
       "      <th>0</th>\n",
       "      <td>305576</td>\n",
       "      <td>11</td>\n",
       "      <td>0</td>\n",
       "      <td>0</td>\n",
       "      <td>2634</td>\n",
       "      <td>0</td>\n",
       "      <td>0</td>\n",
       "      <td>0</td>\n",
       "      <td>0</td>\n",
       "      <td>0</td>\n",
       "    </tr>\n",
       "    <tr>\n",
       "      <th>1</th>\n",
       "      <td>2</td>\n",
       "      <td>257783</td>\n",
       "      <td>5</td>\n",
       "      <td>1</td>\n",
       "      <td>2053</td>\n",
       "      <td>14</td>\n",
       "      <td>0</td>\n",
       "      <td>0</td>\n",
       "      <td>0</td>\n",
       "      <td>0</td>\n",
       "    </tr>\n",
       "    <tr>\n",
       "      <th>2</th>\n",
       "      <td>0</td>\n",
       "      <td>7</td>\n",
       "      <td>29256</td>\n",
       "      <td>3</td>\n",
       "      <td>28</td>\n",
       "      <td>0</td>\n",
       "      <td>3</td>\n",
       "      <td>0</td>\n",
       "      <td>0</td>\n",
       "      <td>0</td>\n",
       "    </tr>\n",
       "    <tr>\n",
       "      <th>3</th>\n",
       "      <td>0</td>\n",
       "      <td>0</td>\n",
       "      <td>1</td>\n",
       "      <td>12967</td>\n",
       "      <td>7</td>\n",
       "      <td>0</td>\n",
       "      <td>1</td>\n",
       "      <td>0</td>\n",
       "      <td>0</td>\n",
       "      <td>4</td>\n",
       "    </tr>\n",
       "    <tr>\n",
       "      <th>4</th>\n",
       "      <td>24</td>\n",
       "      <td>12</td>\n",
       "      <td>1</td>\n",
       "      <td>4</td>\n",
       "      <td>2346</td>\n",
       "      <td>0</td>\n",
       "      <td>0</td>\n",
       "      <td>0</td>\n",
       "      <td>0</td>\n",
       "      <td>0</td>\n",
       "    </tr>\n",
       "    <tr>\n",
       "      <th>5</th>\n",
       "      <td>0</td>\n",
       "      <td>0</td>\n",
       "      <td>0</td>\n",
       "      <td>0</td>\n",
       "      <td>0</td>\n",
       "      <td>1226</td>\n",
       "      <td>0</td>\n",
       "      <td>0</td>\n",
       "      <td>3</td>\n",
       "      <td>1</td>\n",
       "    </tr>\n",
       "    <tr>\n",
       "      <th>6</th>\n",
       "      <td>0</td>\n",
       "      <td>0</td>\n",
       "      <td>0</td>\n",
       "      <td>0</td>\n",
       "      <td>0</td>\n",
       "      <td>0</td>\n",
       "      <td>875</td>\n",
       "      <td>1</td>\n",
       "      <td>0</td>\n",
       "      <td>0</td>\n",
       "    </tr>\n",
       "    <tr>\n",
       "      <th>7</th>\n",
       "      <td>0</td>\n",
       "      <td>0</td>\n",
       "      <td>0</td>\n",
       "      <td>0</td>\n",
       "      <td>0</td>\n",
       "      <td>0</td>\n",
       "      <td>0</td>\n",
       "      <td>142</td>\n",
       "      <td>0</td>\n",
       "      <td>0</td>\n",
       "    </tr>\n",
       "    <tr>\n",
       "      <th>8</th>\n",
       "      <td>0</td>\n",
       "      <td>0</td>\n",
       "      <td>0</td>\n",
       "      <td>0</td>\n",
       "      <td>0</td>\n",
       "      <td>2</td>\n",
       "      <td>0</td>\n",
       "      <td>0</td>\n",
       "      <td>8</td>\n",
       "      <td>0</td>\n",
       "    </tr>\n",
       "    <tr>\n",
       "      <th>9</th>\n",
       "      <td>0</td>\n",
       "      <td>0</td>\n",
       "      <td>0</td>\n",
       "      <td>0</td>\n",
       "      <td>0</td>\n",
       "      <td>1</td>\n",
       "      <td>0</td>\n",
       "      <td>0</td>\n",
       "      <td>0</td>\n",
       "      <td>4</td>\n",
       "    </tr>\n",
       "  </tbody>\n",
       "</table>\n",
       "</div>"
      ],
      "text/plain": [
       "   High Card    Pair  Two Pair  Three of a Kind  Straight  Flush  Full House  \\\n",
       "0     305576      11         0                0      2634      0           0   \n",
       "1          2  257783         5                1      2053     14           0   \n",
       "2          0       7     29256                3        28      0           3   \n",
       "3          0       0         1            12967         7      0           1   \n",
       "4         24      12         1                4      2346      0           0   \n",
       "5          0       0         0                0         0   1226           0   \n",
       "6          0       0         0                0         0      0         875   \n",
       "7          0       0         0                0         0      0           0   \n",
       "8          0       0         0                0         0      2           0   \n",
       "9          0       0         0                0         0      1           0   \n",
       "\n",
       "   Four of a Kind  Straight Flush  Royal Flush  \n",
       "0               0               0            0  \n",
       "1               0               0            0  \n",
       "2               0               0            0  \n",
       "3               0               0            4  \n",
       "4               0               0            0  \n",
       "5               0               3            1  \n",
       "6               1               0            0  \n",
       "7             142               0            0  \n",
       "8               0               8            0  \n",
       "9               0               0            4  "
      ]
     },
     "execution_count": 13,
     "metadata": {},
     "output_type": "execute_result"
    }
   ],
   "source": [
    "cm.iloc[:,1:]"
   ]
  },
  {
   "cell_type": "code",
   "execution_count": null,
   "id": "938d5689",
   "metadata": {},
   "outputs": [],
   "source": [
    "# model.eval()\n",
    "# with torch.no_grad():\n",
    "#     card_embeddings = model.card_embedder.weight\n",
    "#     card_embeddings = model.card_emb_projector(card_embeddings).cpu()\n",
    "#     card_embeddings_norm = F.normalize(card_embeddings, p=2, dim=1).numpy()"
   ]
  },
  {
   "cell_type": "code",
   "execution_count": null,
   "id": "60827b42",
   "metadata": {},
   "outputs": [],
   "source": [
    "# from sklearn.manifold import TSNE\n",
    "# from sklearn.decomposition import PCA"
   ]
  },
  {
   "cell_type": "code",
   "execution_count": null,
   "id": "e2c3a74d",
   "metadata": {},
   "outputs": [],
   "source": [
    "# tsne = TSNE(n_components=2, perplexity=30, max_iter=300)\n",
    "# emb_2d = tsne.fit_transform(card_embeddings_norm)"
   ]
  },
  {
   "cell_type": "code",
   "execution_count": 12,
   "id": "554a8de7",
   "metadata": {},
   "outputs": [],
   "source": [
    "# suit_colors = {\n",
    "#     0: 'green',    # Clubs\n",
    "#     1: 'blue',      # Diamonds\n",
    "#     2: 'red',     # Hearts\n",
    "#     3: 'black'     # Spades\n",
    "# }\n",
    "\n",
    "# colors = [suit_colors[i % 4] for i in range(len(DECK_DICT))]\n",
    "\n",
    "# # Now plot\n",
    "# plt.figure(figsize=(6, 6))\n",
    "# for i, txt in DECK_DICT.items():\n",
    "#     if i == 52:\n",
    "#         continue  # skip padding card if you have one\n",
    "#     plt.scatter(emb_2d[i, 0], emb_2d[i, 1], color=suit_colors[i % 4])\n",
    "#     plt.annotate(txt, (emb_2d[i, 0], emb_2d[i, 1]), fontsize=8)\n",
    "\n",
    "# plt.title(\"Card Embedding Visualization Colored by Suit\")\n",
    "# plt.show()"
   ]
  },
  {
   "cell_type": "code",
   "execution_count": 11,
   "id": "2eca586f",
   "metadata": {},
   "outputs": [],
   "source": [
    "# rank_colors = plt.cm.get_cmap('tab20', 13)\n",
    "\n",
    "# colors = [rank_colors(i // 4) for i in range(len(DECK_DICT))]\n",
    "\n",
    "# plt.figure(figsize=(6, 6))\n",
    "# for i, txt in DECK_DICT.items():\n",
    "#     if i == 52:\n",
    "#         continue\n",
    "#     plt.scatter(emb_2d[i, 0], emb_2d[i, 1], color=rank_colors(i // 4))\n",
    "#     plt.annotate(txt, (emb_2d[i, 0], emb_2d[i, 1]), fontsize=8)\n",
    "\n",
    "# plt.title(\"Card Embedding Visualization Colored by Rank\")\n",
    "# plt.show()"
   ]
  }
 ],
 "metadata": {
  "kernelspec": {
   "display_name": ".venv",
   "language": "python",
   "name": "python3"
  },
  "language_info": {
   "codemirror_mode": {
    "name": "ipython",
    "version": 3
   },
   "file_extension": ".py",
   "mimetype": "text/x-python",
   "name": "python",
   "nbconvert_exporter": "python",
   "pygments_lexer": "ipython3",
   "version": "3.12.3"
  }
 },
 "nbformat": 4,
 "nbformat_minor": 5
}
