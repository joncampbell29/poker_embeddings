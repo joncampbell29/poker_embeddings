{
 "cells": [
  {
   "cell_type": "code",
   "execution_count": 1,
   "id": "2afe2701",
   "metadata": {},
   "outputs": [],
   "source": [
    "import pandas as pd\n",
    "import numpy as np\n",
    "from sklearn.model_selection import train_test_split\n",
    "import matplotlib.pyplot as plt\n",
    "import seaborn as sns\n",
    "import torch\n",
    "import torch.nn as nn\n",
    "import torch.nn.functional as F\n",
    "import torch_geometric as tg\n",
    "\n",
    "from poker_embeddings.poker_utils.model import plot_train_loss, benchmark_dataloader\n",
    "from poker_embeddings.poker_utils.constants import DECK_DICT\n",
    "from poker_embeddings.poker_utils.datasets import UCIrvineDataset"
   ]
  },
  {
   "cell_type": "code",
   "execution_count": null,
   "id": "b62d4f26",
   "metadata": {},
   "outputs": [],
   "source": [
    "device = torch.device(\"cuda\" if torch.cuda.is_available() else \"cpu\")"
   ]
  },
  {
   "cell_type": "code",
   "execution_count": null,
   "id": "4392d392",
   "metadata": {},
   "outputs": [],
   "source": [
    "X = pd.read_csv(\"../data/uc_irvine/X.csv\")\n",
    "y = pd.read_csv(\"../data/uc_irvine/y.csv\")\n",
    "X_train, X_val, y_train, y_val = train_test_split(\n",
    "    X, y, test_size=0.6, random_state=29, stratify=y['CLASS']\n",
    "    )\n",
    "X_train = X_train.reset_index(drop=True)\n",
    "y_train = y_train.reset_index(drop=True)\n",
    "X_val = X_val.reset_index(drop=True)\n",
    "y_val = y_val.reset_index(drop=True)"
   ]
  },
  {
   "cell_type": "code",
   "execution_count": null,
   "id": "3fd211ff",
   "metadata": {},
   "outputs": [],
   "source": [
    "train_dataset = UCIrvineDataset(X_train, y_train, add_random_cards=True, use_card_ids=True,\n",
    "                           graph=True, normalize_x=True)\n",
    "val_dataset = UCIrvineDataset(X_val, y_val, add_random_cards=True, use_card_ids=True,\n",
    "                           graph=True, normalize_x=True)\n"
   ]
  },
  {
   "cell_type": "code",
   "execution_count": null,
   "id": "534165c3",
   "metadata": {},
   "outputs": [],
   "source": [
    "from torch_geometric.data import Data\n",
    "from torch_geometric.nn import GCNConv\n"
   ]
  },
  {
   "cell_type": "code",
   "execution_count": null,
   "id": "7b3068d0",
   "metadata": {},
   "outputs": [],
   "source": [
    "trainloader = tg.loader.DataLoader(\n",
    "    train_dataset,\n",
    "    batch_size=512,\n",
    "    shuffle=True,\n",
    "    num_workers=10,\n",
    "    pin_memory=True\n",
    "    )\n",
    "valloader = tg.loader.DataLoader(\n",
    "    val_dataset,\n",
    "    batch_size=512,\n",
    "    shuffle=False,\n",
    "    num_workers=10,\n",
    "    pin_memory=True\n",
    "    )"
   ]
  },
  {
   "cell_type": "code",
   "execution_count": 6,
   "id": "d3108582",
   "metadata": {},
   "outputs": [],
   "source": [
    "def create_board_edges(card_ids):\n",
    "    ranks = card_ids // 4\n",
    "    suits = card_ids % 4\n",
    "    num_cards = card_ids.size(0)\n",
    "    idx_i = card_ids.unsqueeze(1).expand(num_cards, num_cards)\n",
    "    idx_j = card_ids.unsqueeze(0).expand(num_cards, num_cards)\n",
    "\n",
    "    ranks_i = ranks.unsqueeze(1).expand(num_cards, num_cards)\n",
    "    ranks_j = ranks.unsqueeze(0).expand(num_cards, num_cards)\n",
    "\n",
    "    suits_i = suits.unsqueeze(1).expand(num_cards, num_cards)\n",
    "    suits_j = suits.unsqueeze(0).expand(num_cards, num_cards)\n",
    "\n",
    "    suit_match = suits_i == suits_j\n",
    "    rank_close = (torch.abs(ranks_i - ranks_j) <= 1) | (torch.abs(ranks_i - ranks_j) == 12)\n",
    "\n",
    "    not_self = idx_i != idx_j\n",
    "\n",
    "    edge_mask = (suit_match | rank_close) & not_self\n",
    "\n",
    "    edge_index = edge_mask.nonzero(as_tuple=False).t().contiguous()\n",
    "    return edge_index"
   ]
  },
  {
   "cell_type": "code",
   "execution_count": 18,
   "id": "b1076a19",
   "metadata": {},
   "outputs": [],
   "source": [
    "from poker_embeddings.poker_utils.constants import DECK_DICT"
   ]
  },
  {
   "cell_type": "code",
   "execution_count": 20,
   "id": "7a1e9991",
   "metadata": {},
   "outputs": [
    {
     "data": {
      "text/plain": [
       "tensor([[0, 1],\n",
       "        [1, 0]])"
      ]
     },
     "execution_count": 20,
     "metadata": {},
     "output_type": "execute_result"
    }
   ],
   "source": [
    "create_board_edges(torch.tensor([17,13]))"
   ]
  },
  {
   "cell_type": "code",
   "execution_count": 21,
   "id": "66e1aa9f",
   "metadata": {},
   "outputs": [
    {
     "data": {
      "text/plain": [
       "tensor([[0, 1],\n",
       "        [1, 0]])"
      ]
     },
     "execution_count": 21,
     "metadata": {},
     "output_type": "execute_result"
    }
   ],
   "source": [
    "create_board_edges(torch.tensor([17,12]))"
   ]
  },
  {
   "cell_type": "code",
   "execution_count": 19,
   "id": "1768cd1f",
   "metadata": {},
   "outputs": [
    {
     "data": {
      "text/plain": [
       "{0: '2c',\n",
       " 1: '2d',\n",
       " 2: '2h',\n",
       " 3: '2s',\n",
       " 4: '3c',\n",
       " 5: '3d',\n",
       " 6: '3h',\n",
       " 7: '3s',\n",
       " 8: '4c',\n",
       " 9: '4d',\n",
       " 10: '4h',\n",
       " 11: '4s',\n",
       " 12: '5c',\n",
       " 13: '5d',\n",
       " 14: '5h',\n",
       " 15: '5s',\n",
       " 16: '6c',\n",
       " 17: '6d',\n",
       " 18: '6h',\n",
       " 19: '6s',\n",
       " 20: '7c',\n",
       " 21: '7d',\n",
       " 22: '7h',\n",
       " 23: '7s',\n",
       " 24: '8c',\n",
       " 25: '8d',\n",
       " 26: '8h',\n",
       " 27: '8s',\n",
       " 28: '9c',\n",
       " 29: '9d',\n",
       " 30: '9h',\n",
       " 31: '9s',\n",
       " 32: 'Tc',\n",
       " 33: 'Td',\n",
       " 34: 'Th',\n",
       " 35: 'Ts',\n",
       " 36: 'Jc',\n",
       " 37: 'Jd',\n",
       " 38: 'Jh',\n",
       " 39: 'Js',\n",
       " 40: 'Qc',\n",
       " 41: 'Qd',\n",
       " 42: 'Qh',\n",
       " 43: 'Qs',\n",
       " 44: 'Kc',\n",
       " 45: 'Kd',\n",
       " 46: 'Kh',\n",
       " 47: 'Ks',\n",
       " 48: 'Ac',\n",
       " 49: 'Ad',\n",
       " 50: 'Ah',\n",
       " 51: 'As'}"
      ]
     },
     "execution_count": 19,
     "metadata": {},
     "output_type": "execute_result"
    }
   ],
   "source": [
    "DECK_DICT"
   ]
  },
  {
   "cell_type": "code",
   "execution_count": null,
   "id": "c31b486a",
   "metadata": {},
   "outputs": [],
   "source": [
    "def create_board_graph(cards_id, y):\n",
    "    if use_card_ids:\n",
    "        x = cards_id.unsqueeze(1)\n",
    "    else:\n",
    "        rank = cards_id // 4\n",
    "        suit = cards_id % 4\n",
    "        if normalize_x:\n",
    "            rank = rank / 12.0\n",
    "            suit = suit / 3.0\n",
    "        x = torch.stack([rank, suit], dim=1)\n",
    "\n",
    "    edge_index = create_board_edges(cards_id)\n",
    "\n",
    "    data = tg.data.Data(x=x, edge_index=edge_index, y=y)\n",
    "    return data"
   ]
  },
  {
   "cell_type": "code",
   "execution_count": 5,
   "id": "8dd101df",
   "metadata": {},
   "outputs": [
    {
     "data": {
      "text/plain": [
       "Data(x=[4, 10], edge_index=[2, 12], y=1)"
      ]
     },
     "execution_count": 5,
     "metadata": {},
     "output_type": "execute_result"
    }
   ],
   "source": [
    "create_board_graph(torch.tensor([1,2,3,4]), torch.randn(4, 10), 1)"
   ]
  },
  {
   "cell_type": "code",
   "execution_count": null,
   "id": "5ab65057",
   "metadata": {},
   "outputs": [],
   "source": [
    "class GraphGenerator(nn.Module):\n",
    "    def __init__(self, card_embedding_dim, in_channels, out_channels):\n",
    "        super(GraphGenerator, self).__init__()\n",
    "        self.card_embedder = nn.Embedding(53, card_embedding_dim, padding_idx=52)\n",
    "\n",
    "    def forward(self, board_graphs)"
   ]
  },
  {
   "cell_type": "code",
   "execution_count": null,
   "id": "62137f32",
   "metadata": {},
   "outputs": [],
   "source": [
    "class CardGNN(torch.nn.Module):\n",
    "    def __init__(self, card_embeddings=None, in_dim=2, hidden_dim=16, out_dim=16, freeze_emb=True):\n",
    "        super().__init__()\n",
    "        self.freeze_emb = freeze_emb\n",
    "        if card_embeddings is not None:\n",
    "            padding_row = torch.zeros((1, card_embeddings.size(1)))\n",
    "            card_embeddings_padded = torch.cat([card_embeddings, padding_row], dim=0)\n",
    "            self.card_embedder = nn.Embedding.from_pretrained(\n",
    "                card_embeddings_padded, padding_idx=52, freeze=freeze_emb)\n",
    "\n",
    "        if card_embeddings is not None:\n",
    "            self.gcn1 = GCNConv(card_embeddings.size(1), hidden_dim, add_self_loops=True)\n",
    "            self.use_card_emb = True\n",
    "        else:\n",
    "            self.gcn1 = GCNConv(in_dim, hidden_dim, add_self_loops=True)\n",
    "            self.use_card_emb = False\n",
    "        self.gcn2 = GCNConv(hidden_dim, out_dim, add_self_loops=True)\n",
    "        self.out_dim = out_dim\n",
    "\n",
    "    def forward(self, data):\n",
    "        x, edge_index = data.x, data.edge_index\n",
    "        if self.use_card_emb:\n",
    "            x = self.card_embedder(x.squeeze(-1))\n",
    "\n",
    "        x = self.gcn1(x, edge_index)\n",
    "        x = torch.relu(x)\n",
    "        x = self.gcn2(x, edge_index)\n",
    "        return x"
   ]
  }
 ],
 "metadata": {
  "kernelspec": {
   "display_name": ".venv",
   "language": "python",
   "name": "python3"
  },
  "language_info": {
   "codemirror_mode": {
    "name": "ipython",
    "version": 3
   },
   "file_extension": ".py",
   "mimetype": "text/x-python",
   "name": "python",
   "nbconvert_exporter": "python",
   "pygments_lexer": "ipython3",
   "version": "3.12.3"
  }
 },
 "nbformat": 4,
 "nbformat_minor": 5
}
