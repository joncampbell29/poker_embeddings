{
 "cells": [
  {
   "cell_type": "code",
   "execution_count": null,
   "id": "a79bdbab",
   "metadata": {},
   "outputs": [],
   "source": [
    "import itertools\n",
    "from poker_embeddings.poker_utils.constants import DECK_DICT\n",
    "import numpy as np\n",
    "import math"
   ]
  },
  {
   "cell_type": "code",
   "execution_count": 11,
   "id": "b9fa8341",
   "metadata": {},
   "outputs": [],
   "source": [
    "deck = set(DECK_DICT.values())"
   ]
  },
  {
   "cell_type": "code",
   "execution_count": null,
   "id": "51a11d29",
   "metadata": {},
   "outputs": [
    {
     "data": {
      "text/plain": [
       "['2c', '2d', '2h', '2s', '3c', '3d', '3h', '3s', '4c', '4d', '4h', '4s']"
      ]
     },
     "execution_count": 9,
     "metadata": {},
     "output_type": "execute_result"
    }
   ],
   "source": [
    "def get_transition_probs(state: set, deck: set, current_street: str=\"preflop\", num_players: int=6):\n",
    "    valid = deck - state\n",
    "    if current_street == 'preflop':\n",
    "        num_combos = math.comb(len(valid), 3)\n",
    "        probs = np.zeros(num_combos)\n",
    "    else:\n",
    "        probs = np.zeros(len(valid))\n",
    "    for card in valid:\n",
    "        probs[card] = 1 / len(valid)\n",
    "    return probs\n",
    "\n",
    "trans_probs = get_transition_probs(state, deck)\n",
    "print(f\"Transition probs (sum={trans_probs.sum()}): {trans_probs.nonzero()}\")\n"
   ]
  },
  {
   "cell_type": "code",
   "execution_count": 25,
   "id": "657fefe9",
   "metadata": {},
   "outputs": [],
   "source": [
    "from scipy.stats import hypergeom"
   ]
  },
  {
   "cell_type": "code",
   "execution_count": null,
   "id": "3fe0e7d1",
   "metadata": {},
   "outputs": [],
   "source": [
    "hypergeom.pmf()"
   ]
  },
  {
   "cell_type": "code",
   "execution_count": null,
   "id": "e9620fff",
   "metadata": {},
   "outputs": [],
   "source": [
    "from scipy.stats import hypergeom\n",
    "\n",
    "def prob_card_seen(card_id: int, state: set, num_players: int = 6) -> float:\n",
    "    \"\"\"\n",
    "    Returns the probability that a specific card is in an opponent's hand.\n",
    "\n",
    "    Args:\n",
    "        card_id: int from 0 to 51\n",
    "        state: set of known card IDs (hole + board)\n",
    "        num_players: total number of players at table (including you)\n",
    "\n",
    "    Returns:\n",
    "        probability that the card is held by an opponent\n",
    "    \"\"\"\n",
    "    N = 52 - len(state)  # number of unknown cards\n",
    "    K = 1 if card_id not in state else 0  # only 1 instance of any card\n",
    "    n = 2 * (num_players - 1)  # number of hidden cards\n",
    "\n",
    "    if K == 0:\n",
    "        return 0.0\n",
    "\n",
    "    p_unseen = 1 - hypergeom.pmf(0, N, K, n)  # P(card is in hidden cards)\n",
    "    return p_unseen"
   ]
  },
  {
   "cell_type": "code",
   "execution_count": null,
   "id": "db8be02f",
   "metadata": {},
   "outputs": [
    {
     "name": "stdout",
     "output_type": "stream",
     "text": [
      "Probability of hitting at least one heart on turn or river: 0.3497\n"
     ]
    }
   ],
   "source": [
    "# number of **unknown cards** left to come\n",
    "N = 52 - 5  # = 47\n",
    "\n",
    "# Number of \"successes\" in the population\n",
    "K = 13 - 4  # = 9 hearts remaining\n",
    "\n",
    "# Number of cards we will draw (trials)\n",
    "n = 2\n",
    "\n",
    "# We're interested in at least 1 heart hitting.\n",
    "# So we compute:\n",
    "# P(at least 1 heart) = 1 - P(0 hearts)\n",
    "p_zero_hearts = hypergeom.pmf(0, N, K, n)\n",
    "p_at_least_one_heart = 1 - p_zero_hearts\n",
    "\n",
    "print(f\"Probability of hitting at least one heart on turn or river: {p_at_least_one_heart:.4f}\")\n"
   ]
  },
  {
   "cell_type": "code",
   "execution_count": 34,
   "id": "2106337d",
   "metadata": {},
   "outputs": [
    {
     "data": {
      "text/plain": [
       "np.float64(0.3242857142857143)"
      ]
     },
     "execution_count": 34,
     "metadata": {},
     "output_type": "execute_result"
    }
   ],
   "source": [
    "# Situation AK in hand preflop\n",
    "# want to know the probability of ace or king coming on the flop\n",
    "\n",
    "N = 52 - 2\n",
    "n = 3\n",
    "K = 6\n",
    "1-hypergeom.pmf(0, N, K, n)"
   ]
  }
 ],
 "metadata": {
  "kernelspec": {
   "display_name": ".venv",
   "language": "python",
   "name": "python3"
  },
  "language_info": {
   "codemirror_mode": {
    "name": "ipython",
    "version": 3
   },
   "file_extension": ".py",
   "mimetype": "text/x-python",
   "name": "python",
   "nbconvert_exporter": "python",
   "pygments_lexer": "ipython3",
   "version": "3.12.3"
  }
 },
 "nbformat": 4,
 "nbformat_minor": 5
}
