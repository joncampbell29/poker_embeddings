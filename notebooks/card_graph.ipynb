{
 "cells": [
  {
   "cell_type": "code",
   "execution_count": 2,
   "id": "0f67cd4c",
   "metadata": {},
   "outputs": [],
   "source": [
    "import networkx as nx\n",
    "import pandas as pd\n",
    "import numpy as np\n",
    "from poker_embeddings.poker_utils.hands import card_distance\n",
    "from poker_embeddings.poker_utils.constants import DECK_DICT\n",
    "from itertools import combinations"
   ]
  },
  {
   "cell_type": "code",
   "execution_count": 3,
   "id": "6a0a2f5c",
   "metadata": {},
   "outputs": [],
   "source": [
    "card_graph = nx.Graph()\n",
    "for card in DECK_DICT.values():\n",
    "    card_graph.add_node(card)\n",
    "for card_id1, card1 in DECK_DICT.items():\n",
    "    for card_id2, card2 in DECK_DICT.items():\n",
    "        if card_id1 != card_id2:\n",
    "            distance = card_distance([card1, card2])\n",
    "            # suit1 = card_id1 % 4\n",
    "            # suit2 = card_id2 % 4\n",
    "            if distance <= 4:\n",
    "                card_graph.add_edge(card1, card2)"
   ]
  },
  {
   "cell_type": "code",
   "execution_count": 4,
   "id": "a61282a9",
   "metadata": {},
   "outputs": [
    {
     "data": {
      "text/plain": [
       "{('2', '7'),\n",
       " ('2', '8'),\n",
       " ('2', '9'),\n",
       " ('2', 'J'),\n",
       " ('2', 'K'),\n",
       " ('2', 'Q'),\n",
       " ('2', 'T'),\n",
       " ('3', '8'),\n",
       " ('3', '9'),\n",
       " ('3', 'J'),\n",
       " ('3', 'K'),\n",
       " ('3', 'Q'),\n",
       " ('3', 'T'),\n",
       " ('4', '9'),\n",
       " ('4', 'J'),\n",
       " ('4', 'K'),\n",
       " ('4', 'Q'),\n",
       " ('4', 'T'),\n",
       " ('5', 'J'),\n",
       " ('5', 'K'),\n",
       " ('5', 'Q'),\n",
       " ('5', 'T'),\n",
       " ('6', 'A'),\n",
       " ('6', 'J'),\n",
       " ('6', 'K'),\n",
       " ('6', 'Q'),\n",
       " ('7', 'A'),\n",
       " ('7', 'K'),\n",
       " ('7', 'Q'),\n",
       " ('8', 'A'),\n",
       " ('8', 'K'),\n",
       " ('9', 'A')}"
      ]
     },
     "execution_count": 4,
     "metadata": {},
     "output_type": "execute_result"
    }
   ],
   "source": [
    "unconnected_pairs = {\n",
    "    tuple(sorted([i[0], j[0]])) for i, j in combinations(DECK_DICT.values(), 2) if not card_graph.has_edge(i, j)\n",
    "}\n",
    "unconnected_pairs"
   ]
  },
  {
   "cell_type": "code",
   "execution_count": 5,
   "id": "dbbbe5ae",
   "metadata": {},
   "outputs": [
    {
     "data": {
      "text/plain": [
       "{'5', '6', '7', '8', '9', 'A', 'T'}"
      ]
     },
     "execution_count": 5,
     "metadata": {},
     "output_type": "execute_result"
    }
   ],
   "source": [
    "highest_degree = 0\n",
    "for card in card_graph.nodes:\n",
    "    if card_graph.degree[card] > highest_degree:\n",
    "        highest_degree = card_graph.degree[card]\n",
    "most_connected_nodes = {n[0] for n in card_graph.nodes if card_graph.degree[n] == highest_degree}\n",
    "most_connected_nodes"
   ]
  },
  {
   "cell_type": "code",
   "execution_count": 6,
   "id": "d6d89e0f",
   "metadata": {},
   "outputs": [
    {
     "data": {
      "text/plain": [
       "EdgeView([])"
      ]
     },
     "execution_count": 6,
     "metadata": {},
     "output_type": "execute_result"
    }
   ],
   "source": [
    "cards = [\"2c\",'7c','Qd']\n",
    "subgraph = card_graph.subgraph(cards)\n",
    "subgraph.edges"
   ]
  },
  {
   "cell_type": "code",
   "execution_count": 7,
   "id": "092e52f5",
   "metadata": {},
   "outputs": [],
   "source": [
    "from poker_embeddings.poker_utils.datasets import UCIrvineDataset"
   ]
  },
  {
   "cell_type": "code",
   "execution_count": 8,
   "id": "7f6d7297",
   "metadata": {},
   "outputs": [],
   "source": [
    "X = pd.read_csv(\"../data/uc_irvine/X.csv\")\n",
    "y = pd.read_csv(\"../data/uc_irvine/y.csv\")"
   ]
  },
  {
   "cell_type": "code",
   "execution_count": 9,
   "id": "2c1755fd",
   "metadata": {},
   "outputs": [],
   "source": [
    "dataset = UCIrvineDataset(X,y, use_card_ids=False, normalize_x=False)"
   ]
  },
  {
   "cell_type": "code",
   "execution_count": 10,
   "id": "34a70857",
   "metadata": {},
   "outputs": [],
   "source": [
    "from torch_geometric import loader"
   ]
  },
  {
   "cell_type": "code",
   "execution_count": 11,
   "id": "660dccda",
   "metadata": {},
   "outputs": [],
   "source": [
    "dataloader = loader.DataLoader(dataset, batch_size=512)"
   ]
  },
  {
   "cell_type": "code",
   "execution_count": 12,
   "id": "003110cb",
   "metadata": {},
   "outputs": [],
   "source": [
    "ex = next(iter(dataloader))"
   ]
  }
 ],
 "metadata": {
  "kernelspec": {
   "display_name": ".venv",
   "language": "python",
   "name": "python3"
  },
  "language_info": {
   "codemirror_mode": {
    "name": "ipython",
    "version": 3
   },
   "file_extension": ".py",
   "mimetype": "text/x-python",
   "name": "python",
   "nbconvert_exporter": "python",
   "pygments_lexer": "ipython3",
   "version": "3.12.3"
  }
 },
 "nbformat": 4,
 "nbformat_minor": 5
}
