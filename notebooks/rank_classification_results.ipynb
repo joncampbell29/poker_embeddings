{
 "cells": [
  {
   "cell_type": "code",
   "execution_count": 1,
   "id": "2afe2701",
   "metadata": {},
   "outputs": [],
   "source": [
    "import pandas as pd\n",
    "import numpy as np\n",
    "import glob\n",
    "import seaborn as sns\n",
    "from poker_embeddings.models.card import HandGNN, HandClassifier\n",
    "import torch\n",
    "import torch.nn.functional as F\n",
    "from sklearn.manifold import TSNE\n",
    "from poker_embeddings.poker_utils.constants import DECK_DICT\n",
    "import matplotlib.pyplot as plt\n",
    "from poker_embeddings.poker_utils.hands import create_deck_graph, query_subgraph\n",
    "from poker_embeddings.poker_utils.hands import _card_to_idx\n",
    "from torch_geometric.data import Data, Batch"
   ]
  },
  {
   "cell_type": "code",
   "execution_count": 2,
   "id": "7d430dd3",
   "metadata": {},
   "outputs": [],
   "source": [
    "loss_data = []\n",
    "for path in glob.glob(\"../training_results/hand_rank_model/**/*train_loss*\", recursive=True):\n",
    "    dat = pd.read_csv(path)\n",
    "    loss_data.append(dat)\n",
    "loss_data = pd.concat(loss_data)"
   ]
  },
  {
   "cell_type": "code",
   "execution_count": 3,
   "id": "44d2e7d4",
   "metadata": {},
   "outputs": [
    {
     "data": {
      "text/plain": [
       "<Axes: xlabel='epochs', ylabel='train_accuracy'>"
      ]
     },
     "execution_count": 3,
     "metadata": {},
     "output_type": "execute_result"
    },
    {
     "data": {
      "image/png": "[encoded data removed]",
      "text/plain": [
       "<Figure size 640x480 with 1 Axes>"
      ]
     },
     "metadata": {},
     "output_type": "display_data"
    }
   ],
   "source": [
    "sns.lineplot(data=loss_data, x='epochs',y='train_accuracy')"
   ]
  },
  {
   "cell_type": "code",
   "execution_count": 4,
   "id": "11832afe",
   "metadata": {},
   "outputs": [],
   "source": [
    "report = pd.read_csv(\"../training_results/hand_rank_model/run4/hand_rank_predictor_classification_report_225.csv\")\n",
    "cm = pd.read_csv(\"../training_results/hand_rank_model/run4/hand_rank_predictor_confusion_matrix_225.csv\")"
   ]
  },
  {
   "cell_type": "code",
   "execution_count": 5,
   "id": "769f10bf",
   "metadata": {},
   "outputs": [
    {
     "name": "stdout",
     "output_type": "stream",
     "text": [
      "         Unnamed: 0  precision    recall  f1-score        support\n",
      "0           nothing   1.000000  0.999477  0.999739  359591.000000\n",
      "1          one_pair   1.000000  0.999957  0.999979  303168.000000\n",
      "2          two_pair   1.000000  1.000000  1.000000   34180.000000\n",
      "3   three_of_a_kind   1.000000  0.999934  0.999967   15144.000000\n",
      "4          straight   0.935170  1.000000  0.966499    2784.000000\n",
      "5             flush   0.993754  0.997909  0.995828    1435.000000\n",
      "6        full_house   0.999022  1.000000  0.999511    1022.000000\n",
      "7    four_of_a_kind   1.000000  1.000000  1.000000     165.000000\n",
      "8    straight_flush   0.550000  0.916667  0.687500      12.000000\n",
      "9       royal_flush   0.000000  0.000000  0.000000       6.000000\n",
      "10         accuracy   0.999705  0.999705  0.999705       0.999705\n",
      "11        macro avg   0.847795  0.891394  0.864902  717507.000000\n",
      "12     weighted avg   0.999719  0.999705  0.999707  717507.000000\n"
     ]
    }
   ],
   "source": [
    "print(report)"
   ]
  },
  {
   "cell_type": "code",
   "execution_count": 6,
   "id": "81bf6035",
   "metadata": {},
   "outputs": [
    {
     "data": {
      "text/html": [
       "<div>\n",
       "<style scoped>\n",
       "    .dataframe tbody tr th:only-of-type {\n",
       "        vertical-align: middle;\n",
       "    }\n",
       "\n",
       "    .dataframe tbody tr th {\n",
       "        vertical-align: top;\n",
       "    }\n",
       "\n",
       "    .dataframe thead th {\n",
       "        text-align: right;\n",
       "    }\n",
       "</style>\n",
       "<table border=\"1\" class=\"dataframe\">\n",
       "  <thead>\n",
       "    <tr style=\"text-align: right;\">\n",
       "      <th></th>\n",
       "      <th>Unnamed: 0</th>\n",
       "      <th>class</th>\n",
       "      <th>High Card</th>\n",
       "      <th>Pair</th>\n",
       "      <th>Two Pair</th>\n",
       "      <th>Three of a Kind</th>\n",
       "      <th>Straight</th>\n",
       "      <th>Flush</th>\n",
       "      <th>Full House</th>\n",
       "      <th>Four of a Kind</th>\n",
       "      <th>Straight Flush</th>\n",
       "      <th>Royal Flush</th>\n",
       "    </tr>\n",
       "  </thead>\n",
       "  <tbody>\n",
       "    <tr>\n",
       "      <th>0</th>\n",
       "      <td>0</td>\n",
       "      <td>High Card</td>\n",
       "      <td>359403</td>\n",
       "      <td>0</td>\n",
       "      <td>0</td>\n",
       "      <td>0</td>\n",
       "      <td>180</td>\n",
       "      <td>8</td>\n",
       "      <td>0</td>\n",
       "      <td>0</td>\n",
       "      <td>0</td>\n",
       "      <td>0</td>\n",
       "    </tr>\n",
       "    <tr>\n",
       "      <th>1</th>\n",
       "      <td>1</td>\n",
       "      <td>Pair</td>\n",
       "      <td>0</td>\n",
       "      <td>303155</td>\n",
       "      <td>0</td>\n",
       "      <td>0</td>\n",
       "      <td>13</td>\n",
       "      <td>0</td>\n",
       "      <td>0</td>\n",
       "      <td>0</td>\n",
       "      <td>0</td>\n",
       "      <td>0</td>\n",
       "    </tr>\n",
       "    <tr>\n",
       "      <th>2</th>\n",
       "      <td>2</td>\n",
       "      <td>Two Pair</td>\n",
       "      <td>0</td>\n",
       "      <td>0</td>\n",
       "      <td>34180</td>\n",
       "      <td>0</td>\n",
       "      <td>0</td>\n",
       "      <td>0</td>\n",
       "      <td>0</td>\n",
       "      <td>0</td>\n",
       "      <td>0</td>\n",
       "      <td>0</td>\n",
       "    </tr>\n",
       "    <tr>\n",
       "      <th>3</th>\n",
       "      <td>3</td>\n",
       "      <td>Three of a Kind</td>\n",
       "      <td>0</td>\n",
       "      <td>0</td>\n",
       "      <td>0</td>\n",
       "      <td>15143</td>\n",
       "      <td>0</td>\n",
       "      <td>0</td>\n",
       "      <td>1</td>\n",
       "      <td>0</td>\n",
       "      <td>0</td>\n",
       "      <td>0</td>\n",
       "    </tr>\n",
       "    <tr>\n",
       "      <th>4</th>\n",
       "      <td>4</td>\n",
       "      <td>Straight</td>\n",
       "      <td>0</td>\n",
       "      <td>0</td>\n",
       "      <td>0</td>\n",
       "      <td>0</td>\n",
       "      <td>2784</td>\n",
       "      <td>0</td>\n",
       "      <td>0</td>\n",
       "      <td>0</td>\n",
       "      <td>0</td>\n",
       "      <td>0</td>\n",
       "    </tr>\n",
       "    <tr>\n",
       "      <th>5</th>\n",
       "      <td>5</td>\n",
       "      <td>Flush</td>\n",
       "      <td>0</td>\n",
       "      <td>0</td>\n",
       "      <td>0</td>\n",
       "      <td>0</td>\n",
       "      <td>0</td>\n",
       "      <td>1432</td>\n",
       "      <td>0</td>\n",
       "      <td>0</td>\n",
       "      <td>3</td>\n",
       "      <td>0</td>\n",
       "    </tr>\n",
       "    <tr>\n",
       "      <th>6</th>\n",
       "      <td>6</td>\n",
       "      <td>Full House</td>\n",
       "      <td>0</td>\n",
       "      <td>0</td>\n",
       "      <td>0</td>\n",
       "      <td>0</td>\n",
       "      <td>0</td>\n",
       "      <td>0</td>\n",
       "      <td>1022</td>\n",
       "      <td>0</td>\n",
       "      <td>0</td>\n",
       "      <td>0</td>\n",
       "    </tr>\n",
       "    <tr>\n",
       "      <th>7</th>\n",
       "      <td>7</td>\n",
       "      <td>Four of a Kind</td>\n",
       "      <td>0</td>\n",
       "      <td>0</td>\n",
       "      <td>0</td>\n",
       "      <td>0</td>\n",
       "      <td>0</td>\n",
       "      <td>0</td>\n",
       "      <td>0</td>\n",
       "      <td>165</td>\n",
       "      <td>0</td>\n",
       "      <td>0</td>\n",
       "    </tr>\n",
       "    <tr>\n",
       "      <th>8</th>\n",
       "      <td>8</td>\n",
       "      <td>Straight Flush</td>\n",
       "      <td>0</td>\n",
       "      <td>0</td>\n",
       "      <td>0</td>\n",
       "      <td>0</td>\n",
       "      <td>0</td>\n",
       "      <td>1</td>\n",
       "      <td>0</td>\n",
       "      <td>0</td>\n",
       "      <td>11</td>\n",
       "      <td>0</td>\n",
       "    </tr>\n",
       "    <tr>\n",
       "      <th>9</th>\n",
       "      <td>9</td>\n",
       "      <td>Royal Flush</td>\n",
       "      <td>0</td>\n",
       "      <td>0</td>\n",
       "      <td>0</td>\n",
       "      <td>0</td>\n",
       "      <td>0</td>\n",
       "      <td>0</td>\n",
       "      <td>0</td>\n",
       "      <td>0</td>\n",
       "      <td>6</td>\n",
       "      <td>0</td>\n",
       "    </tr>\n",
       "  </tbody>\n",
       "</table>\n",
       "</div>"
      ],
      "text/plain": [
       "   Unnamed: 0            class  High Card    Pair  Two Pair  Three of a Kind  \\\n",
       "0           0        High Card     359403       0         0                0   \n",
       "1           1             Pair          0  303155         0                0   \n",
       "2           2         Two Pair          0       0     34180                0   \n",
       "3           3  Three of a Kind          0       0         0            15143   \n",
       "4           4         Straight          0       0         0                0   \n",
       "5           5            Flush          0       0         0                0   \n",
       "6           6       Full House          0       0         0                0   \n",
       "7           7   Four of a Kind          0       0         0                0   \n",
       "8           8   Straight Flush          0       0         0                0   \n",
       "9           9      Royal Flush          0       0         0                0   \n",
       "\n",
       "   Straight  Flush  Full House  Four of a Kind  Straight Flush  Royal Flush  \n",
       "0       180      8           0               0               0            0  \n",
       "1        13      0           0               0               0            0  \n",
       "2         0      0           0               0               0            0  \n",
       "3         0      0           1               0               0            0  \n",
       "4      2784      0           0               0               0            0  \n",
       "5         0   1432           0               0               3            0  \n",
       "6         0      0        1022               0               0            0  \n",
       "7         0      0           0             165               0            0  \n",
       "8         0      1           0               0              11            0  \n",
       "9         0      0           0               0               6            0  "
      ]
     },
     "execution_count": 6,
     "metadata": {},
     "output_type": "execute_result"
    }
   ],
   "source": [
    "cm"
   ]
  },
  {
   "cell_type": "code",
   "execution_count": 7,
   "id": "e13570a6",
   "metadata": {},
   "outputs": [
    {
     "data": {
      "text/plain": [
       "<All keys matched successfully>"
      ]
     },
     "execution_count": 7,
     "metadata": {},
     "output_type": "execute_result"
    }
   ],
   "source": [
    "model = HandClassifier().eval()\n",
    "model.load_state_dict(torch.load(\"../model_weights/hand_rank_model/hand_rank_predictor225.pth\", weights_only=True))"
   ]
  },
  {
   "cell_type": "code",
   "execution_count": 9,
   "id": "f40ca8e8",
   "metadata": {},
   "outputs": [
    {
     "data": {
      "text/plain": [
       "HandGNN(\n",
       "  (rank_embedder): Embedding(13, 8)\n",
       "  (suit_embedder): Embedding(4, 8)\n",
       "  (node_mlp_layers): Sequential(\n",
       "    (0): Linear(in_features=16, out_features=16, bias=True)\n",
       "    (1): ReLU()\n",
       "    (2): Linear(in_features=16, out_features=16, bias=True)\n",
       "  )\n",
       "  (card_emb_projector): Linear(in_features=16, out_features=16, bias=True)\n",
       "  (gnn_layers): ModuleList(\n",
       "    (0-1): 2 x GINEConv(nn=Sequential(\n",
       "      (0): Linear(in_features=16, out_features=16, bias=True)\n",
       "      (1): ReLU()\n",
       "      (2): Linear(in_features=16, out_features=16, bias=True)\n",
       "    ))\n",
       "  )\n",
       ")"
      ]
     },
     "execution_count": 9,
     "metadata": {},
     "output_type": "execute_result"
    }
   ],
   "source": [
    "model.hand_encoder"
   ]
  },
  {
   "cell_type": "code",
   "execution_count": 19,
   "id": "48e64098",
   "metadata": {},
   "outputs": [],
   "source": [
    "card_ids = torch.tensor(range(52), dtype=torch.long)\n",
    "rank_ids = card_ids // 4\n",
    "suit_ids = card_ids % 4"
   ]
  },
  {
   "cell_type": "code",
   "execution_count": 22,
   "id": "eef27743",
   "metadata": {},
   "outputs": [],
   "source": [
    "with torch.no_grad():\n",
    "    rank_emb = model.hand_encoder.rank_embedder(rank_ids)\n",
    "    suit_emb = model.hand_encoder.suit_embedder(suit_ids)\n",
    "    card_emb = torch.cat([rank_emb, suit_emb], dim=1)\n",
    "    card_embeddings = model.hand_encoder.card_emb_projector(card_emb)\n",
    "    card_embeddings_norm = F.normalize(card_embeddings).numpy()"
   ]
  },
  {
   "cell_type": "code",
   "execution_count": 23,
   "id": "c63f13d9",
   "metadata": {},
   "outputs": [],
   "source": [
    "tsne = TSNE(n_components=2, perplexity=30, max_iter=300, random_state=29)\n",
    "emb_2d = tsne.fit_transform(card_embeddings_norm)"
   ]
  },
  {
   "cell_type": "code",
   "execution_count": 24,
   "id": "b7fcc9d9",
   "metadata": {},
   "outputs": [
    {
     "data": {
      "image/png": "[encoded data removed]",
      "text/plain": [
       "<Figure size 1200x600 with 1 Axes>"
      ]
     },
     "metadata": {},
     "output_type": "display_data"
    }
   ],
   "source": [
    "suit_colors = {\n",
    "    0: 'green', # Clubs\n",
    "    1: 'blue', # Diamonds\n",
    "    2: 'red', # Hearts\n",
    "    3: 'black' # Spades\n",
    "}\n",
    "colors = [suit_colors[i % 4] for i in range(len(DECK_DICT))]\n",
    "\n",
    "plt.figure(figsize=(12, 6))\n",
    "for i, txt in DECK_DICT.items():\n",
    "    if i == 52:\n",
    "        continue\n",
    "    plt.scatter(emb_2d[i, 0], emb_2d[i, 1], color=suit_colors[i % 4])\n",
    "    plt.annotate(txt, (emb_2d[i, 0], emb_2d[i, 1]), fontsize=8)\n",
    "\n",
    "plt.title(\"Card Embeddings Colored by Suit\")\n",
    "plt.show()"
   ]
  },
  {
   "cell_type": "code",
   "execution_count": 25,
   "id": "4f818d2a",
   "metadata": {},
   "outputs": [
    {
     "data": {
      "image/png": "[encoded data removed]",
      "text/plain": [
       "<Figure size 1200x600 with 1 Axes>"
      ]
     },
     "metadata": {},
     "output_type": "display_data"
    }
   ],
   "source": [
    "rank_colors = plt.colormaps.get_cmap('tab20')\n",
    "colors = [rank_colors(i // 4) for i in range(len(DECK_DICT))]\n",
    "plt.figure(figsize=(12, 6))\n",
    "for i, txt in DECK_DICT.items():\n",
    "    if i == 52:\n",
    "        continue\n",
    "    plt.scatter(emb_2d[i, 0], emb_2d[i, 1], color=rank_colors(i // 4))\n",
    "    plt.annotate(txt, (emb_2d[i, 0], emb_2d[i, 1]), fontsize=8)\n",
    "\n",
    "plt.title(\"Card Embeddings Colored by Rank\")\n",
    "plt.show()"
   ]
  },
  {
   "cell_type": "code",
   "execution_count": null,
   "id": "db2c116d",
   "metadata": {},
   "outputs": [],
   "source": []
  },
  {
   "cell_type": "code",
   "execution_count": 26,
   "id": "b0c17008",
   "metadata": {},
   "outputs": [],
   "source": [
    "deck_graph_edge_index, deck_graph_edge_attr = create_deck_graph()"
   ]
  },
  {
   "cell_type": "code",
   "execution_count": null,
   "id": "41e82fe7",
   "metadata": {},
   "outputs": [],
   "source": [
    "def predict(hands, model, return_logits=True):\n",
    "    class_names = [\n",
    "        \"high_card\", \"one_pair\", \"two_pair\", \"three_of_a_kind\", \"straight\",\n",
    "        \"flush\", \"full_house\", \"four_of_a_kind\", \"straight_flush\", \"royal_flush\"\n",
    "        ]\n",
    "\n",
    "        # card_ids = torch.tensor(range(52), dtype=torch.long)\n",
    "        # rank_ids = card_ids // 4\n",
    "        # suit_ids = card_ids % 4\n",
    "    deck_graph_edge_index, deck_graph_edge_attr = create_deck_graph()\n",
    "    if isinstance(hands, torch.Tensor):\n",
    "        if hands.dim() == 1:\n",
    "            hand_edge_index, hand_edge_attr = query_subgraph(hands, deck_graph_edge_index, deck_graph_edge_attr)\n",
    "            x = torch.stack([hands // 4, hands % 4], dim=1)\n",
    "            graph = Data(x=x, edge_index=hand_edge_index, edge_attr=hand_edge_attr)\n",
    "            graph = Batch.from_data_list([graph])\n",
    "        else:\n",
    "            graphs = []\n",
    "            for hand in hands:\n",
    "                hand_edge_index, hand_edge_attr = query_subgraph(hand, deck_graph_edge_index, deck_graph_edge_attr)\n",
    "                x = torch.stack([hand // 4, hand % 4], dim=1)\n",
    "                graph = Data(x=x, edge_index=hand_edge_index, edge_attr=hand_edge_attr)\n",
    "                graphs.append(graph)\n",
    "            graph = Batch.from_data_list(graphs)\n",
    "\n",
    "    elif isinstance(hands, list) and all(isinstance(hand, list) for hand in hands):\n",
    "\n",
    "        graphs = []\n",
    "        for hand in hands:\n",
    "            if isinstance(hand[0], str):\n",
    "                hand = torch.tensor([_card_to_idx[card] for card in hand])\n",
    "            else:\n",
    "                hand = torch.tensor(hand)\n",
    "\n",
    "            hand_edge_index, hand_edge_attr = query_subgraph(hand, deck_graph_edge_index, deck_graph_edge_attr)\n",
    "            x = torch.stack([hand // 4, hand % 4], dim=1)\n",
    "            graph = Data(x=x, edge_index=hand_edge_index, edge_attr=hand_edge_attr)\n",
    "            graphs.append(graph)\n",
    "        graph = Batch.from_data_list(graphs)\n",
    "    elif isinstance(hands, list):\n",
    "        hand = torch.tensor([_card_to_idx[card] for card in hands])\n",
    "        hand_edge_index, hand_edge_attr = query_subgraph(hand, deck_graph_edge_index, deck_graph_edge_attr)\n",
    "        x = torch.stack([hand // 4, hand % 4], dim=1)\n",
    "        graph = Data(x=x, edge_index=hand_edge_index, edge_attr=hand_edge_attr)\n",
    "        graph = Batch.from_data_list([graph])\n",
    "\n",
    "    with torch.no_grad():\n",
    "        logits = model(graph)\n",
    "    if return_logits:\n",
    "        return logits\n",
    "    else:\n",
    "        preds = logits.argmax(dim=1)\n",
    "        return [class_names[i.item()] for i in preds]\n"
   ]
  },
  {
   "cell_type": "code",
   "execution_count": 28,
   "id": "c8256871",
   "metadata": {},
   "outputs": [],
   "source": [
    "class_names = [\n",
    "        \"high_card\", \"one_pair\", \"two_pair\", \"three_of_a_kind\", \"straight\",\n",
    "        \"flush\", \"full_house\", \"four_of_a_kind\", \"straight_flush\", \"royal_flush\"\n",
    "        ]"
   ]
  },
  {
   "cell_type": "code",
   "execution_count": 47,
   "id": "657f86f2",
   "metadata": {},
   "outputs": [
    {
     "data": {
      "text/plain": [
       "['one_pair', 'three_of_a_kind', 'flush', 'straight']"
      ]
     },
     "execution_count": 47,
     "metadata": {},
     "output_type": "execute_result"
    }
   ],
   "source": [
    "cards = [\n",
    "    ['As','Ad','Tc','7c'],\n",
    "    ['As','Ad','Tc','7c','Ac'],\n",
    "    ['7h','8h','3s','Th',\"Qh\",\"Jh\"],\n",
    "    ['Th','Jh',\"Qs\",\"As\",\"Kc\"]\n",
    "    ]\n",
    "predict(cards, model, return_logits=False)"
   ]
  },
  {
   "cell_type": "code",
   "execution_count": 65,
   "id": "2ca5be3e",
   "metadata": {},
   "outputs": [
    {
     "data": {
      "text/html": [
       "<div>\n",
       "<style scoped>\n",
       "    .dataframe tbody tr th:only-of-type {\n",
       "        vertical-align: middle;\n",
       "    }\n",
       "\n",
       "    .dataframe tbody tr th {\n",
       "        vertical-align: top;\n",
       "    }\n",
       "\n",
       "    .dataframe thead th {\n",
       "        text-align: right;\n",
       "    }\n",
       "</style>\n",
       "<table border=\"1\" class=\"dataframe\">\n",
       "  <thead>\n",
       "    <tr style=\"text-align: right;\">\n",
       "      <th></th>\n",
       "      <th>rank</th>\n",
       "      <th>pred_probs</th>\n",
       "    </tr>\n",
       "  </thead>\n",
       "  <tbody>\n",
       "    <tr>\n",
       "      <th>1</th>\n",
       "      <td>one_pair</td>\n",
       "      <td>0.9892</td>\n",
       "    </tr>\n",
       "    <tr>\n",
       "      <th>0</th>\n",
       "      <td>high_card</td>\n",
       "      <td>0.0075</td>\n",
       "    </tr>\n",
       "    <tr>\n",
       "      <th>5</th>\n",
       "      <td>flush</td>\n",
       "      <td>0.0031</td>\n",
       "    </tr>\n",
       "    <tr>\n",
       "      <th>3</th>\n",
       "      <td>three_of_a_kind</td>\n",
       "      <td>0.0001</td>\n",
       "    </tr>\n",
       "    <tr>\n",
       "      <th>2</th>\n",
       "      <td>two_pair</td>\n",
       "      <td>0.0001</td>\n",
       "    </tr>\n",
       "    <tr>\n",
       "      <th>8</th>\n",
       "      <td>straight_flush</td>\n",
       "      <td>0.0000</td>\n",
       "    </tr>\n",
       "    <tr>\n",
       "      <th>4</th>\n",
       "      <td>straight</td>\n",
       "      <td>0.0000</td>\n",
       "    </tr>\n",
       "    <tr>\n",
       "      <th>9</th>\n",
       "      <td>royal_flush</td>\n",
       "      <td>0.0000</td>\n",
       "    </tr>\n",
       "    <tr>\n",
       "      <th>7</th>\n",
       "      <td>four_of_a_kind</td>\n",
       "      <td>0.0000</td>\n",
       "    </tr>\n",
       "    <tr>\n",
       "      <th>6</th>\n",
       "      <td>full_house</td>\n",
       "      <td>0.0000</td>\n",
       "    </tr>\n",
       "  </tbody>\n",
       "</table>\n",
       "</div>"
      ],
      "text/plain": [
       "              rank  pred_probs\n",
       "1         one_pair      0.9892\n",
       "0        high_card      0.0075\n",
       "5            flush      0.0031\n",
       "3  three_of_a_kind      0.0001\n",
       "2         two_pair      0.0001\n",
       "8   straight_flush      0.0000\n",
       "4         straight      0.0000\n",
       "9      royal_flush      0.0000\n",
       "7   four_of_a_kind      0.0000\n",
       "6       full_house      0.0000"
      ]
     },
     "execution_count": 65,
     "metadata": {},
     "output_type": "execute_result"
    }
   ],
   "source": [
    "logits = predict([[\"2c\",\"Qc\",\"Jc\",\"7c\",\"7h\"]], model, return_logits=True)\n",
    "distribution = [i.item() for i in F.softmax(logits.squeeze(0), dim=0)]\n",
    "pd.DataFrame({'rank': class_names,'pred_probs':distribution}).sort_values(by='pred_probs', ascending=False).round(4)"
   ]
  },
  {
   "cell_type": "code",
   "execution_count": 49,
   "id": "b1b40501",
   "metadata": {},
   "outputs": [
    {
     "data": {
      "text/html": [
       "<div>\n",
       "<style scoped>\n",
       "    .dataframe tbody tr th:only-of-type {\n",
       "        vertical-align: middle;\n",
       "    }\n",
       "\n",
       "    .dataframe tbody tr th {\n",
       "        vertical-align: top;\n",
       "    }\n",
       "\n",
       "    .dataframe thead th {\n",
       "        text-align: right;\n",
       "    }\n",
       "</style>\n",
       "<table border=\"1\" class=\"dataframe\">\n",
       "  <thead>\n",
       "    <tr style=\"text-align: right;\">\n",
       "      <th></th>\n",
       "      <th>rank</th>\n",
       "      <th>pred_probs</th>\n",
       "    </tr>\n",
       "  </thead>\n",
       "  <tbody>\n",
       "    <tr>\n",
       "      <th>6</th>\n",
       "      <td>full_house</td>\n",
       "      <td>1.0</td>\n",
       "    </tr>\n",
       "    <tr>\n",
       "      <th>7</th>\n",
       "      <td>four_of_a_kind</td>\n",
       "      <td>0.0</td>\n",
       "    </tr>\n",
       "    <tr>\n",
       "      <th>5</th>\n",
       "      <td>flush</td>\n",
       "      <td>0.0</td>\n",
       "    </tr>\n",
       "    <tr>\n",
       "      <th>0</th>\n",
       "      <td>high_card</td>\n",
       "      <td>0.0</td>\n",
       "    </tr>\n",
       "    <tr>\n",
       "      <th>1</th>\n",
       "      <td>one_pair</td>\n",
       "      <td>0.0</td>\n",
       "    </tr>\n",
       "    <tr>\n",
       "      <th>2</th>\n",
       "      <td>two_pair</td>\n",
       "      <td>0.0</td>\n",
       "    </tr>\n",
       "    <tr>\n",
       "      <th>4</th>\n",
       "      <td>straight</td>\n",
       "      <td>0.0</td>\n",
       "    </tr>\n",
       "    <tr>\n",
       "      <th>3</th>\n",
       "      <td>three_of_a_kind</td>\n",
       "      <td>0.0</td>\n",
       "    </tr>\n",
       "    <tr>\n",
       "      <th>8</th>\n",
       "      <td>straight_flush</td>\n",
       "      <td>0.0</td>\n",
       "    </tr>\n",
       "    <tr>\n",
       "      <th>9</th>\n",
       "      <td>royal_flush</td>\n",
       "      <td>0.0</td>\n",
       "    </tr>\n",
       "  </tbody>\n",
       "</table>\n",
       "</div>"
      ],
      "text/plain": [
       "              rank  pred_probs\n",
       "6       full_house         1.0\n",
       "7   four_of_a_kind         0.0\n",
       "5            flush         0.0\n",
       "0        high_card         0.0\n",
       "1         one_pair         0.0\n",
       "2         two_pair         0.0\n",
       "4         straight         0.0\n",
       "3  three_of_a_kind         0.0\n",
       "8   straight_flush         0.0\n",
       "9      royal_flush         0.0"
      ]
     },
     "execution_count": 49,
     "metadata": {},
     "output_type": "execute_result"
    }
   ],
   "source": [
    "cards = [\n",
    "    list(DECK_DICT.values())\n",
    "    ]\n",
    "logits = predict(cards, model, return_logits=True).squeeze(0)\n",
    "distribution = [i.item() for i in F.softmax(logits, dim=0)]\n",
    "pd.DataFrame({'rank': class_names,'pred_probs':distribution}).sort_values(by='pred_probs', ascending=False).round(4)"
   ]
  },
  {
   "cell_type": "code",
   "execution_count": null,
   "id": "5de0717c",
   "metadata": {},
   "outputs": [],
   "source": []
  }
 ],
 "metadata": {
  "kernelspec": {
   "display_name": ".venv",
   "language": "python",
   "name": "python3"
  },
  "language_info": {
   "codemirror_mode": {
    "name": "ipython",
    "version": 3
   },
   "file_extension": ".py",
   "mimetype": "text/x-python",
   "name": "python",
   "nbconvert_exporter": "python",
   "pygments_lexer": "ipython3",
   "version": "3.12.3"
  }
 },
 "nbformat": 4,
 "nbformat_minor": 5
}
