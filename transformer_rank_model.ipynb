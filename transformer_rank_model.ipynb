{
 "cells": [
  {
   "cell_type": "code",
   "execution_count": 75,
   "id": "4f6f056d",
   "metadata": {},
   "outputs": [],
   "source": [
    "import torch\n",
    "import torch.nn as nn\n",
    "import torch.nn.functional as F\n",
    "import pandas as pd"
   ]
  },
  {
   "cell_type": "code",
   "execution_count": 76,
   "id": "6d047ede",
   "metadata": {},
   "outputs": [],
   "source": [
    "from poker_embeddings.models.card import HandGNN"
   ]
  },
  {
   "cell_type": "code",
   "execution_count": 77,
   "id": "ca40d73b",
   "metadata": {},
   "outputs": [],
   "source": [
    "class HandScorer(nn.Module):\n",
    "    def __init__(self,\n",
    "                 rank_embedding_dim=8,\n",
    "                 suit_embedding_dim=8,\n",
    "                 hidden_dim=16,\n",
    "                 edge_attr_dim=2,\n",
    "                 node_mlp_layers=2,\n",
    "                 gnn_layers=2,\n",
    "                 reduction='mean',\n",
    "                 final_hidden_dim=64,\n",
    "                 out_dim=16):\n",
    "        super().__init__()\n",
    "        self.hand_encoder = HandGNN(\n",
    "            rank_embedding_dim=rank_embedding_dim,\n",
    "            suit_embedding_dim=suit_embedding_dim,\n",
    "            hidden_dim=hidden_dim,\n",
    "            edge_attr_dim=edge_attr_dim,\n",
    "            node_mlp_layers=node_mlp_layers,\n",
    "            gnn_layers=gnn_layers,\n",
    "            reduction=reduction\n",
    "            )\n",
    "\n",
    "        self.final = nn.Sequential(\n",
    "            nn.Linear(hidden_dim, final_hidden_dim),\n",
    "            nn.ReLU(),\n",
    "            nn.Linear(final_hidden_dim, final_hidden_dim//2),\n",
    "            nn.ReLU(),\n",
    "            nn.Linear(final_hidden_dim//2, out_dim)\n",
    "        )\n",
    "        self.output_layer = nn.Linear(out_dim, 1)\n",
    "    def forward(self, data):\n",
    "        x = self.hand_encoder(data)\n",
    "        x = self.final(x)\n",
    "        return self.output_layer(x)\n"
   ]
  },
  {
   "cell_type": "code",
   "execution_count": 78,
   "id": "7b1f5a4b",
   "metadata": {},
   "outputs": [],
   "source": [
    "full_state_dict = torch.load(\"model_weights/hand_rank_model/hand_rank_predictor225.pth\")\n",
    "model = HandScorer()\n",
    "encoder_weights = {k.replace(\"hand_encoder.\", \"\"): v\n",
    "                   for k, v in full_state_dict.items()\n",
    "                   if k.startswith(\"hand_encoder.\")}\n",
    "\n",
    "model.hand_encoder.load_state_dict(encoder_weights)\n",
    "for param in model.hand_encoder.parameters():\n",
    "    param.requires_grad = False"
   ]
  },
  {
   "cell_type": "code",
   "execution_count": 79,
   "id": "0bedd123",
   "metadata": {},
   "outputs": [
    {
     "name": "stdout",
     "output_type": "stream",
     "text": [
      "hand_encoder.rank_embedder.weight: requires_grad=False\n",
      "hand_encoder.suit_embedder.weight: requires_grad=False\n",
      "hand_encoder.node_mlp_layers.0.weight: requires_grad=False\n",
      "hand_encoder.node_mlp_layers.0.bias: requires_grad=False\n",
      "hand_encoder.node_mlp_layers.2.weight: requires_grad=False\n",
      "hand_encoder.node_mlp_layers.2.bias: requires_grad=False\n",
      "hand_encoder.card_emb_projector.weight: requires_grad=False\n",
      "hand_encoder.card_emb_projector.bias: requires_grad=False\n",
      "hand_encoder.gnn_layers.0.lin.weight: requires_grad=False\n",
      "hand_encoder.gnn_layers.0.lin.bias: requires_grad=False\n",
      "hand_encoder.gnn_layers.1.lin.weight: requires_grad=False\n",
      "hand_encoder.gnn_layers.1.lin.bias: requires_grad=False\n",
      "final.0.weight: requires_grad=True\n",
      "final.0.bias: requires_grad=True\n",
      "final.2.weight: requires_grad=True\n",
      "final.2.bias: requires_grad=True\n",
      "final.4.weight: requires_grad=True\n",
      "final.4.bias: requires_grad=True\n",
      "output_layer.weight: requires_grad=True\n",
      "output_layer.bias: requires_grad=True\n"
     ]
    }
   ],
   "source": [
    "for name, param in model.named_parameters():\n",
    "    print(f\"{name}: requires_grad={param.requires_grad}\")"
   ]
  },
  {
   "cell_type": "code",
   "execution_count": 80,
   "id": "c1b52d1a",
   "metadata": {},
   "outputs": [],
   "source": [
    "from torch.utils.data import Dataset"
   ]
  },
  {
   "cell_type": "code",
   "execution_count": 81,
   "id": "3ac2c9ba",
   "metadata": {},
   "outputs": [],
   "source": [
    "from poker_embeddings.poker_utils.datasets import UCIrvineDataset\n",
    "import random"
   ]
  },
  {
   "cell_type": "code",
   "execution_count": 82,
   "id": "487ab8af",
   "metadata": {},
   "outputs": [],
   "source": [
    "class PairwiseHandDataset(Dataset):\n",
    "    def __init__(self, base_dataset):\n",
    "        self.base_dataset = base_dataset\n",
    "        self.length = len(base_dataset)\n",
    "\n",
    "    def __len__(self):\n",
    "        return self.length\n",
    "\n",
    "    def __getitem__(self, idx1):\n",
    "        x1 = self.base_dataset[idx1]\n",
    "        ix2 = random.randint(0, self.length - 1)\n",
    "        while ix2 == idx1:\n",
    "            ix2 = random.randint(0, self.length - 1)\n",
    "        x2 = self.base_dataset[ix2]\n",
    "        score1 = x1.y[0,1].item()\n",
    "        score2 = x2.y[0,1].item()\n",
    "        label = 1 if score1 < score2 else -1 # smaller is stronger in Treys\n",
    "        return x1, x2, label"
   ]
  },
  {
   "cell_type": "code",
   "execution_count": 83,
   "id": "0700b9e1",
   "metadata": {},
   "outputs": [],
   "source": [
    "X = pd.read_csv(\"data/uc_irvine/X.csv\")\n",
    "y = pd.read_csv(\"data/uc_irvine/y.csv\")"
   ]
  },
  {
   "cell_type": "code",
   "execution_count": 84,
   "id": "209cdbf0",
   "metadata": {},
   "outputs": [],
   "source": [
    "base_data = UCIrvineDataset(X, y)\n",
    "dataset = PairwiseHandDataset(base_data)"
   ]
  },
  {
   "cell_type": "code",
   "execution_count": 85,
   "id": "dfacb93b",
   "metadata": {},
   "outputs": [],
   "source": [
    "import torch_geometric as tg"
   ]
  },
  {
   "cell_type": "code",
   "execution_count": 86,
   "id": "d0c828b5",
   "metadata": {},
   "outputs": [],
   "source": [
    "hmm = dataset[0]"
   ]
  },
  {
   "cell_type": "code",
   "execution_count": 87,
   "id": "fc5bbdee",
   "metadata": {},
   "outputs": [
    {
     "data": {
      "text/plain": [
       "(Data(x=[6], edge_index=[2, 30], edge_attr=[30, 2], y=[1, 2]),\n",
       " Data(x=[5], edge_index=[2, 20], edge_attr=[20, 2], y=[1, 2]),\n",
       " 1)"
      ]
     },
     "execution_count": 87,
     "metadata": {},
     "output_type": "execute_result"
    }
   ],
   "source": [
    "hmm"
   ]
  },
  {
   "cell_type": "code",
   "execution_count": 88,
   "id": "62beffb8",
   "metadata": {},
   "outputs": [],
   "source": [
    "trainloader = tg.loader.DataLoader(dataset, batch_size=64)"
   ]
  },
  {
   "cell_type": "code",
   "execution_count": 90,
   "id": "dea99ba2",
   "metadata": {},
   "outputs": [],
   "source": [
    "what = next(iter(trainloader))"
   ]
  },
  {
   "cell_type": "code",
   "execution_count": 93,
   "id": "34e5f1ac",
   "metadata": {},
   "outputs": [
    {
     "data": {
      "text/plain": [
       "torch.int64"
      ]
     },
     "execution_count": 93,
     "metadata": {},
     "output_type": "execute_result"
    }
   ],
   "source": [
    "what[-1].dtype"
   ]
  }
 ],
 "metadata": {
  "kernelspec": {
   "display_name": ".venv",
   "language": "python",
   "name": "python3"
  },
  "language_info": {
   "codemirror_mode": {
    "name": "ipython",
    "version": 3
   },
   "file_extension": ".py",
   "mimetype": "text/x-python",
   "name": "python",
   "nbconvert_exporter": "python",
   "pygments_lexer": "ipython3",
   "version": "3.12.3"
  }
 },
 "nbformat": 4,
 "nbformat_minor": 5
}
