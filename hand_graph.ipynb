{
 "cells": [
  {
   "cell_type": "code",
   "execution_count": 1,
   "metadata": {},
   "outputs": [],
   "source": [
    "import networkx as nx\n",
    "from pyvis.network import Network\n",
    "import pandas as pd\n",
    "import numpy as np"
   ]
  },
  {
   "cell_type": "code",
   "execution_count": 2,
   "metadata": {},
   "outputs": [],
   "source": [
    "hand_chart = pd.read_excel('data/hand_chart.xlsx')\n",
    "data = pd.read_csv('data/hole_card_data.csv')"
   ]
  },
  {
   "cell_type": "code",
   "execution_count": 3,
   "metadata": {},
   "outputs": [],
   "source": [
    "G = nx.Graph()\n",
    "for row in range(13):\n",
    "    for col in range(13):\n",
    "        hand = hand_chart.iloc[row, col]\n",
    "        hand_attrs = data.loc[data.hand == hand].iloc[0]\n",
    "        G.add_node(hand, \n",
    "                   river_win_rate=hand_attrs['river_win_rate'],\n",
    "                   connectedness=hand_attrs['connectedness'],\n",
    "                   suited=hand_attrs['suited'],\n",
    "                   pair=hand_attrs['pair'])"
   ]
  },
  {
   "cell_type": "code",
   "execution_count": 4,
   "metadata": {},
   "outputs": [],
   "source": [
    "end = 12\n",
    "start = 0\n",
    "for row in range(13):\n",
    "    for col in range(13):\n",
    "        hand = hand_chart.iloc[row, col]\n",
    "        \n",
    "        # right hand\n",
    "        if col < end:\n",
    "            right_hand = hand_chart.iloc[row, col + 1]\n",
    "            G.add_edge(hand, right_hand)\n",
    "        \n",
    "        # left hand\n",
    "        if col > start:\n",
    "            left_hand = hand_chart.iloc[row, col - 1]\n",
    "            G.add_edge(hand, left_hand)\n",
    "            \n",
    "        # Above\n",
    "        if row > start:\n",
    "            above_hand = hand_chart.iloc[row - 1, col]\n",
    "            G.add_edge(hand, above_hand)\n",
    "            \n",
    "        # Below\n",
    "        if row < end:\n",
    "            below_hand = hand_chart.iloc[row + 1, col]\n",
    "            G.add_edge(hand, below_hand)\n",
    "            \n",
    "        # Diagonal: Top-left\n",
    "        if row > start and col > start:\n",
    "            top_left = hand_chart.iloc[row - 1, col - 1]\n",
    "            G.add_edge(hand, top_left)\n",
    "\n",
    "        # Diagonal: Top-right\n",
    "        if row > start and col < end:\n",
    "            top_right = hand_chart.iloc[row - 1, col + 1]\n",
    "            G.add_edge(hand, top_right)\n",
    "\n",
    "        # Diagonal: Bottom-left\n",
    "        if row < end and col > start:\n",
    "            bottom_left = hand_chart.iloc[row + 1, col - 1]\n",
    "            G.add_edge(hand, bottom_left)\n",
    "\n",
    "        # Diagonal: Bottom-right\n",
    "        if row < end and col < end:\n",
    "            bottom_right = hand_chart.iloc[row + 1, col + 1]\n",
    "            G.add_edge(hand, bottom_right)"
   ]
  },
  {
   "cell_type": "code",
   "execution_count": 5,
   "metadata": {},
   "outputs": [],
   "source": [
    "# net = Network(notebook=True, directed=False, cdn_resources='remote')\n",
    "\n",
    "# for node in G.nodes():\n",
    "#     net.add_node(node, label=node)\n",
    "\n",
    "# for edge in G.edges():\n",
    "#     net.add_edge(edge[0], edge[1])\n",
    "    \n",
    "# net.show('hand_chart_graph.html', notebook=False)"
   ]
  },
  {
   "cell_type": "code",
   "execution_count": 18,
   "metadata": {},
   "outputs": [],
   "source": [
    "data = pd.read_excel(\"data/hand_ev9.xlsx\")"
   ]
  }
 ],
 "metadata": {
  "kernelspec": {
   "display_name": "ai_env",
   "language": "python",
   "name": "python3"
  },
  "language_info": {
   "codemirror_mode": {
    "name": "ipython",
    "version": 3
   },
   "file_extension": ".py",
   "mimetype": "text/x-python",
   "name": "python",
   "nbconvert_exporter": "python",
   "pygments_lexer": "ipython3",
   "version": "3.10.16"
  }
 },
 "nbformat": 4,
 "nbformat_minor": 2
}
