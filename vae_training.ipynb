{
 "cells": [
  {
   "cell_type": "code",
   "execution_count": 67,
   "metadata": {},
   "outputs": [],
   "source": [
    "import pandas as pd\n",
    "import numpy as np\n",
    "import torch\n",
    "import torch.nn as nn\n",
    "from torch.utils.data import DataLoader, Dataset\n"
   ]
  },
  {
   "cell_type": "code",
   "execution_count": 68,
   "metadata": {},
   "outputs": [],
   "source": [
    "class HandDataset(Dataset):\n",
    "    \n",
    "    def __init__(self, data_path, columns: list):\n",
    "        cols = ['hand'] + columns\n",
    "        self.feature_columns = columns\n",
    "        self.data = pd.read_csv(data_path, usecols=cols)\n",
    "        if 'hand_type' in columns:\n",
    "            self.data['hand_type'] = self.data['hand_type'].map({'pair': 0, 'suited': 1, 'offsuit': 2})\n",
    "        \n",
    "    def __len__(self):\n",
    "        return self.data.shape[0]\n",
    "    \n",
    "    def __getitem__(self, index):\n",
    "        row = self.data.iloc[index]\n",
    "        hand = row['hand']\n",
    "        X_np = row[self.feature_columns].values.astype(np.float32)\n",
    "        return hand, torch.tensor(X_np, dtype=torch.float32)\n",
    "        \n",
    "        \n",
    "        "
   ]
  },
  {
   "cell_type": "code",
   "execution_count": 69,
   "metadata": {},
   "outputs": [],
   "source": [
    "data = HandDataset('data/processed/full_data.csv', columns=['hand_type','flop_equity','turn_equity','river_equity'])"
   ]
  },
  {
   "cell_type": "code",
   "execution_count": 70,
   "metadata": {},
   "outputs": [],
   "source": [
    "dataloader = DataLoader(data, batch_size=10, shuffle=True)"
   ]
  },
  {
   "cell_type": "code",
   "execution_count": 71,
   "metadata": {},
   "outputs": [
    {
     "data": {
      "text/plain": [
       "[('64o', '42s', 'J4s', 'K6o', 'J9s', '87o', 'T5o', 'T2s', '92s', '94s'),\n",
       " tensor([[2.0000, 0.2966, 0.3392, 0.3805],\n",
       "         [1.0000, 0.2475, 0.3098, 0.3704],\n",
       "         [1.0000, 0.4713, 0.4791, 0.4890],\n",
       "         [2.0000, 0.6001, 0.5680, 0.5442],\n",
       "         [1.0000, 0.5277, 0.5427, 0.5543],\n",
       "         [2.0000, 0.3881, 0.4238, 0.4541],\n",
       "         [2.0000, 0.4311, 0.4332, 0.4390],\n",
       "         [1.0000, 0.4074, 0.4312, 0.4478],\n",
       "         [1.0000, 0.3659, 0.4017, 0.4255],\n",
       "         [1.0000, 0.3830, 0.4094, 0.4370]])]"
      ]
     },
     "execution_count": 71,
     "metadata": {},
     "output_type": "execute_result"
    }
   ],
   "source": [
    "next(iter(dataloader))"
   ]
  }
 ],
 "metadata": {
  "kernelspec": {
   "display_name": "poker_env",
   "language": "python",
   "name": "python3"
  },
  "language_info": {
   "codemirror_mode": {
    "name": "ipython",
    "version": 3
   },
   "file_extension": ".py",
   "mimetype": "text/x-python",
   "name": "python",
   "nbconvert_exporter": "python",
   "pygments_lexer": "ipython3",
   "version": "3.10.16"
  }
 },
 "nbformat": 4,
 "nbformat_minor": 2
}
