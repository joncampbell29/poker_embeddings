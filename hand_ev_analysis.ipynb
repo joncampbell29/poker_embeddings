{
 "cells": [
  {
   "cell_type": "code",
   "execution_count": 16,
   "metadata": {},
   "outputs": [],
   "source": [
    "import numpy as np\n",
    "import pandas as pd\n",
    "import statsmodels.formula.api as smf\n",
    "import seaborn as sns\n",
    "import matplotlib.pyplot as plt"
   ]
  },
  {
   "cell_type": "code",
   "execution_count": 17,
   "metadata": {},
   "outputs": [],
   "source": [
    "ev_data = pd.read_excel('data/raw/hand_ev9.xlsx')"
   ]
  },
  {
   "cell_type": "code",
   "execution_count": 18,
   "metadata": {},
   "outputs": [],
   "source": [
    "position_cols = ['SB',\"BB\",'pos3','pos4','pos5','pos6','pos7','pos8','D']"
   ]
  },
  {
   "cell_type": "code",
   "execution_count": 19,
   "metadata": {},
   "outputs": [],
   "source": [
    "data_melted = ev_data.melt(\n",
    "    id_vars=['hand'],\n",
    "    value_vars=position_cols,\n",
    "    var_name='position',\n",
    "    value_name='EV')"
   ]
  },
  {
   "cell_type": "code",
   "execution_count": 25,
   "metadata": {},
   "outputs": [],
   "source": [
    "pos_dummies = pd.get_dummies(data_melted['position'],prefix=\"dum\", dtype=int)\n",
    "modeling_data = pd.concat([data_melted, pos_dummies], axis=1)"
   ]
  },
  {
   "cell_type": "code",
   "execution_count": 26,
   "metadata": {},
   "outputs": [],
   "source": [
    "dum_cols = ['dum_SB','dum_BB','dum_pos3','dum_pos4','dum_pos5','dum_pos6','dum_pos7','dum_pos8','dum_D']"
   ]
  },
  {
   "cell_type": "code",
   "execution_count": 43,
   "metadata": {},
   "outputs": [
    {
     "data": {
      "text/plain": [
       "position\n",
       "BB      120\n",
       "SB      113\n",
       "pos3      7\n",
       "pos5      3\n",
       "pos4      2\n",
       "pos6      1\n",
       "pos7      1\n",
       "Name: count, dtype: int64"
      ]
     },
     "execution_count": 43,
     "metadata": {},
     "output_type": "execute_result"
    }
   ],
   "source": [
    "modeling_data[modeling_data.EV < -.15].position.value_counts()"
   ]
  },
  {
   "cell_type": "code",
   "execution_count": 36,
   "metadata": {},
   "outputs": [
    {
     "data": {
      "text/plain": [
       "count    1521.000000\n",
       "mean       -0.004635\n",
       "std         0.320438\n",
       "min        -0.420000\n",
       "25%        -0.100000\n",
       "50%        -0.050000\n",
       "75%        -0.010000\n",
       "max         2.810000\n",
       "Name: EV, dtype: float64"
      ]
     },
     "execution_count": 36,
     "metadata": {},
     "output_type": "execute_result"
    }
   ],
   "source": [
    "modeling_data['EV'].describe()"
   ]
  },
  {
   "cell_type": "code",
   "execution_count": 35,
   "metadata": {},
   "outputs": [
    {
     "data": {
      "text/plain": [
       "Text(0.5, 0, 'EV')"
      ]
     },
     "execution_count": 35,
     "metadata": {},
     "output_type": "execute_result"
    },
    {
     "data": {
      "image/png": "[encoded data removed]",
      "text/plain": [
       "<Figure size 700x300 with 1 Axes>"
      ]
     },
     "metadata": {},
     "output_type": "display_data"
    }
   ],
   "source": [
    "plt.figure(figsize=(7,3))\n",
    "plt.hist(x=modeling_data['EV'], bins=30)\n",
    "plt.title(\"Histogram of EV\")\n",
    "plt.xlabel(\"EV\")"
   ]
  },
  {
   "cell_type": "code",
   "execution_count": 27,
   "metadata": {},
   "outputs": [
    {
     "data": {
      "text/html": [
       "<div>\n",
       "<style scoped>\n",
       "    .dataframe tbody tr th:only-of-type {\n",
       "        vertical-align: middle;\n",
       "    }\n",
       "\n",
       "    .dataframe tbody tr th {\n",
       "        vertical-align: top;\n",
       "    }\n",
       "\n",
       "    .dataframe thead th {\n",
       "        text-align: right;\n",
       "    }\n",
       "</style>\n",
       "<table border=\"1\" class=\"dataframe\">\n",
       "  <thead>\n",
       "    <tr style=\"text-align: right;\">\n",
       "      <th></th>\n",
       "      <th>hand</th>\n",
       "      <th>position</th>\n",
       "      <th>EV</th>\n",
       "      <th>dum_BB</th>\n",
       "      <th>dum_D</th>\n",
       "      <th>dum_SB</th>\n",
       "      <th>dum_pos3</th>\n",
       "      <th>dum_pos4</th>\n",
       "      <th>dum_pos5</th>\n",
       "      <th>dum_pos6</th>\n",
       "      <th>dum_pos7</th>\n",
       "      <th>dum_pos8</th>\n",
       "    </tr>\n",
       "  </thead>\n",
       "  <tbody>\n",
       "    <tr>\n",
       "      <th>0</th>\n",
       "      <td>AAo</td>\n",
       "      <td>SB</td>\n",
       "      <td>2.65</td>\n",
       "      <td>0</td>\n",
       "      <td>0</td>\n",
       "      <td>1</td>\n",
       "      <td>0</td>\n",
       "      <td>0</td>\n",
       "      <td>0</td>\n",
       "      <td>0</td>\n",
       "      <td>0</td>\n",
       "      <td>0</td>\n",
       "    </tr>\n",
       "    <tr>\n",
       "      <th>1</th>\n",
       "      <td>KKo</td>\n",
       "      <td>SB</td>\n",
       "      <td>1.69</td>\n",
       "      <td>0</td>\n",
       "      <td>0</td>\n",
       "      <td>1</td>\n",
       "      <td>0</td>\n",
       "      <td>0</td>\n",
       "      <td>0</td>\n",
       "      <td>0</td>\n",
       "      <td>0</td>\n",
       "      <td>0</td>\n",
       "    </tr>\n",
       "    <tr>\n",
       "      <th>2</th>\n",
       "      <td>QQo</td>\n",
       "      <td>SB</td>\n",
       "      <td>0.99</td>\n",
       "      <td>0</td>\n",
       "      <td>0</td>\n",
       "      <td>1</td>\n",
       "      <td>0</td>\n",
       "      <td>0</td>\n",
       "      <td>0</td>\n",
       "      <td>0</td>\n",
       "      <td>0</td>\n",
       "      <td>0</td>\n",
       "    </tr>\n",
       "    <tr>\n",
       "      <th>3</th>\n",
       "      <td>JJo</td>\n",
       "      <td>SB</td>\n",
       "      <td>0.67</td>\n",
       "      <td>0</td>\n",
       "      <td>0</td>\n",
       "      <td>1</td>\n",
       "      <td>0</td>\n",
       "      <td>0</td>\n",
       "      <td>0</td>\n",
       "      <td>0</td>\n",
       "      <td>0</td>\n",
       "      <td>0</td>\n",
       "    </tr>\n",
       "    <tr>\n",
       "      <th>4</th>\n",
       "      <td>TTo</td>\n",
       "      <td>SB</td>\n",
       "      <td>0.41</td>\n",
       "      <td>0</td>\n",
       "      <td>0</td>\n",
       "      <td>1</td>\n",
       "      <td>0</td>\n",
       "      <td>0</td>\n",
       "      <td>0</td>\n",
       "      <td>0</td>\n",
       "      <td>0</td>\n",
       "      <td>0</td>\n",
       "    </tr>\n",
       "    <tr>\n",
       "      <th>...</th>\n",
       "      <td>...</td>\n",
       "      <td>...</td>\n",
       "      <td>...</td>\n",
       "      <td>...</td>\n",
       "      <td>...</td>\n",
       "      <td>...</td>\n",
       "      <td>...</td>\n",
       "      <td>...</td>\n",
       "      <td>...</td>\n",
       "      <td>...</td>\n",
       "      <td>...</td>\n",
       "      <td>...</td>\n",
       "    </tr>\n",
       "    <tr>\n",
       "      <th>1516</th>\n",
       "      <td>43s</td>\n",
       "      <td>D</td>\n",
       "      <td>-0.01</td>\n",
       "      <td>0</td>\n",
       "      <td>1</td>\n",
       "      <td>0</td>\n",
       "      <td>0</td>\n",
       "      <td>0</td>\n",
       "      <td>0</td>\n",
       "      <td>0</td>\n",
       "      <td>0</td>\n",
       "      <td>0</td>\n",
       "    </tr>\n",
       "    <tr>\n",
       "      <th>1517</th>\n",
       "      <td>42o</td>\n",
       "      <td>D</td>\n",
       "      <td>-0.03</td>\n",
       "      <td>0</td>\n",
       "      <td>1</td>\n",
       "      <td>0</td>\n",
       "      <td>0</td>\n",
       "      <td>0</td>\n",
       "      <td>0</td>\n",
       "      <td>0</td>\n",
       "      <td>0</td>\n",
       "      <td>0</td>\n",
       "    </tr>\n",
       "    <tr>\n",
       "      <th>1518</th>\n",
       "      <td>42s</td>\n",
       "      <td>D</td>\n",
       "      <td>-0.09</td>\n",
       "      <td>0</td>\n",
       "      <td>1</td>\n",
       "      <td>0</td>\n",
       "      <td>0</td>\n",
       "      <td>0</td>\n",
       "      <td>0</td>\n",
       "      <td>0</td>\n",
       "      <td>0</td>\n",
       "      <td>0</td>\n",
       "    </tr>\n",
       "    <tr>\n",
       "      <th>1519</th>\n",
       "      <td>32o</td>\n",
       "      <td>D</td>\n",
       "      <td>-0.03</td>\n",
       "      <td>0</td>\n",
       "      <td>1</td>\n",
       "      <td>0</td>\n",
       "      <td>0</td>\n",
       "      <td>0</td>\n",
       "      <td>0</td>\n",
       "      <td>0</td>\n",
       "      <td>0</td>\n",
       "      <td>0</td>\n",
       "    </tr>\n",
       "    <tr>\n",
       "      <th>1520</th>\n",
       "      <td>32s</td>\n",
       "      <td>D</td>\n",
       "      <td>-0.08</td>\n",
       "      <td>0</td>\n",
       "      <td>1</td>\n",
       "      <td>0</td>\n",
       "      <td>0</td>\n",
       "      <td>0</td>\n",
       "      <td>0</td>\n",
       "      <td>0</td>\n",
       "      <td>0</td>\n",
       "      <td>0</td>\n",
       "    </tr>\n",
       "  </tbody>\n",
       "</table>\n",
       "<p>1521 rows × 12 columns</p>\n",
       "</div>"
      ],
      "text/plain": [
       "     hand position    EV  dum_BB  dum_D  dum_SB  dum_pos3  dum_pos4  dum_pos5  \\\n",
       "0     AAo       SB  2.65       0      0       1         0         0         0   \n",
       "1     KKo       SB  1.69       0      0       1         0         0         0   \n",
       "2     QQo       SB  0.99       0      0       1         0         0         0   \n",
       "3     JJo       SB  0.67       0      0       1         0         0         0   \n",
       "4     TTo       SB  0.41       0      0       1         0         0         0   \n",
       "...   ...      ...   ...     ...    ...     ...       ...       ...       ...   \n",
       "1516  43s        D -0.01       0      1       0         0         0         0   \n",
       "1517  42o        D -0.03       0      1       0         0         0         0   \n",
       "1518  42s        D -0.09       0      1       0         0         0         0   \n",
       "1519  32o        D -0.03       0      1       0         0         0         0   \n",
       "1520  32s        D -0.08       0      1       0         0         0         0   \n",
       "\n",
       "      dum_pos6  dum_pos7  dum_pos8  \n",
       "0            0         0         0  \n",
       "1            0         0         0  \n",
       "2            0         0         0  \n",
       "3            0         0         0  \n",
       "4            0         0         0  \n",
       "...        ...       ...       ...  \n",
       "1516         0         0         0  \n",
       "1517         0         0         0  \n",
       "1518         0         0         0  \n",
       "1519         0         0         0  \n",
       "1520         0         0         0  \n",
       "\n",
       "[1521 rows x 12 columns]"
      ]
     },
     "execution_count": 27,
     "metadata": {},
     "output_type": "execute_result"
    }
   ],
   "source": [
    "modeling_data"
   ]
  },
  {
   "cell_type": "code",
   "execution_count": null,
   "metadata": {},
   "outputs": [],
   "source": []
  },
  {
   "cell_type": "code",
   "execution_count": null,
   "metadata": {},
   "outputs": [],
   "source": []
  },
  {
   "cell_type": "code",
   "execution_count": null,
   "metadata": {},
   "outputs": [],
   "source": []
  },
  {
   "cell_type": "code",
   "execution_count": 13,
   "metadata": {},
   "outputs": [
    {
     "name": "stdout",
     "output_type": "stream",
     "text": [
      "           Mixed Linear Model Regression Results\n",
      "===========================================================\n",
      "Model:              MixedLM  Dependent Variable:  EV       \n",
      "No. Observations:   1521     Method:              ML       \n",
      "No. Groups:         169      Scale:               0.0029   \n",
      "Min. group size:    9        Log-Likelihood:      1800.0260\n",
      "Max. group size:    9        Converged:           Yes      \n",
      "Mean group size:    9.0                                    \n",
      "-----------------------------------------------------------\n",
      "                 Coef.  Std.Err.   z    P>|z| [0.025 0.975]\n",
      "-----------------------------------------------------------\n",
      "Intercept        -0.124    0.024 -5.171 0.000 -0.170 -0.077\n",
      "dum_BB[T.True]   -0.042    0.006 -7.221 0.000 -0.054 -0.031\n",
      "dum_pos3[T.True]  0.118    0.006 20.083 0.000  0.107  0.130\n",
      "dum_pos4[T.True]  0.145    0.006 24.608 0.000  0.133  0.156\n",
      "dum_pos5[T.True]  0.153    0.006 26.016 0.000  0.142  0.165\n",
      "dum_pos6[T.True]  0.158    0.006 26.781 0.000  0.146  0.169\n",
      "dum_pos7[T.True]  0.170    0.006 28.913 0.000  0.159  0.182\n",
      "dum_pos8[T.True]  0.179    0.006 30.391 0.000  0.167  0.190\n",
      "dum_D[T.True]     0.190    0.006 32.322 0.000  0.179  0.202\n",
      "Group Var         0.094    0.200                           \n",
      "===========================================================\n",
      "\n"
     ]
    }
   ],
   "source": [
    "model1 = smf.mixedlm(\n",
    "    formula=f\"EV ~ {'+'.join(dum_cols)}\", \n",
    "    data=modeling_data, \n",
    "    groups=modeling_data[\"hand\"]).fit(reml=False)\n",
    "\n",
    "print(model1.summary())"
   ]
  },
  {
   "cell_type": "code",
   "execution_count": 14,
   "metadata": {},
   "outputs": [],
   "source": [
    "re_vars = ['dum_BB','dum_pos3','dum_pos4','dum_pos5','dum_pos6','dum_pos7','dum_pos8','dum_D']"
   ]
  },
  {
   "cell_type": "code",
   "execution_count": 15,
   "metadata": {},
   "outputs": [
    {
     "name": "stderr",
     "output_type": "stream",
     "text": [
      "c:\\Users\\campb\\miniconda3\\envs\\poker_env\\lib\\site-packages\\statsmodels\\regression\\mixed_linear_model.py:1634: UserWarning: Random effects covariance is singular\n",
      "  warnings.warn(msg)\n",
      "c:\\Users\\campb\\miniconda3\\envs\\poker_env\\lib\\site-packages\\statsmodels\\base\\model.py:607: ConvergenceWarning: Maximum Likelihood optimization failed to converge. Check mle_retvals\n",
      "  warnings.warn(\"Maximum Likelihood optimization failed to \"\n",
      "c:\\Users\\campb\\miniconda3\\envs\\poker_env\\lib\\site-packages\\statsmodels\\regression\\mixed_linear_model.py:2200: ConvergenceWarning: Retrying MixedLM optimization with lbfgs\n",
      "  warnings.warn(\n",
      "c:\\Users\\campb\\miniconda3\\envs\\poker_env\\lib\\site-packages\\statsmodels\\regression\\mixed_linear_model.py:2237: ConvergenceWarning: The MLE may be on the boundary of the parameter space.\n",
      "  warnings.warn(msg, ConvergenceWarning)\n"
     ]
    },
    {
     "name": "stdout",
     "output_type": "stream",
     "text": [
      "                      Mixed Linear Model Regression Results\n",
      "==================================================================================\n",
      "Model:                     MixedLM          Dependent Variable:          EV       \n",
      "No. Observations:          1521             Method:                      ML       \n",
      "No. Groups:                169              Scale:                       0.0015   \n",
      "Min. group size:           9                Log-Likelihood:              2009.1319\n",
      "Max. group size:           9                Converged:                   Yes      \n",
      "Mean group size:           9.0                                                    \n",
      "----------------------------------------------------------------------------------\n",
      "                                        Coef.  Std.Err.   z    P>|z| [0.025 0.975]\n",
      "----------------------------------------------------------------------------------\n",
      "Intercept                               -0.124    0.023 -5.289 0.000 -0.169 -0.078\n",
      "dum_BB[T.True]                          -0.042    0.006 -7.314 0.000 -0.054 -0.031\n",
      "dum_pos3[T.True]                         0.118    0.005 21.545 0.000  0.107  0.129\n",
      "dum_pos4[T.True]                         0.145    0.005 26.925 0.000  0.134  0.155\n",
      "dum_pos5[T.True]                         0.153    0.005 28.873 0.000  0.143  0.163\n",
      "dum_pos6[T.True]                         0.158    0.006 28.561 0.000  0.147  0.168\n",
      "dum_pos7[T.True]                         0.170    0.005 31.632 0.000  0.160  0.181\n",
      "dum_pos8[T.True]                         0.179    0.005 34.236 0.000  0.169  0.189\n",
      "dum_D[T.True]                            0.190    0.005 38.278 0.000  0.180  0.200\n",
      "Group Var                                0.091    0.076                           \n",
      "Group x dum_BB[T.True] Cov               0.006    0.051                           \n",
      "dum_BB[T.True] Var                       0.003                                    \n",
      "Group x dum_pos3[T.True] Cov            -0.007    0.037                           \n",
      "dum_BB[T.True] x dum_pos3[T.True] Cov   -0.002    0.002                           \n",
      "dum_pos3[T.True] Var                     0.002                                    \n",
      "Group x dum_pos4[T.True] Cov            -0.007    0.032                           \n",
      "dum_BB[T.True] x dum_pos4[T.True] Cov   -0.002    0.009                           \n",
      "dum_pos3[T.True] x dum_pos4[T.True] Cov  0.002                                    \n",
      "dum_pos4[T.True] Var                     0.002                                    \n",
      "Group x dum_pos5[T.True] Cov            -0.006    0.034                           \n",
      "dum_BB[T.True] x dum_pos5[T.True] Cov   -0.002    0.010                           \n",
      "dum_pos3[T.True] x dum_pos5[T.True] Cov  0.002    0.008                           \n",
      "dum_pos4[T.True] x dum_pos5[T.True] Cov  0.002    0.006                           \n",
      "dum_pos5[T.True] Var                     0.002    0.004                           \n",
      "Group x dum_pos6[T.True] Cov            -0.004    0.053                           \n",
      "dum_BB[T.True] x dum_pos6[T.True] Cov   -0.002    0.015                           \n",
      "dum_pos3[T.True] x dum_pos6[T.True] Cov  0.002    0.006                           \n",
      "dum_pos4[T.True] x dum_pos6[T.True] Cov  0.002    0.006                           \n",
      "dum_pos5[T.True] x dum_pos6[T.True] Cov  0.001    0.006                           \n",
      "dum_pos6[T.True] Var                     0.002    0.009                           \n",
      "Group x dum_pos7[T.True] Cov             0.001    0.052                           \n",
      "dum_BB[T.True] x dum_pos7[T.True] Cov   -0.001    0.016                           \n",
      "dum_pos3[T.True] x dum_pos7[T.True] Cov  0.001    0.007                           \n",
      "dum_pos4[T.True] x dum_pos7[T.True] Cov  0.001    0.008                           \n",
      "dum_pos5[T.True] x dum_pos7[T.True] Cov  0.001    0.008                           \n",
      "dum_pos6[T.True] x dum_pos7[T.True] Cov  0.001                                    \n",
      "dum_pos7[T.True] Var                     0.002    0.011                           \n",
      "Group x dum_pos8[T.True] Cov             0.002    0.040                           \n",
      "dum_BB[T.True] x dum_pos8[T.True] Cov   -0.001    0.013                           \n",
      "dum_pos3[T.True] x dum_pos8[T.True] Cov  0.001    0.007                           \n",
      "dum_pos4[T.True] x dum_pos8[T.True] Cov  0.001    0.007                           \n",
      "dum_pos5[T.True] x dum_pos8[T.True] Cov  0.001    0.007                           \n",
      "dum_pos6[T.True] x dum_pos8[T.True] Cov  0.001    0.008                           \n",
      "dum_pos7[T.True] x dum_pos8[T.True] Cov  0.001    0.012                           \n",
      "dum_pos8[T.True] Var                     0.002    0.009                           \n",
      "Group x dum_D[T.True] Cov                0.005    0.038                           \n",
      "dum_BB[T.True] x dum_D[T.True] Cov      -0.001    0.012                           \n",
      "dum_pos3[T.True] x dum_D[T.True] Cov     0.001    0.008                           \n",
      "dum_pos4[T.True] x dum_D[T.True] Cov     0.001    0.007                           \n",
      "dum_pos5[T.True] x dum_D[T.True] Cov     0.001    0.007                           \n",
      "dum_pos6[T.True] x dum_D[T.True] Cov     0.000    0.007                           \n",
      "dum_pos7[T.True] x dum_D[T.True] Cov     0.001    0.011                           \n",
      "dum_pos8[T.True] x dum_D[T.True] Cov     0.001    0.009                           \n",
      "dum_D[T.True] Var                        0.001    0.008                           \n",
      "==================================================================================\n",
      "\n"
     ]
    }
   ],
   "source": [
    "model2 = smf.mixedlm(\n",
    "    formula=f\"EV ~ {'+'.join(dum_cols)}\", \n",
    "    data=modeling_data, \n",
    "    groups=modeling_data[\"hand\"],\n",
    "    re_formula=f\"~1 + {'+'.join(re_vars)}\").fit(reml=False)\n",
    "\n",
    "print(model2.summary())"
   ]
  }
 ],
 "metadata": {
  "kernelspec": {
   "display_name": "poker_env",
   "language": "python",
   "name": "python3"
  },
  "language_info": {
   "codemirror_mode": {
    "name": "ipython",
    "version": 3
   },
   "file_extension": ".py",
   "mimetype": "text/x-python",
   "name": "python",
   "nbconvert_exporter": "python",
   "pygments_lexer": "ipython3",
   "version": "3.10.16"
  }
 },
 "nbformat": 4,
 "nbformat_minor": 2
}
