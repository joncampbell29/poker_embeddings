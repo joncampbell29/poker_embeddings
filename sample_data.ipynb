{
 "cells": [
  {
   "cell_type": "code",
   "execution_count": null,
   "metadata": {},
   "outputs": [],
   "source": [
    "import pandas as pd\n",
    "import numpy as np\n",
    "from create_flop_data import FlopDataset\n",
    "import torch\n",
    "from torch.utils.data import DataLoader\n",
    "from utils import flop_to_vector, flop_look_up, vec_to_flop\n",
    "\n"
   ]
  },
  {
   "cell_type": "code",
   "execution_count": 2,
   "metadata": {},
   "outputs": [],
   "source": [
    "batch_size = 10\n",
    "data = FlopDataset()\n",
    "trainloader = DataLoader(data, batch_size=batch_size, shuffle=True)\n",
    "ex_batch = next(iter(trainloader))"
   ]
  },
  {
   "cell_type": "code",
   "execution_count": null,
   "metadata": {},
   "outputs": [
    {
     "name": "stdout",
     "output_type": "stream",
     "text": [
      "Flop: 4d5hJs\n",
      "suitedness: 0, rainbow\n",
      "pairness: 0, unpaired\n",
      "connectedness: 1, two_connected\n",
      "high_low_texture: 0, low\n",
      "high_card: 9, Jhigh\n",
      "straightness: 0, no_possible\n",
      "--------------------------------------------------\n",
      "Flop: 7d7sTs\n",
      "suitedness: 1, two_tone\n",
      "pairness: 2, middle_pair\n",
      "connectedness: 0, disconnected\n",
      "high_low_texture: 0, low\n",
      "high_card: 8, Thigh\n",
      "straightness: 0, no_possible\n",
      "--------------------------------------------------\n",
      "Flop: 2d3h8c\n",
      "suitedness: 0, rainbow\n",
      "pairness: 0, unpaired\n",
      "connectedness: 1, two_connected\n",
      "high_low_texture: 0, low\n",
      "high_card: 6, 8high\n",
      "straightness: 0, no_possible\n",
      "--------------------------------------------------\n",
      "Flop: 5cAdQh\n",
      "suitedness: 0, rainbow\n",
      "pairness: 0, unpaired\n",
      "connectedness: 0, disconnected\n",
      "high_low_texture: 2, high\n",
      "high_card: 12, Ahigh\n",
      "straightness: 0, no_possible\n",
      "--------------------------------------------------\n",
      "Flop: 6sQsTh\n",
      "suitedness: 1, two_tone\n",
      "pairness: 0, unpaired\n",
      "connectedness: 0, disconnected\n",
      "high_low_texture: 2, high\n",
      "high_card: 10, Qhigh\n",
      "straightness: 0, no_possible\n",
      "--------------------------------------------------\n",
      "Flop: 2h2s9h\n",
      "suitedness: 1, two_tone\n",
      "pairness: 1, low_pair\n",
      "connectedness: 0, disconnected\n",
      "high_low_texture: 0, low\n",
      "high_card: 7, 9high\n",
      "straightness: 0, no_possible\n",
      "--------------------------------------------------\n",
      "Flop: 5c8dQh\n",
      "suitedness: 0, rainbow\n",
      "pairness: 0, unpaired\n",
      "connectedness: 0, disconnected\n",
      "high_low_texture: 0, low\n",
      "high_card: 10, Qhigh\n",
      "straightness: 0, no_possible\n",
      "--------------------------------------------------\n",
      "Flop: 4c7hQs\n",
      "suitedness: 0, rainbow\n",
      "pairness: 0, unpaired\n",
      "connectedness: 0, disconnected\n",
      "high_low_texture: 0, low\n",
      "high_card: 10, Qhigh\n",
      "straightness: 0, no_possible\n",
      "--------------------------------------------------\n",
      "Flop: 2d9hQs\n",
      "suitedness: 0, rainbow\n",
      "pairness: 0, unpaired\n",
      "connectedness: 0, disconnected\n",
      "high_low_texture: 1, middle\n",
      "high_card: 10, Qhigh\n",
      "straightness: 0, no_possible\n",
      "--------------------------------------------------\n",
      "Flop: 3dQdQs\n",
      "suitedness: 1, two_tone\n",
      "pairness: 3, high_pair\n",
      "connectedness: 0, disconnected\n",
      "high_low_texture: 2, high\n",
      "high_card: 10, Qhigh\n",
      "straightness: 0, no_possible\n",
      "--------------------------------------------------\n"
     ]
    }
   ],
   "source": [
    "for i in range(batch_size):\n",
    "    print(f'Flop: {ex_batch[1][i]}')\n",
    "    for lab, attr_dict in data.label_dict.items():\n",
    "        val = ex_batch[2][i][attr_dict['idx']]\n",
    "        print(f\"{lab}: {val}, {attr_dict[int(val)]}\")\n",
    "    print(\"-\"*50)\n"
   ]
  },
  {
   "cell_type": "code",
   "execution_count": 11,
   "metadata": {},
   "outputs": [
    {
     "name": "stdout",
     "output_type": "stream",
     "text": [
      "True\n",
      "True\n",
      "True\n",
      "True\n",
      "True\n",
      "True\n",
      "True\n",
      "True\n",
      "True\n",
      "True\n",
      "True\n",
      "True\n",
      "True\n",
      "True\n",
      "True\n",
      "True\n",
      "True\n",
      "True\n",
      "True\n",
      "True\n"
     ]
    }
   ],
   "source": [
    "# func check\n",
    "for vec, flop in zip(ex_batch[0], ex_batch[1]):\n",
    "    print(np.all(flop==vec_to_flop(vec, True)))\n",
    "    print(torch.all(vec==flop_to_vector(flop)).item())"
   ]
  }
 ],
 "metadata": {
  "kernelspec": {
   "display_name": "ai_env",
   "language": "python",
   "name": "python3"
  },
  "language_info": {
   "codemirror_mode": {
    "name": "ipython",
    "version": 3
   },
   "file_extension": ".py",
   "mimetype": "text/x-python",
   "name": "python",
   "nbconvert_exporter": "python",
   "pygments_lexer": "ipython3",
   "version": "3.10.16"
  }
 },
 "nbformat": 4,
 "nbformat_minor": 2
}
