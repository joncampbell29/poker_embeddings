{
 "cells": [
  {
   "cell_type": "code",
   "execution_count": 1,
   "metadata": {},
   "outputs": [],
   "source": [
    "import pandas as pd\n",
    "import numpy as np\n",
    "from create_flop_data import FlopDataset, flop_collate_fn\n",
    "import torch\n",
    "from torchvision import transforms\n",
    "from torch.utils.data import DataLoader\n",
    "import torch.nn as nn\n",
    "from utils import flop_to_vector, flop_look_up, vec_to_flop\n",
    "from utils import (\n",
    "    SUITEDNESS_DICT, \n",
    "    PAIRNESS_DICT,\n",
    "    CONNECTEDNESS_DICT,\n",
    "    HIGH_LOW_TEXTURE_DICT,\n",
    "    HIGH_CARD_DICT,\n",
    "    STRAIGHTNESS_DICT\n",
    "    )\n"
   ]
  },
  {
   "cell_type": "code",
   "execution_count": 2,
   "metadata": {},
   "outputs": [],
   "source": [
    "df = pd.read_parquet('flopdata.parquet')"
   ]
  },
  {
   "cell_type": "code",
   "execution_count": 3,
   "metadata": {},
   "outputs": [],
   "source": [
    "batch_size = 10\n",
    "data = FlopDataset(data=df)\n",
    "trainloader = DataLoader(data, batch_size=batch_size, shuffle=True, collate_fn=flop_collate_fn)\n",
    "ex_batch = next(iter(trainloader))"
   ]
  },
  {
   "cell_type": "code",
   "execution_count": 4,
   "metadata": {},
   "outputs": [
    {
     "name": "stdout",
     "output_type": "stream",
     "text": [
      "Flop: ['2s' '5h' '6s']\n",
      "Suitedness: 1.0, two_tone\n",
      "Pairness: 0.0, unpaired\n",
      "Connectedness: 1.0, two_connected\n",
      "High_low_texture: 0.0, low\n",
      "High_card: 4.0, 6high\n",
      "Straightness: 1.0, one_possible\n",
      "--------------------------------------------------\n",
      "Flop: ['4c' '5h' '8h']\n",
      "Suitedness: 1.0, two_tone\n",
      "Pairness: 0.0, unpaired\n",
      "Connectedness: 1.0, two_connected\n",
      "High_low_texture: 0.0, low\n",
      "High_card: 6.0, 8high\n",
      "Straightness: 1.0, one_possible\n",
      "--------------------------------------------------\n",
      "Flop: ['Ac' 'Kh' 'Qd']\n",
      "Suitedness: 0.0, rainbow\n",
      "Pairness: 0.0, unpaired\n",
      "Connectedness: 2.0, three_connected\n",
      "High_low_texture: 2.0, high\n",
      "High_card: 12.0, Ahigh\n",
      "Straightness: 1.0, one_possible\n",
      "--------------------------------------------------\n",
      "Flop: ['2s' 'Ks' 'Qs']\n",
      "Suitedness: 2.0, monotone\n",
      "Pairness: 0.0, unpaired\n",
      "Connectedness: 1.0, two_connected\n",
      "High_low_texture: 2.0, high\n",
      "High_card: 11.0, Khigh\n",
      "Straightness: 0.0, no_possible\n",
      "--------------------------------------------------\n",
      "Flop: ['4d' '6s' 'Ah']\n",
      "Suitedness: 0.0, rainbow\n",
      "Pairness: 0.0, unpaired\n",
      "Connectedness: 0.0, disconnected\n",
      "High_low_texture: 0.0, low\n",
      "High_card: 12.0, Ahigh\n",
      "Straightness: 0.0, no_possible\n",
      "--------------------------------------------------\n",
      "Flop: ['2c' '7d' 'Js']\n",
      "Suitedness: 0.0, rainbow\n",
      "Pairness: 0.0, unpaired\n",
      "Connectedness: 0.0, disconnected\n",
      "High_low_texture: 0.0, low\n",
      "High_card: 9.0, Jhigh\n",
      "Straightness: 0.0, no_possible\n",
      "--------------------------------------------------\n",
      "Flop: ['6d' 'Jh' 'Qh']\n",
      "Suitedness: 1.0, two_tone\n",
      "Pairness: 0.0, unpaired\n",
      "Connectedness: 1.0, two_connected\n",
      "High_low_texture: 2.0, high\n",
      "High_card: 10.0, Qhigh\n",
      "Straightness: 0.0, no_possible\n",
      "--------------------------------------------------\n",
      "Flop: ['2c' '3s' '4h']\n",
      "Suitedness: 0.0, rainbow\n",
      "Pairness: 0.0, unpaired\n",
      "Connectedness: 2.0, three_connected\n",
      "High_low_texture: 0.0, low\n",
      "High_card: 2.0, 4high\n",
      "Straightness: 2.0, two_possible\n",
      "--------------------------------------------------\n",
      "Flop: ['7d' '7s' '8c']\n",
      "Suitedness: 0.0, rainbow\n",
      "Pairness: 2.0, middle_pair\n",
      "Connectedness: 1.0, two_connected\n",
      "High_low_texture: 0.0, low\n",
      "High_card: 6.0, 8high\n",
      "Straightness: 0.0, no_possible\n",
      "--------------------------------------------------\n",
      "Flop: ['7c' '8c' 'As']\n",
      "Suitedness: 1.0, two_tone\n",
      "Pairness: 0.0, unpaired\n",
      "Connectedness: 1.0, two_connected\n",
      "High_low_texture: 0.0, low\n",
      "High_card: 12.0, Ahigh\n",
      "Straightness: 0.0, no_possible\n",
      "--------------------------------------------------\n"
     ]
    }
   ],
   "source": [
    "for i in range(batch_size):\n",
    "    print(f'Flop: {ex_batch[1][i]}')\n",
    "    print(f'Suitedness: {ex_batch[2][i]}, {SUITEDNESS_DICT[int(ex_batch[2][i])]}')\n",
    "    print(f'Pairness: {ex_batch[3][i]}, {PAIRNESS_DICT[int(ex_batch[3][i].item())]}')\n",
    "    print(f'Connectedness: {ex_batch[4][i]}, {CONNECTEDNESS_DICT[int(ex_batch[4][i].item())]}')\n",
    "    print(f'High_low_texture: {ex_batch[5][i]}, {HIGH_LOW_TEXTURE_DICT[int(ex_batch[5][i].item())]}')\n",
    "    print(f'High_card: {ex_batch[6][i]}, {HIGH_CARD_DICT[int(ex_batch[6][i].item())]}')\n",
    "    print(f'Straightness: {ex_batch[7][i]}, {STRAIGHTNESS_DICT[int(ex_batch[7][i].item())]}')\n",
    "    print(\"-\"*50)"
   ]
  },
  {
   "cell_type": "code",
   "execution_count": 9,
   "metadata": {},
   "outputs": [
    {
     "name": "stdout",
     "output_type": "stream",
     "text": [
      "True\n",
      "True\n",
      "True\n",
      "True\n",
      "True\n",
      "True\n",
      "True\n",
      "True\n",
      "True\n",
      "True\n",
      "True\n",
      "True\n",
      "True\n",
      "True\n",
      "True\n",
      "True\n",
      "True\n",
      "True\n",
      "True\n",
      "True\n"
     ]
    }
   ],
   "source": [
    "# func check\n",
    "for vec, flop in zip(ex_batch[0], ex_batch[1]):\n",
    "    print(np.all(flop==vec_to_flop(vec)))\n",
    "    print(torch.all(vec==flop_to_vector(flop)).item())"
   ]
  }
 ],
 "metadata": {
  "kernelspec": {
   "display_name": "ai_env",
   "language": "python",
   "name": "python3"
  },
  "language_info": {
   "codemirror_mode": {
    "name": "ipython",
    "version": 3
   },
   "file_extension": ".py",
   "mimetype": "text/x-python",
   "name": "python",
   "nbconvert_exporter": "python",
   "pygments_lexer": "ipython3",
   "version": "3.10.16"
  }
 },
 "nbformat": 4,
 "nbformat_minor": 2
}
