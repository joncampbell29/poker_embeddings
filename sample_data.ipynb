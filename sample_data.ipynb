{
 "cells": [
  {
   "cell_type": "code",
   "execution_count": 12,
   "metadata": {},
   "outputs": [],
   "source": [
    "import pandas as pd\n",
    "import numpy as np\n",
    "from created_data import FlopDataset\n",
    "import torch\n",
    "from torch.utils.data import DataLoader\n",
    "from utils import vector_to_hand\n"
   ]
  },
  {
   "cell_type": "code",
   "execution_count": 13,
   "metadata": {},
   "outputs": [],
   "source": [
    "batch_size = 10\n",
    "data = FlopDataset()\n",
    "trainloader = DataLoader(data, batch_size=batch_size, shuffle=True)\n",
    "ex_batch = next(iter(trainloader))"
   ]
  },
  {
   "cell_type": "code",
   "execution_count": 14,
   "metadata": {},
   "outputs": [
    {
     "name": "stdout",
     "output_type": "stream",
     "text": [
      "Flop: ['3h', '3s', 'Kc']\n",
      "suitedness: 0, rainbow\n",
      "pairness: 1, low_pair\n",
      "connectedness: 0, disconnected\n",
      "high_low_texture: 0, low\n",
      "high_card: 11, K high\n",
      "--------------------------------------------------\n",
      "Flop: ['4s', '5h', 'Qh']\n",
      "suitedness: 1, two_tone\n",
      "pairness: 0, unpaired\n",
      "connectedness: 1, two_connected\n",
      "high_low_texture: 0, low\n",
      "high_card: 10, Q high\n",
      "--------------------------------------------------\n",
      "Flop: ['3d', 'Jd', 'Kd']\n",
      "suitedness: 2, monotone\n",
      "pairness: 0, unpaired\n",
      "connectedness: 0, disconnected\n",
      "high_low_texture: 3, high\n",
      "high_card: 11, K high\n",
      "--------------------------------------------------\n",
      "Flop: ['4s', '7c', 'Qc']\n",
      "suitedness: 1, two_tone\n",
      "pairness: 0, unpaired\n",
      "connectedness: 0, disconnected\n",
      "high_low_texture: 1, mixed\n",
      "high_card: 10, Q high\n",
      "--------------------------------------------------\n",
      "Flop: ['2c', '4h', 'Kc']\n",
      "suitedness: 1, two_tone\n",
      "pairness: 0, unpaired\n",
      "connectedness: 0, disconnected\n",
      "high_low_texture: 0, low\n",
      "high_card: 11, K high\n",
      "--------------------------------------------------\n",
      "Flop: ['5s', '6h', 'Td']\n",
      "suitedness: 0, rainbow\n",
      "pairness: 0, unpaired\n",
      "connectedness: 1, two_connected\n",
      "high_low_texture: 0, low\n",
      "high_card: 8, T high\n",
      "--------------------------------------------------\n",
      "Flop: ['9h', 'Ac', 'Ah']\n",
      "suitedness: 1, two_tone\n",
      "pairness: 3, high_pair\n",
      "connectedness: 0, disconnected\n",
      "high_low_texture: 3, high\n",
      "high_card: 12, A high\n",
      "--------------------------------------------------\n",
      "Flop: ['3c', '3d', '8d']\n",
      "suitedness: 1, two_tone\n",
      "pairness: 1, low_pair\n",
      "connectedness: 0, disconnected\n",
      "high_low_texture: 0, low\n",
      "high_card: 6, 8 high\n",
      "--------------------------------------------------\n",
      "Flop: ['6d', '9s', 'Ah']\n",
      "suitedness: 0, rainbow\n",
      "pairness: 0, unpaired\n",
      "connectedness: 0, disconnected\n",
      "high_low_texture: 1, mixed\n",
      "high_card: 12, A high\n",
      "--------------------------------------------------\n",
      "Flop: ['5c', 'Tc', 'Td']\n",
      "suitedness: 1, two_tone\n",
      "pairness: 2, middle_pair\n",
      "connectedness: 0, disconnected\n",
      "high_low_texture: 2, middle\n",
      "high_card: 8, T high\n",
      "--------------------------------------------------\n"
     ]
    }
   ],
   "source": [
    "for flop_vec, label_vec in zip(ex_batch[0], ex_batch[1]):\n",
    "    print(f'Flop: {vector_to_hand(flop_vec)}')\n",
    "    for lab, attr_dict in data.label_dict.items():\n",
    "        val = label_vec[attr_dict['idx']]\n",
    "        print(f\"{lab}: {val}, {attr_dict[int(val)]}\")\n",
    "    print(\"-\"*50)"
   ]
  }
 ],
 "metadata": {
  "kernelspec": {
   "display_name": "ai_env",
   "language": "python",
   "name": "python3"
  },
  "language_info": {
   "codemirror_mode": {
    "name": "ipython",
    "version": 3
   },
   "file_extension": ".py",
   "mimetype": "text/x-python",
   "name": "python",
   "nbconvert_exporter": "python",
   "pygments_lexer": "ipython3",
   "version": "3.10.16"
  }
 },
 "nbformat": 4,
 "nbformat_minor": 2
}
